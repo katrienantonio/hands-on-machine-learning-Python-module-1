{
  "nbformat": 4,
  "nbformat_minor": 0,
  "metadata": {
    "colab": {
      "provenance": [],
      "toc_visible": true
    },
    "kernelspec": {
      "name": "python3",
      "display_name": "Python 3"
    },
    "language_info": {
      "name": "python"
    }
  },
  "cells": [
    {
      "cell_type": "markdown",
      "source": [
        "<center> <h1> <span style=\"color:black\"> Hands-on Machine Learning with Python  </h1> </center> \n",
        "<center> <h2> <span style=\"color:red\"> Module 1: Foundations of statistical and machine learning </h1> </center>"
      ],
      "metadata": {
        "id": "qZ5n5byYXTiL"
      }
    },
    {
      "cell_type": "markdown",
      "source": [
        "# Structure of the notebook\n",
        "\n",
        "* [Chapter 1 - Introduction](#one)\n",
        "    + [1.1 Objectives of the notebook](#one-one)\n",
        "    + [1.2 IT requirements](#one-two)\n",
        "\n",
        "* [Chapter 2 - Importing Python packages and data sets](#two)\n",
        "    + [2.1 Importing the packages](#two-one)\n",
        "    + [2.2 Importing the data sets](#two-two)\n",
        "    + [2.3 Exploring the structure of the data](#two-three)\n",
        "    + [2.4 Visualizing the data](#two-four)\n",
        "        \n",
        "* [Chapter 3 - Data splitting and resampling methods](#three)\n",
        "    + [3.1 With pandas](#three-one)\n",
        "    + [3.2 With scikit-learn](#three-two)\n",
        "    + [3.3 Creating k-folds](#three-three)\n",
        "    + [3.4 Tuning K in KNN regression](#three-four)\n",
        "\n",
        "* [Chapter 4 - Target and feature engineering: data preprocessing steps](#four)\n",
        "    + [4.1 Target engineering](#four-one)\n",
        "    + [4.2 Feature engineering](#four-two)\n",
        "    + [4.3 Putting it all together: pipelines](#four-three)\n",
        "\n",
        "    "
      ],
      "metadata": {
        "id": "aBBpUJrbXuQN"
      }
    },
    {
      "cell_type": "markdown",
      "source": [
        "# Chapter 1 - Introduction <a name=\"one\"></a>"
      ],
      "metadata": {
        "id": "dvVKHfRZYo64"
      }
    },
    {
      "cell_type": "markdown",
      "source": [
        "## 1.1 Objectives of the notebook <a name=\"one-one\"></a>\n",
        "The objectives of this notebook are to:\n",
        "1. Explain how to execute Python code in Google Colab, Jupyter notebooks or a Python IDE (like PyCharm or VSCode)\n",
        "2. Explore some important and widely used Python packages for data handling, scientific computation and machine learning\n",
        "2. Introduce the datasets that will be used throughout the workshop's Module 1 and 2\n",
        "3. Perform some simple but useful tasks on those datasets such as\n",
        "    - exploratory data analysis\n",
        "    - data splitting e.g., test and train, k-folds\n",
        "    - parameter tuning with cross-validation\n",
        "    - target and feature engineering."
      ],
      "metadata": {
        "id": "DsBOTE-PaaXp"
      }
    },
    {
      "cell_type": "markdown",
      "source": [
        "## 1.2 IT requirements <a name=\"one-two\"></a>\n",
        "\n",
        "First, we kindly ask you to download the notebook (`.ipynb`) dedicated to Module 1 of the Hands-on Machine Learning with Python. The notebook is available [here](https://github.com/katrienantonio/hands-on-machine-learning-Python-module-1), a GitHub repo dedicated to the workshop. Next to the notebook, we also have the plain coding instructions available as a Python script (`.py`), available as well. \n",
        "\n",
        "You then have the following options to join the coding demos and exercises covered during the workshop.\n",
        "\n",
        "**Google Colab - default**\n",
        "\n",
        "Google Colaboratory, or “Colab” for short, allows you to write and execute Python in your browser. Having a Google account you should be able to open the notebook and to run the Python code cells. \n",
        "\n",
        "To open the notebook on Google Colab you can either follow the direct link or you perform the following steps: \n",
        "1. go to Google Colab :  https://colab.research.google.com\n",
        "2. click on Upload or use File > Upload notebook and upload your local copy of the notebook.\n",
        "\n",
        "To execute the code in a code cell, select it with a click and then either press the play button to the left of the code, or use the keyboard shortcut \"Command/Ctrl+Enter\". To edit the code, just click the cell and start editing. Watch [Introduction to Colab](https://www.youtube.com/watch?v=inN8seMm7UI) to learn more.\n",
        "\n",
        "In Colab many Python packages are already available by default. If a packages is missing it can be installed as explained [here](https://colab.research.google.com/notebooks/snippets/importing_libraries.ipynb). We will demonstrate later on how to do this.\n",
        "\n",
        "**Local installation - optional**\n",
        "\n",
        "_The Anaconda platform_\n",
        "\n",
        "We recommend obtaining your local installation of Python via the distribution platform Anaconda. Here you should\n",
        "\n",
        "- download Anaconda at https://www.anaconda.com/distribution/#download-section, select the version for Python 3.8 and make sure to pick the right operating system (top of the page: select Windows, macOS or Linux)\n",
        "\n",
        "- install Anaconda; this is straightforward after launching the installer, but (in case you are in doubt) some instructions are at https://docs.anaconda.com/anaconda/install/windows/.\n",
        "\n",
        "_Getting packages via pip_\n",
        "\n",
        "In Anaconda many Python packages are already available by default. If a package is missing it can be installed by typing `pip install some-package-name` in the Anaconda command prompt. Many distributions of Python have pip installed by default, but if it is missing you have to install pip from [here](https://pip.pypa.io/en/stable/installing/). pip is the standard package manager for Python. It is used to install Python packages and their dependencies in a secure manner and connects to an online repository of public packages, called the Python Package Index (PyPi or the Cheese Shop, analogous to what CRAN is for R). The name pip is an acronym for _Pip Installs Packages_. \n",
        "\n",
        "_Jupyter notebook_ \n",
        "\n",
        "[Jupyter notebook](https://jupyter.org/) is a web application that allows to edit and run notebook documents via a web browser. A notebook allows you to combine text, images and executable code in a single document. Jupyter notebook supports over 40 programming languages, including Python.  \n",
        "To open the notebook you have downloaded simply go as follows: \n",
        "1. Launch Anaconda\n",
        "2. Launch Jupiter Notebook from the Anaconda main screen\n",
        "3. Open the notebook file stored on your computer.\n",
        "\n",
        "_A Python IDE_\n",
        "\n",
        "You can execute Python code in a Python script (`.py`) using an IDE such as PyCharm or a code editor like VSCode. \n"
      ],
      "metadata": {
        "id": "h6kjq9hDaUc7"
      }
    },
    {
      "cell_type": "markdown",
      "source": [
        "# Chapter 2 - Importing Python packages and datasets <a name=\"two\"></a>\n",
        "\n"
      ],
      "metadata": {
        "id": "0CRqxamOla41"
      }
    },
    {
      "cell_type": "markdown",
      "source": [
        "## 2.1 Importing the packages <a name=\"two-one\"></a>\n",
        "First we can check the version of Python that we are currently using. The below instructions import the `sys` module which contains function interacting directly with the Python interpreter (see [here](https://docs.python.org/3/library/sys.html)). The function `sys.version` then returns a string containing the version number of the Python interpreter."
      ],
      "metadata": {
        "id": "HnCxjz2QlxZ6"
      }
    },
    {
      "cell_type": "code",
      "source": [
        "import sys\n",
        "print (sys.version)"
      ],
      "metadata": {
        "colab": {
          "base_uri": "https://localhost:8080/"
        },
        "id": "Q1aupiXQmaoQ",
        "outputId": "b940c733-b8a8-4bd5-da71-9dee447f37f0"
      },
      "execution_count": null,
      "outputs": [
        {
          "output_type": "stream",
          "name": "stdout",
          "text": [
            "3.8.10 (default, Nov 14 2022, 12:59:47) \n",
            "[GCC 9.4.0]\n"
          ]
        }
      ]
    },
    {
      "cell_type": "markdown",
      "source": [
        "As mentioned before, the Google Colab environment comes with a lot of (popular) Python packages pre-installed. You can display the complete list of installed packages as follows, see the pip documentation [here](https://pip.pypa.io/en/stable/cli/pip_list/). \n",
        "\n",
        "`pip` is a shell tool and hence the pip command should not be executed by the Python interpreter. An exclamation mark is added in Google Colab to execute a command in the underlying shell."
      ],
      "metadata": {
        "id": "3t7RYGu_oMRP"
      }
    },
    {
      "cell_type": "code",
      "source": [
        "!pip list "
      ],
      "metadata": {
        "colab": {
          "base_uri": "https://localhost:8080/"
        },
        "id": "YuS0Bvpan_ph",
        "outputId": "bc81d98c-06a6-4c51-c09d-35b2e1674a84"
      },
      "execution_count": null,
      "outputs": [
        {
          "output_type": "stream",
          "name": "stdout",
          "text": [
            "Package                       Version\n",
            "----------------------------- --------------------\n",
            "absl-py                       1.4.0\n",
            "aeppl                         0.0.33\n",
            "aesara                        2.7.9\n",
            "aiohttp                       3.8.4\n",
            "aiosignal                     1.3.1\n",
            "alabaster                     0.7.13\n",
            "albumentations                1.2.1\n",
            "altair                        4.2.2\n",
            "appdirs                       1.4.4\n",
            "argon2-cffi                   21.3.0\n",
            "argon2-cffi-bindings          21.2.0\n",
            "arviz                         0.12.1\n",
            "astor                         0.8.1\n",
            "astropy                       4.3.1\n",
            "astunparse                    1.6.3\n",
            "async-timeout                 4.0.2\n",
            "atomicwrites                  1.4.1\n",
            "attrs                         22.2.0\n",
            "audioread                     3.0.0\n",
            "autograd                      1.5\n",
            "Babel                         2.12.1\n",
            "backcall                      0.2.0\n",
            "backports.zoneinfo            0.2.1\n",
            "beautifulsoup4                4.6.3\n",
            "bleach                        6.0.0\n",
            "blis                          0.7.9\n",
            "bokeh                         2.4.3\n",
            "branca                        0.6.0\n",
            "bs4                           0.0.1\n",
            "CacheControl                  0.12.11\n",
            "cachetools                    5.3.0\n",
            "catalogue                     2.0.8\n",
            "certifi                       2022.12.7\n",
            "cffi                          1.15.1\n",
            "cftime                        1.6.2\n",
            "chardet                       4.0.0\n",
            "charset-normalizer            3.0.1\n",
            "click                         8.1.3\n",
            "clikit                        0.6.2\n",
            "cloudpickle                   2.2.1\n",
            "cmake                         3.22.6\n",
            "cmdstanpy                     1.1.0\n",
            "colorcet                      3.0.1\n",
            "colorlover                    0.3.0\n",
            "community                     1.0.0b1\n",
            "confection                    0.0.4\n",
            "cons                          0.4.5\n",
            "contextlib2                   0.5.5\n",
            "convertdate                   2.4.0\n",
            "crashtest                     0.3.1\n",
            "crcmod                        1.7\n",
            "cufflinks                     0.17.3\n",
            "cvxopt                        1.3.0\n",
            "cvxpy                         1.2.3\n",
            "cycler                        0.11.0\n",
            "cymem                         2.0.7\n",
            "Cython                        0.29.33\n",
            "dask                          2022.2.1\n",
            "datascience                   0.17.6\n",
            "db-dtypes                     1.0.5\n",
            "dbus-python                   1.2.16\n",
            "debugpy                       1.6.4\n",
            "decorator                     4.4.2\n",
            "defusedxml                    0.7.1\n",
            "distributed                   2022.2.1\n",
            "dlib                          19.24.0\n",
            "dm-tree                       0.1.8\n",
            "dnspython                     2.3.0\n",
            "docutils                      0.16\n",
            "dopamine-rl                   1.0.5\n",
            "earthengine-api               0.1.342\n",
            "easydict                      1.10\n",
            "ecos                          2.0.12\n",
            "editdistance                  0.5.3\n",
            "en-core-web-sm                3.4.1\n",
            "entrypoints                   0.4\n",
            "ephem                         4.1.4\n",
            "et-xmlfile                    1.1.0\n",
            "etils                         1.0.0\n",
            "etuples                       0.3.8\n",
            "fa2                           0.3.5\n",
            "fastai                        2.7.11\n",
            "fastcore                      1.5.28\n",
            "fastdownload                  0.0.7\n",
            "fastdtw                       0.3.4\n",
            "fastjsonschema                2.16.3\n",
            "fastprogress                  1.0.3\n",
            "fastrlock                     0.8.1\n",
            "feather-format                0.4.1\n",
            "filelock                      3.9.0\n",
            "firebase-admin                5.3.0\n",
            "fix-yahoo-finance             0.0.22\n",
            "Flask                         2.2.3\n",
            "flatbuffers                   23.1.21\n",
            "folium                        0.12.1.post1\n",
            "fonttools                     4.38.0\n",
            "frozenlist                    1.3.3\n",
            "fsspec                        2023.1.0\n",
            "future                        0.16.0\n",
            "gast                          0.4.0\n",
            "GDAL                          3.3.2\n",
            "gdown                         4.4.0\n",
            "gensim                        3.6.0\n",
            "geographiclib                 1.52\n",
            "geopy                         1.17.0\n",
            "gin-config                    0.5.0\n",
            "glob2                         0.7\n",
            "google                        2.0.3\n",
            "google-api-core               2.11.0\n",
            "google-api-python-client      2.70.0\n",
            "google-auth                   2.16.1\n",
            "google-auth-httplib2          0.1.0\n",
            "google-auth-oauthlib          0.4.6\n",
            "google-cloud-bigquery         3.4.2\n",
            "google-cloud-bigquery-storage 2.18.1\n",
            "google-cloud-core             2.3.2\n",
            "google-cloud-datastore        2.11.1\n",
            "google-cloud-firestore        2.7.3\n",
            "google-cloud-language         2.6.1\n",
            "google-cloud-storage          2.7.0\n",
            "google-cloud-translate        3.8.4\n",
            "google-colab                  1.0.0\n",
            "google-crc32c                 1.5.0\n",
            "google-pasta                  0.2.0\n",
            "google-resumable-media        2.4.1\n",
            "googleapis-common-protos      1.58.0\n",
            "googledrivedownloader         0.4\n",
            "graphviz                      0.10.1\n",
            "greenlet                      2.0.2\n",
            "grpcio                        1.51.3\n",
            "grpcio-status                 1.48.2\n",
            "gspread                       3.4.2\n",
            "gspread-dataframe             3.0.8\n",
            "gym                           0.25.2\n",
            "gym-notices                   0.0.8\n",
            "h5py                          3.1.0\n",
            "HeapDict                      1.0.1\n",
            "hijri-converter               2.2.4\n",
            "holidays                      0.20\n",
            "holoviews                     1.14.9\n",
            "html5lib                      1.0.1\n",
            "httpimport                    0.5.18\n",
            "httplib2                      0.17.4\n",
            "httpstan                      4.6.1\n",
            "humanize                      0.5.1\n",
            "hyperopt                      0.1.2\n",
            "idna                          2.10\n",
            "imageio                       2.9.0\n",
            "imagesize                     1.4.1\n",
            "imbalanced-learn              0.8.1\n",
            "imblearn                      0.0\n",
            "imgaug                        0.4.0\n",
            "importlib-metadata            6.0.0\n",
            "importlib-resources           5.12.0\n",
            "imutils                       0.5.4\n",
            "inflect                       2.1.0\n",
            "intel-openmp                  2023.0.0\n",
            "ipykernel                     5.3.4\n",
            "ipython                       7.9.0\n",
            "ipython-genutils              0.2.0\n",
            "ipython-sql                   0.3.9\n",
            "ipywidgets                    7.7.1\n",
            "itsdangerous                  2.1.2\n",
            "jax                           0.4.4\n",
            "jaxlib                        0.4.4+cuda11.cudnn82\n",
            "jieba                         0.42.1\n",
            "Jinja2                        3.1.2\n",
            "joblib                        1.2.0\n",
            "jsonschema                    4.3.3\n",
            "jupyter-client                6.1.12\n",
            "jupyter-console               6.1.0\n",
            "jupyter_core                  5.2.0\n",
            "jupyterlab-pygments           0.2.2\n",
            "jupyterlab-widgets            3.0.5\n",
            "kaggle                        1.5.12\n",
            "keras                         2.11.0\n",
            "keras-vis                     0.4.1\n",
            "kiwisolver                    1.4.4\n",
            "korean-lunar-calendar         0.3.1\n",
            "langcodes                     3.3.0\n",
            "libclang                      15.0.6.1\n",
            "librosa                       0.8.1\n",
            "lightgbm                      2.2.3\n",
            "llvmlite                      0.39.1\n",
            "lmdb                          0.99\n",
            "locket                        1.0.0\n",
            "logical-unification           0.4.5\n",
            "LunarCalendar                 0.0.9\n",
            "lxml                          4.9.2\n",
            "Markdown                      3.4.1\n",
            "MarkupSafe                    2.1.2\n",
            "marshmallow                   3.19.0\n",
            "matplotlib                    3.5.3\n",
            "matplotlib-venn               0.11.9\n",
            "miniKanren                    1.0.3\n",
            "missingno                     0.5.2\n",
            "mistune                       0.8.4\n",
            "mizani                        0.8.1\n",
            "mkl                           2019.0\n",
            "mlxtend                       0.14.0\n",
            "more-itertools                9.1.0\n",
            "moviepy                       0.2.3.5\n",
            "mpmath                        1.2.1\n",
            "msgpack                       1.0.4\n",
            "multidict                     6.0.4\n",
            "multipledispatch              0.6.0\n",
            "multitasking                  0.0.11\n",
            "murmurhash                    1.0.9\n",
            "music21                       5.5.0\n",
            "natsort                       5.5.0\n",
            "nbclient                      0.7.2\n",
            "nbconvert                     6.5.4\n",
            "nbformat                      5.7.3\n",
            "netCDF4                       1.6.2\n",
            "networkx                      3.0\n",
            "nibabel                       3.0.2\n",
            "nltk                          3.7\n",
            "notebook                      6.3.0\n",
            "numba                         0.56.4\n",
            "numexpr                       2.8.4\n",
            "numpy                         1.22.4\n",
            "oauth2client                  4.1.3\n",
            "oauthlib                      3.2.2\n",
            "opencv-contrib-python         4.6.0.66\n",
            "opencv-python                 4.6.0.66\n",
            "opencv-python-headless        4.7.0.72\n",
            "openpyxl                      3.0.10\n",
            "opt-einsum                    3.3.0\n",
            "osqp                          0.6.2.post0\n",
            "packaging                     23.0\n",
            "palettable                    3.3.0\n",
            "pandas                        1.3.5\n",
            "pandas-datareader             0.9.0\n",
            "pandas-gbq                    0.17.9\n",
            "pandas-profiling              1.4.1\n",
            "pandocfilters                 1.5.0\n",
            "panel                         0.14.3\n",
            "param                         1.12.3\n",
            "parso                         0.8.3\n",
            "partd                         1.3.0\n",
            "pastel                        0.2.1\n",
            "pathlib                       1.0.1\n",
            "pathy                         0.10.1\n",
            "patsy                         0.5.3\n",
            "pep517                        0.13.0\n",
            "pexpect                       4.8.0\n",
            "pickleshare                   0.7.5\n",
            "Pillow                        8.4.0\n",
            "pip                           22.0.4\n",
            "pip-tools                     6.6.2\n",
            "platformdirs                  3.0.0\n",
            "plotly                        5.5.0\n",
            "plotnine                      0.10.1\n",
            "pluggy                        0.7.1\n",
            "pooch                         1.7.0\n",
            "portpicker                    1.3.9\n",
            "prefetch-generator            1.0.3\n",
            "preshed                       3.0.8\n",
            "prettytable                   3.6.0\n",
            "progressbar2                  3.38.0\n",
            "prometheus-client             0.16.0\n",
            "promise                       2.3\n",
            "prompt-toolkit                2.0.10\n",
            "prophet                       1.1.2\n",
            "proto-plus                    1.22.2\n",
            "protobuf                      3.19.6\n",
            "psutil                        5.4.8\n",
            "psycopg2                      2.9.5\n",
            "ptyprocess                    0.7.0\n",
            "py                            1.11.0\n",
            "pyarrow                       9.0.0\n",
            "pyasn1                        0.4.8\n",
            "pyasn1-modules                0.2.8\n",
            "pycocotools                   2.0.6\n",
            "pycparser                     2.21\n",
            "pyct                          0.5.0\n",
            "pydantic                      1.10.5\n",
            "pydata-google-auth            1.7.0\n",
            "pydot                         1.3.0\n",
            "pydot-ng                      2.0.0\n",
            "pydotplus                     2.0.2\n",
            "PyDrive                       1.3.1\n",
            "pyerfa                        2.0.0.1\n",
            "Pygments                      2.6.1\n",
            "PyGObject                     3.36.0\n",
            "pylev                         1.4.0\n",
            "pymc                          4.1.4\n",
            "PyMeeus                       0.5.12\n",
            "pymongo                       4.3.3\n",
            "pymystem3                     0.2.0\n",
            "PyOpenGL                      3.1.6\n",
            "pyparsing                     3.0.9\n",
            "pyrsistent                    0.19.3\n",
            "pysimdjson                    3.2.0\n",
            "PySocks                       1.7.1\n",
            "pystan                        3.3.0\n",
            "pytest                        3.6.4\n",
            "python-apt                    2.0.1\n",
            "python-dateutil               2.8.2\n",
            "python-louvain                0.16\n",
            "python-slugify                8.0.1\n",
            "python-utils                  3.5.2\n",
            "pytz                          2022.7.1\n",
            "pyviz-comms                   2.2.1\n",
            "PyWavelets                    1.4.1\n",
            "PyYAML                        6.0\n",
            "pyzmq                         23.2.1\n",
            "qdldl                         0.1.5.post3\n",
            "qudida                        0.0.4\n",
            "regex                         2022.6.2\n",
            "requests                      2.25.1\n",
            "requests-oauthlib             1.3.1\n",
            "requests-unixsocket           0.2.0\n",
            "resampy                       0.4.2\n",
            "rpy2                          3.5.5\n",
            "rsa                           4.9\n",
            "scikit-image                  0.19.3\n",
            "scikit-learn                  1.2.1\n",
            "scipy                         1.10.1\n",
            "screen-resolution-extra       0.0.0\n",
            "scs                           3.2.2\n",
            "seaborn                       0.11.2\n",
            "Send2Trash                    1.8.0\n",
            "setuptools                    57.4.0\n",
            "shapely                       2.0.1\n",
            "six                           1.15.0\n",
            "sklearn-pandas                2.2.0\n",
            "smart-open                    6.3.0\n",
            "snowballstemmer               2.2.0\n",
            "sortedcontainers              2.4.0\n",
            "soundfile                     0.12.1\n",
            "spacy                         3.4.4\n",
            "spacy-legacy                  3.0.12\n",
            "spacy-loggers                 1.0.4\n",
            "Sphinx                        3.5.4\n",
            "sphinxcontrib-applehelp       1.0.4\n",
            "sphinxcontrib-devhelp         1.0.2\n",
            "sphinxcontrib-htmlhelp        2.0.1\n",
            "sphinxcontrib-jsmath          1.0.1\n",
            "sphinxcontrib-qthelp          1.0.3\n",
            "sphinxcontrib-serializinghtml 1.1.5\n",
            "SQLAlchemy                    1.4.46\n",
            "sqlparse                      0.4.3\n",
            "srsly                         2.4.6\n",
            "statsmodels                   0.13.5\n",
            "sympy                         1.7.1\n",
            "tables                        3.7.0\n",
            "tabulate                      0.8.10\n",
            "tblib                         1.7.0\n",
            "tenacity                      8.2.2\n",
            "tensorboard                   2.11.2\n",
            "tensorboard-data-server       0.6.1\n",
            "tensorboard-plugin-wit        1.8.1\n",
            "tensorflow                    2.11.0\n",
            "tensorflow-datasets           4.8.3\n",
            "tensorflow-estimator          2.11.0\n",
            "tensorflow-gcs-config         2.11.0\n",
            "tensorflow-hub                0.12.0\n",
            "tensorflow-io-gcs-filesystem  0.31.0\n",
            "tensorflow-metadata           1.12.0\n",
            "tensorflow-probability        0.19.0\n",
            "termcolor                     2.2.0\n",
            "terminado                     0.13.3\n",
            "text-unidecode                1.3\n",
            "textblob                      0.15.3\n",
            "thinc                         8.1.7\n",
            "threadpoolctl                 3.1.0\n",
            "tifffile                      2023.2.27\n",
            "tinycss2                      1.2.1\n",
            "toml                          0.10.2\n",
            "tomli                         2.0.1\n",
            "toolz                         0.12.0\n",
            "torch                         1.13.1+cu116\n",
            "torchaudio                    0.13.1+cu116\n",
            "torchsummary                  1.5.1\n",
            "torchtext                     0.14.1\n",
            "torchvision                   0.14.1+cu116\n",
            "tornado                       6.2\n",
            "tqdm                          4.64.1\n",
            "traitlets                     5.7.1\n",
            "tweepy                        3.10.0\n",
            "typeguard                     2.7.1\n",
            "typer                         0.7.0\n",
            "typing_extensions             4.5.0\n",
            "tzlocal                       1.5.1\n",
            "uritemplate                   4.1.1\n",
            "urllib3                       1.26.14\n",
            "vega-datasets                 0.9.0\n",
            "wasabi                        0.10.1\n",
            "wcwidth                       0.2.6\n",
            "webargs                       8.2.0\n",
            "webencodings                  0.5.1\n",
            "Werkzeug                      2.2.3\n",
            "wheel                         0.38.4\n",
            "widgetsnbextension            3.6.2\n",
            "wordcloud                     1.8.2.2\n",
            "wrapt                         1.15.0\n",
            "xarray                        2022.12.0\n",
            "xarray-einstats               0.5.1\n",
            "xgboost                       1.7.4\n",
            "xkit                          0.0.0\n",
            "xlrd                          1.2.0\n",
            "xlwt                          1.3.0\n",
            "yarl                          1.8.2\n",
            "yellowbrick                   1.5\n",
            "zict                          2.2.0\n",
            "zipp                          3.15.0\n"
          ]
        }
      ]
    },
    {
      "cell_type": "markdown",
      "source": [
        "You can also search through this list with the following instruction:"
      ],
      "metadata": {
        "id": "e_pHFanaopes"
      }
    },
    {
      "cell_type": "code",
      "source": [
        "!pip list | grep pandas"
      ],
      "metadata": {
        "colab": {
          "base_uri": "https://localhost:8080/"
        },
        "id": "z7XySFInokPc",
        "outputId": "d22f3d9b-d20f-4362-ffb2-accb4b6c79e7"
      },
      "execution_count": null,
      "outputs": [
        {
          "output_type": "stream",
          "name": "stdout",
          "text": [
            "pandas                        1.3.5\n",
            "pandas-datareader             0.9.0\n",
            "pandas-gbq                    0.17.9\n",
            "pandas-profiling              1.4.1\n",
            "sklearn-pandas                2.2.0\n"
          ]
        }
      ]
    },
    {
      "cell_type": "markdown",
      "source": [
        "We know upfront that we will have to use e.g. the `pandas` packages many times. To improve the code readability, we will abbreviate `pandas` as `pd` via the command `import pandas as pd`. This means that we will be able to use a `pandas` function from now on using `pd.name_of_a_function`. Simple and easy. Find out more about the `pandas` package for data analysis and data handling [here](https://pandas.pydata.org/). "
      ],
      "metadata": {
        "id": "m8WwMPGxrLHd"
      }
    },
    {
      "cell_type": "code",
      "metadata": {
        "id": "zsss2CPf1WSn"
      },
      "source": [
        "import pandas as pd"
      ],
      "execution_count": null,
      "outputs": []
    },
    {
      "cell_type": "markdown",
      "source": [
        "**Your turn!**\n",
        "\n",
        "* Import the package `numpy` and refer to it as `np` from now on. Read more [here](https://numpy.org/) about this package for scientific computation in Python. \n",
        "* Import the package `seaborn` and refer to it as `sns` from now on. Read more about this package for statistical data visualisation [here](https://seaborn.pydata.org/index.html). \n",
        "* Import `matplotlib.pyplot` and refer to it as `plt`. Read more [here](https://matplotlib.org/stable/tutorials/introductory/pyplot.html) about this collection of plotting functions. "
      ],
      "metadata": {
        "id": "3E3RPz-DsR9d"
      }
    },
    {
      "cell_type": "code",
      "source": [
        "# add your code here"
      ],
      "metadata": {
        "id": "AXHF4M_dbsMj"
      },
      "execution_count": null,
      "outputs": []
    },
    {
      "cell_type": "markdown",
      "source": [
        "Some packages may not be available in Google Colab. Let's see what happens when we ask to load the `feature_engine` package, with functions for feature engineering and selection, see [here](https://feature-engine.trainindata.com/en/latest/). (Remove the # from the next code chunk and see what happens.)"
      ],
      "metadata": {
        "id": "V-wvwZGTunzx"
      }
    },
    {
      "cell_type": "code",
      "source": [
        "# import feature_engine"
      ],
      "metadata": {
        "id": "n5YZh3DEu1v6"
      },
      "execution_count": null,
      "outputs": []
    },
    {
      "cell_type": "markdown",
      "source": [
        "Since the `feature_engine` package is not available yet, we have to install it using `pip`. "
      ],
      "metadata": {
        "id": "mOhbxUEr3XlA"
      }
    },
    {
      "cell_type": "code",
      "source": [
        "!pip install feature_engine"
      ],
      "metadata": {
        "colab": {
          "base_uri": "https://localhost:8080/"
        },
        "id": "DZkb54mwuzeA",
        "outputId": "b1f85941-b393-409b-9e0f-b29747569166"
      },
      "execution_count": null,
      "outputs": [
        {
          "output_type": "stream",
          "name": "stdout",
          "text": [
            "Looking in indexes: https://pypi.org/simple, https://us-python.pkg.dev/colab-wheels/public/simple/\n",
            "Collecting feature_engine\n",
            "  Downloading feature_engine-1.5.2-py2.py3-none-any.whl (290 kB)\n",
            "\u001b[2K     \u001b[90m━━━━━━━━━━━━━━━━━━━━━━━━━━━━━━━━━━━━━━\u001b[0m \u001b[32m290.0/290.0 KB\u001b[0m \u001b[31m11.9 MB/s\u001b[0m eta \u001b[36m0:00:00\u001b[0m\n",
            "\u001b[?25hRequirement already satisfied: scipy>=1.4.1 in /usr/local/lib/python3.8/dist-packages (from feature_engine) (1.10.1)\n",
            "Requirement already satisfied: statsmodels>=0.11.1 in /usr/local/lib/python3.8/dist-packages (from feature_engine) (0.13.5)\n",
            "Requirement already satisfied: scikit-learn>=1.0.0 in /usr/local/lib/python3.8/dist-packages (from feature_engine) (1.2.1)\n",
            "Requirement already satisfied: pandas>=1.0.3 in /usr/local/lib/python3.8/dist-packages (from feature_engine) (1.3.5)\n",
            "Requirement already satisfied: numpy>=1.18.2 in /usr/local/lib/python3.8/dist-packages (from feature_engine) (1.22.4)\n",
            "Requirement already satisfied: python-dateutil>=2.7.3 in /usr/local/lib/python3.8/dist-packages (from pandas>=1.0.3->feature_engine) (2.8.2)\n",
            "Requirement already satisfied: pytz>=2017.3 in /usr/local/lib/python3.8/dist-packages (from pandas>=1.0.3->feature_engine) (2022.7.1)\n",
            "Requirement already satisfied: joblib>=1.1.1 in /usr/local/lib/python3.8/dist-packages (from scikit-learn>=1.0.0->feature_engine) (1.2.0)\n",
            "Requirement already satisfied: threadpoolctl>=2.0.0 in /usr/local/lib/python3.8/dist-packages (from scikit-learn>=1.0.0->feature_engine) (3.1.0)\n",
            "Requirement already satisfied: packaging>=21.3 in /usr/local/lib/python3.8/dist-packages (from statsmodels>=0.11.1->feature_engine) (23.0)\n",
            "Requirement already satisfied: patsy>=0.5.2 in /usr/local/lib/python3.8/dist-packages (from statsmodels>=0.11.1->feature_engine) (0.5.3)\n",
            "Requirement already satisfied: six in /usr/local/lib/python3.8/dist-packages (from patsy>=0.5.2->statsmodels>=0.11.1->feature_engine) (1.15.0)\n",
            "Installing collected packages: feature_engine\n",
            "Successfully installed feature_engine-1.5.2\n"
          ]
        }
      ]
    },
    {
      "cell_type": "code",
      "source": [
        "import feature_engine"
      ],
      "metadata": {
        "id": "0v0petkRvi4R"
      },
      "execution_count": null,
      "outputs": []
    },
    {
      "cell_type": "markdown",
      "source": [
        "Some packages, such as `scikit-learn` (also referred to as `sklearn`), are rather large and you may only require a limited use in your project. You can then import only specific functions e.g., `train_test_split` from the `model_selection` functions in `sklearn` (see [here](https://scikit-learn.org/stable/model_selection.html#model-selection)) as follows:"
      ],
      "metadata": {
        "id": "VjR3fg3v3lYB"
      }
    },
    {
      "cell_type": "code",
      "source": [
        "from sklearn.model_selection import train_test_split\n",
        "from sklearn.model_selection import RepeatedStratifiedKFold\n",
        "from sklearn.model_selection import KFold"
      ],
      "metadata": {
        "id": "691V-QJfDWbU"
      },
      "execution_count": null,
      "outputs": []
    },
    {
      "cell_type": "markdown",
      "source": [
        "This approach has a few important benefits: only a limited number of functions (and their dependencies) are loaded and we can just call the function by its name."
      ],
      "metadata": {
        "id": "It3DVk5rGB7M"
      }
    },
    {
      "cell_type": "markdown",
      "source": [
        "**Your turn!**\n",
        "\n",
        "* Check the `sklearn.model_selection` documentation [here](https://scikit-learn.org/stable/model_selection.html#model-selection) and explain what the functions `train_test_split`, `KFold` etc are doing.\n",
        "* Write code to load `LinearRegression` from the `linear_model` module in `sklearn`."
      ],
      "metadata": {
        "id": "nfWPHmdeEbBi"
      }
    },
    {
      "cell_type": "code",
      "source": [
        "# add your code here"
      ],
      "metadata": {
        "id": "iVsVFw36byBo"
      },
      "execution_count": null,
      "outputs": []
    },
    {
      "cell_type": "markdown",
      "source": [
        "## 2.2 Importing the data sets<a name=\"two-two\"></a>\n",
        "Throughout Module 1 and 2 of this workshop we will work with two data sets: \n",
        "* the famous Ames Iowa housing dataset with 2,930 records on house sale price (the target) and 80 predictors \n",
        "* an MTPL claims data set with the number of claims, the corresponding total claim size and a bunch of risk factors on 163,231 policyholders. \n",
        "\n",
        "If we want to load these files in Python, we can use the function `read_csv()` from the `pandas` package. "
      ],
      "metadata": {
        "id": "cqyZg6oZGiO5"
      }
    },
    {
      "cell_type": "code",
      "source": [
        "ames_python = pd.read_csv(\"https://katrienantonio.github.io/hands-on-machine-learning-R-module-1/data/ames_python.csv\")\n",
        "mtpl_python = pd.read_csv(\"https://katrienantonio.github.io/hands-on-machine-learning-R-module-1/data/PC_data.txt\", delimiter = \"\\t\")"
      ],
      "metadata": {
        "id": "1izHZUr8HTuC"
      },
      "execution_count": null,
      "outputs": []
    },
    {
      "cell_type": "markdown",
      "source": [
        "## 2.3 Exploring the structure of the data sets <a name=\"two-three\"></a>"
      ],
      "metadata": {
        "id": "qF4Crl1_KeFq"
      }
    },
    {
      "cell_type": "markdown",
      "source": [
        "`pd.read_csv` returns an object of type `pandas.core.frame.DataFrame`. You can find the type of an object by executing `object.__class__`"
      ],
      "metadata": {
        "id": "aaAuswkcXviC"
      }
    },
    {
      "cell_type": "code",
      "source": [
        "ames_python.__class__"
      ],
      "metadata": {
        "id": "ufW6YztnXqxB",
        "outputId": "13b07daf-3905-4926-9e22-03b2b0eea1a2",
        "colab": {
          "base_uri": "https://localhost:8080/"
        }
      },
      "execution_count": null,
      "outputs": [
        {
          "output_type": "execute_result",
          "data": {
            "text/plain": [
              "pandas.core.frame.DataFrame"
            ]
          },
          "metadata": {},
          "execution_count": 12
        }
      ]
    },
    {
      "cell_type": "markdown",
      "source": [
        "A class is a collection of variables and methods (functions) to manipulate these variables. Class variables and methods are accessed by the dot operator, with syntax: `object.variable` and `object.method()`.\n",
        "\n",
        "Variables are data elements that are precomputed in the class, whereas methods transform the stored data in a class.\n",
        "\n",
        "The `pandas.core.frame.DataFrame` contains several variables and methods for inspecting and manipulating data frames. Let's explore some of them!"
      ],
      "metadata": {
        "id": "YtVhIsYhYRKi"
      }
    },
    {
      "cell_type": "code",
      "metadata": {
        "id": "ojTKDeee1WSq",
        "colab": {
          "base_uri": "https://localhost:8080/",
          "height": 317
        },
        "outputId": "fc8a2e86-6b18-4ad7-90fc-534c4c64c9b0"
      },
      "source": [
        "ames_python.head()\n"
      ],
      "execution_count": null,
      "outputs": [
        {
          "output_type": "execute_result",
          "data": {
            "text/plain": [
              "   Unnamed: 0                          MS_SubClass                 MS_Zoning  \\\n",
              "0           1  One_Story_1946_and_Newer_All_Styles   Residential_Low_Density   \n",
              "1           2  One_Story_1946_and_Newer_All_Styles  Residential_High_Density   \n",
              "2           3  One_Story_1946_and_Newer_All_Styles   Residential_Low_Density   \n",
              "3           4  One_Story_1946_and_Newer_All_Styles   Residential_Low_Density   \n",
              "4           5             Two_Story_1946_and_Newer   Residential_Low_Density   \n",
              "\n",
              "   Lot_Frontage  Lot_Area Street            Alley           Lot_Shape  \\\n",
              "0           141     31770   Pave  No_Alley_Access  Slightly_Irregular   \n",
              "1            80     11622   Pave  No_Alley_Access             Regular   \n",
              "2            81     14267   Pave  No_Alley_Access  Slightly_Irregular   \n",
              "3            93     11160   Pave  No_Alley_Access             Regular   \n",
              "4            74     13830   Pave  No_Alley_Access  Slightly_Irregular   \n",
              "\n",
              "  Land_Contour Utilities  ...            Fence Misc_Feature Misc_Val Mo_Sold  \\\n",
              "0          Lvl    AllPub  ...         No_Fence         None        0       5   \n",
              "1          Lvl    AllPub  ...  Minimum_Privacy         None        0       6   \n",
              "2          Lvl    AllPub  ...         No_Fence         Gar2    12500       6   \n",
              "3          Lvl    AllPub  ...         No_Fence         None        0       4   \n",
              "4          Lvl    AllPub  ...  Minimum_Privacy         None        0       3   \n",
              "\n",
              "  Year_Sold Sale_Type Sale_Condition Sale_Price  Longitude   Latitude  \n",
              "0      2010       WD          Normal     215000 -93.619754  42.054035  \n",
              "1      2010       WD          Normal     105000 -93.619756  42.053014  \n",
              "2      2010       WD          Normal     172000 -93.619387  42.052659  \n",
              "3      2010       WD          Normal     244000 -93.617320  42.051245  \n",
              "4      2010       WD          Normal     189900 -93.638933  42.060899  \n",
              "\n",
              "[5 rows x 82 columns]"
            ],
            "text/html": [
              "\n",
              "  <div id=\"df-acd6d516-004f-4f6d-a865-a781dded3995\">\n",
              "    <div class=\"colab-df-container\">\n",
              "      <div>\n",
              "<style scoped>\n",
              "    .dataframe tbody tr th:only-of-type {\n",
              "        vertical-align: middle;\n",
              "    }\n",
              "\n",
              "    .dataframe tbody tr th {\n",
              "        vertical-align: top;\n",
              "    }\n",
              "\n",
              "    .dataframe thead th {\n",
              "        text-align: right;\n",
              "    }\n",
              "</style>\n",
              "<table border=\"1\" class=\"dataframe\">\n",
              "  <thead>\n",
              "    <tr style=\"text-align: right;\">\n",
              "      <th></th>\n",
              "      <th>Unnamed: 0</th>\n",
              "      <th>MS_SubClass</th>\n",
              "      <th>MS_Zoning</th>\n",
              "      <th>Lot_Frontage</th>\n",
              "      <th>Lot_Area</th>\n",
              "      <th>Street</th>\n",
              "      <th>Alley</th>\n",
              "      <th>Lot_Shape</th>\n",
              "      <th>Land_Contour</th>\n",
              "      <th>Utilities</th>\n",
              "      <th>...</th>\n",
              "      <th>Fence</th>\n",
              "      <th>Misc_Feature</th>\n",
              "      <th>Misc_Val</th>\n",
              "      <th>Mo_Sold</th>\n",
              "      <th>Year_Sold</th>\n",
              "      <th>Sale_Type</th>\n",
              "      <th>Sale_Condition</th>\n",
              "      <th>Sale_Price</th>\n",
              "      <th>Longitude</th>\n",
              "      <th>Latitude</th>\n",
              "    </tr>\n",
              "  </thead>\n",
              "  <tbody>\n",
              "    <tr>\n",
              "      <th>0</th>\n",
              "      <td>1</td>\n",
              "      <td>One_Story_1946_and_Newer_All_Styles</td>\n",
              "      <td>Residential_Low_Density</td>\n",
              "      <td>141</td>\n",
              "      <td>31770</td>\n",
              "      <td>Pave</td>\n",
              "      <td>No_Alley_Access</td>\n",
              "      <td>Slightly_Irregular</td>\n",
              "      <td>Lvl</td>\n",
              "      <td>AllPub</td>\n",
              "      <td>...</td>\n",
              "      <td>No_Fence</td>\n",
              "      <td>None</td>\n",
              "      <td>0</td>\n",
              "      <td>5</td>\n",
              "      <td>2010</td>\n",
              "      <td>WD</td>\n",
              "      <td>Normal</td>\n",
              "      <td>215000</td>\n",
              "      <td>-93.619754</td>\n",
              "      <td>42.054035</td>\n",
              "    </tr>\n",
              "    <tr>\n",
              "      <th>1</th>\n",
              "      <td>2</td>\n",
              "      <td>One_Story_1946_and_Newer_All_Styles</td>\n",
              "      <td>Residential_High_Density</td>\n",
              "      <td>80</td>\n",
              "      <td>11622</td>\n",
              "      <td>Pave</td>\n",
              "      <td>No_Alley_Access</td>\n",
              "      <td>Regular</td>\n",
              "      <td>Lvl</td>\n",
              "      <td>AllPub</td>\n",
              "      <td>...</td>\n",
              "      <td>Minimum_Privacy</td>\n",
              "      <td>None</td>\n",
              "      <td>0</td>\n",
              "      <td>6</td>\n",
              "      <td>2010</td>\n",
              "      <td>WD</td>\n",
              "      <td>Normal</td>\n",
              "      <td>105000</td>\n",
              "      <td>-93.619756</td>\n",
              "      <td>42.053014</td>\n",
              "    </tr>\n",
              "    <tr>\n",
              "      <th>2</th>\n",
              "      <td>3</td>\n",
              "      <td>One_Story_1946_and_Newer_All_Styles</td>\n",
              "      <td>Residential_Low_Density</td>\n",
              "      <td>81</td>\n",
              "      <td>14267</td>\n",
              "      <td>Pave</td>\n",
              "      <td>No_Alley_Access</td>\n",
              "      <td>Slightly_Irregular</td>\n",
              "      <td>Lvl</td>\n",
              "      <td>AllPub</td>\n",
              "      <td>...</td>\n",
              "      <td>No_Fence</td>\n",
              "      <td>Gar2</td>\n",
              "      <td>12500</td>\n",
              "      <td>6</td>\n",
              "      <td>2010</td>\n",
              "      <td>WD</td>\n",
              "      <td>Normal</td>\n",
              "      <td>172000</td>\n",
              "      <td>-93.619387</td>\n",
              "      <td>42.052659</td>\n",
              "    </tr>\n",
              "    <tr>\n",
              "      <th>3</th>\n",
              "      <td>4</td>\n",
              "      <td>One_Story_1946_and_Newer_All_Styles</td>\n",
              "      <td>Residential_Low_Density</td>\n",
              "      <td>93</td>\n",
              "      <td>11160</td>\n",
              "      <td>Pave</td>\n",
              "      <td>No_Alley_Access</td>\n",
              "      <td>Regular</td>\n",
              "      <td>Lvl</td>\n",
              "      <td>AllPub</td>\n",
              "      <td>...</td>\n",
              "      <td>No_Fence</td>\n",
              "      <td>None</td>\n",
              "      <td>0</td>\n",
              "      <td>4</td>\n",
              "      <td>2010</td>\n",
              "      <td>WD</td>\n",
              "      <td>Normal</td>\n",
              "      <td>244000</td>\n",
              "      <td>-93.617320</td>\n",
              "      <td>42.051245</td>\n",
              "    </tr>\n",
              "    <tr>\n",
              "      <th>4</th>\n",
              "      <td>5</td>\n",
              "      <td>Two_Story_1946_and_Newer</td>\n",
              "      <td>Residential_Low_Density</td>\n",
              "      <td>74</td>\n",
              "      <td>13830</td>\n",
              "      <td>Pave</td>\n",
              "      <td>No_Alley_Access</td>\n",
              "      <td>Slightly_Irregular</td>\n",
              "      <td>Lvl</td>\n",
              "      <td>AllPub</td>\n",
              "      <td>...</td>\n",
              "      <td>Minimum_Privacy</td>\n",
              "      <td>None</td>\n",
              "      <td>0</td>\n",
              "      <td>3</td>\n",
              "      <td>2010</td>\n",
              "      <td>WD</td>\n",
              "      <td>Normal</td>\n",
              "      <td>189900</td>\n",
              "      <td>-93.638933</td>\n",
              "      <td>42.060899</td>\n",
              "    </tr>\n",
              "  </tbody>\n",
              "</table>\n",
              "<p>5 rows × 82 columns</p>\n",
              "</div>\n",
              "      <button class=\"colab-df-convert\" onclick=\"convertToInteractive('df-acd6d516-004f-4f6d-a865-a781dded3995')\"\n",
              "              title=\"Convert this dataframe to an interactive table.\"\n",
              "              style=\"display:none;\">\n",
              "        \n",
              "  <svg xmlns=\"http://www.w3.org/2000/svg\" height=\"24px\"viewBox=\"0 0 24 24\"\n",
              "       width=\"24px\">\n",
              "    <path d=\"M0 0h24v24H0V0z\" fill=\"none\"/>\n",
              "    <path d=\"M18.56 5.44l.94 2.06.94-2.06 2.06-.94-2.06-.94-.94-2.06-.94 2.06-2.06.94zm-11 1L8.5 8.5l.94-2.06 2.06-.94-2.06-.94L8.5 2.5l-.94 2.06-2.06.94zm10 10l.94 2.06.94-2.06 2.06-.94-2.06-.94-.94-2.06-.94 2.06-2.06.94z\"/><path d=\"M17.41 7.96l-1.37-1.37c-.4-.4-.92-.59-1.43-.59-.52 0-1.04.2-1.43.59L10.3 9.45l-7.72 7.72c-.78.78-.78 2.05 0 2.83L4 21.41c.39.39.9.59 1.41.59.51 0 1.02-.2 1.41-.59l7.78-7.78 2.81-2.81c.8-.78.8-2.07 0-2.86zM5.41 20L4 18.59l7.72-7.72 1.47 1.35L5.41 20z\"/>\n",
              "  </svg>\n",
              "      </button>\n",
              "      \n",
              "  <style>\n",
              "    .colab-df-container {\n",
              "      display:flex;\n",
              "      flex-wrap:wrap;\n",
              "      gap: 12px;\n",
              "    }\n",
              "\n",
              "    .colab-df-convert {\n",
              "      background-color: #E8F0FE;\n",
              "      border: none;\n",
              "      border-radius: 50%;\n",
              "      cursor: pointer;\n",
              "      display: none;\n",
              "      fill: #1967D2;\n",
              "      height: 32px;\n",
              "      padding: 0 0 0 0;\n",
              "      width: 32px;\n",
              "    }\n",
              "\n",
              "    .colab-df-convert:hover {\n",
              "      background-color: #E2EBFA;\n",
              "      box-shadow: 0px 1px 2px rgba(60, 64, 67, 0.3), 0px 1px 3px 1px rgba(60, 64, 67, 0.15);\n",
              "      fill: #174EA6;\n",
              "    }\n",
              "\n",
              "    [theme=dark] .colab-df-convert {\n",
              "      background-color: #3B4455;\n",
              "      fill: #D2E3FC;\n",
              "    }\n",
              "\n",
              "    [theme=dark] .colab-df-convert:hover {\n",
              "      background-color: #434B5C;\n",
              "      box-shadow: 0px 1px 3px 1px rgba(0, 0, 0, 0.15);\n",
              "      filter: drop-shadow(0px 1px 2px rgba(0, 0, 0, 0.3));\n",
              "      fill: #FFFFFF;\n",
              "    }\n",
              "  </style>\n",
              "\n",
              "      <script>\n",
              "        const buttonEl =\n",
              "          document.querySelector('#df-acd6d516-004f-4f6d-a865-a781dded3995 button.colab-df-convert');\n",
              "        buttonEl.style.display =\n",
              "          google.colab.kernel.accessAllowed ? 'block' : 'none';\n",
              "\n",
              "        async function convertToInteractive(key) {\n",
              "          const element = document.querySelector('#df-acd6d516-004f-4f6d-a865-a781dded3995');\n",
              "          const dataTable =\n",
              "            await google.colab.kernel.invokeFunction('convertToInteractive',\n",
              "                                                     [key], {});\n",
              "          if (!dataTable) return;\n",
              "\n",
              "          const docLinkHtml = 'Like what you see? Visit the ' +\n",
              "            '<a target=\"_blank\" href=https://colab.research.google.com/notebooks/data_table.ipynb>data table notebook</a>'\n",
              "            + ' to learn more about interactive tables.';\n",
              "          element.innerHTML = '';\n",
              "          dataTable['output_type'] = 'display_data';\n",
              "          await google.colab.output.renderOutput(dataTable, element);\n",
              "          const docLink = document.createElement('div');\n",
              "          docLink.innerHTML = docLinkHtml;\n",
              "          element.appendChild(docLink);\n",
              "        }\n",
              "      </script>\n",
              "    </div>\n",
              "  </div>\n",
              "  "
            ]
          },
          "metadata": {},
          "execution_count": 13
        }
      ]
    },
    {
      "cell_type": "code",
      "source": [
        "print(ames_python.shape)\n",
        "print(ames_python.shape[0])\n",
        "print(ames_python.shape[1])"
      ],
      "metadata": {
        "colab": {
          "base_uri": "https://localhost:8080/"
        },
        "id": "EBEEI1leIFjV",
        "outputId": "3f60dc27-dfac-40ac-d2f2-167c1d0ddbd4"
      },
      "execution_count": null,
      "outputs": [
        {
          "output_type": "stream",
          "name": "stdout",
          "text": [
            "(2930, 82)\n",
            "2930\n",
            "82\n"
          ]
        }
      ]
    },
    {
      "cell_type": "code",
      "source": [
        "ames_python.columns"
      ],
      "metadata": {
        "id": "W62SjpO6Xbnp",
        "outputId": "6fbcbd62-3d54-4047-aed1-c837b46ae497",
        "colab": {
          "base_uri": "https://localhost:8080/"
        }
      },
      "execution_count": null,
      "outputs": [
        {
          "output_type": "execute_result",
          "data": {
            "text/plain": [
              "Index(['Unnamed: 0', 'MS_SubClass', 'MS_Zoning', 'Lot_Frontage', 'Lot_Area',\n",
              "       'Street', 'Alley', 'Lot_Shape', 'Land_Contour', 'Utilities',\n",
              "       'Lot_Config', 'Land_Slope', 'Neighborhood', 'Condition_1',\n",
              "       'Condition_2', 'Bldg_Type', 'House_Style', 'Overall_Qual',\n",
              "       'Overall_Cond', 'Year_Built', 'Year_Remod_Add', 'Roof_Style',\n",
              "       'Roof_Matl', 'Exterior_1st', 'Exterior_2nd', 'Mas_Vnr_Type',\n",
              "       'Mas_Vnr_Area', 'Exter_Qual', 'Exter_Cond', 'Foundation', 'Bsmt_Qual',\n",
              "       'Bsmt_Cond', 'Bsmt_Exposure', 'BsmtFin_Type_1', 'BsmtFin_SF_1',\n",
              "       'BsmtFin_Type_2', 'BsmtFin_SF_2', 'Bsmt_Unf_SF', 'Total_Bsmt_SF',\n",
              "       'Heating', 'Heating_QC', 'Central_Air', 'Electrical', 'First_Flr_SF',\n",
              "       'Second_Flr_SF', 'Low_Qual_Fin_SF', 'Gr_Liv_Area', 'Bsmt_Full_Bath',\n",
              "       'Bsmt_Half_Bath', 'Full_Bath', 'Half_Bath', 'Bedroom_AbvGr',\n",
              "       'Kitchen_AbvGr', 'Kitchen_Qual', 'TotRms_AbvGrd', 'Functional',\n",
              "       'Fireplaces', 'Fireplace_Qu', 'Garage_Type', 'Garage_Finish',\n",
              "       'Garage_Cars', 'Garage_Area', 'Garage_Qual', 'Garage_Cond',\n",
              "       'Paved_Drive', 'Wood_Deck_SF', 'Open_Porch_SF', 'Enclosed_Porch',\n",
              "       'Three_season_porch', 'Screen_Porch', 'Pool_Area', 'Pool_QC', 'Fence',\n",
              "       'Misc_Feature', 'Misc_Val', 'Mo_Sold', 'Year_Sold', 'Sale_Type',\n",
              "       'Sale_Condition', 'Sale_Price', 'Longitude', 'Latitude'],\n",
              "      dtype='object')"
            ]
          },
          "metadata": {},
          "execution_count": 15
        }
      ]
    },
    {
      "cell_type": "code",
      "source": [
        "print(\"Variable types in the ames_python DataFrame\")\n",
        "print(ames_python.info())"
      ],
      "metadata": {
        "colab": {
          "base_uri": "https://localhost:8080/"
        },
        "id": "mBVrqU8FI72x",
        "outputId": "9f405ddd-2011-473c-e53a-7788eb843d9b"
      },
      "execution_count": null,
      "outputs": [
        {
          "output_type": "stream",
          "name": "stdout",
          "text": [
            "Variable types in the ames_python DataFrame\n",
            "<class 'pandas.core.frame.DataFrame'>\n",
            "RangeIndex: 2930 entries, 0 to 2929\n",
            "Data columns (total 82 columns):\n",
            " #   Column              Non-Null Count  Dtype  \n",
            "---  ------              --------------  -----  \n",
            " 0   Unnamed: 0          2930 non-null   int64  \n",
            " 1   MS_SubClass         2930 non-null   object \n",
            " 2   MS_Zoning           2930 non-null   object \n",
            " 3   Lot_Frontage        2930 non-null   int64  \n",
            " 4   Lot_Area            2930 non-null   int64  \n",
            " 5   Street              2930 non-null   object \n",
            " 6   Alley               2930 non-null   object \n",
            " 7   Lot_Shape           2930 non-null   object \n",
            " 8   Land_Contour        2930 non-null   object \n",
            " 9   Utilities           2930 non-null   object \n",
            " 10  Lot_Config          2930 non-null   object \n",
            " 11  Land_Slope          2930 non-null   object \n",
            " 12  Neighborhood        2930 non-null   object \n",
            " 13  Condition_1         2930 non-null   object \n",
            " 14  Condition_2         2930 non-null   object \n",
            " 15  Bldg_Type           2930 non-null   object \n",
            " 16  House_Style         2930 non-null   object \n",
            " 17  Overall_Qual        2930 non-null   object \n",
            " 18  Overall_Cond        2930 non-null   object \n",
            " 19  Year_Built          2930 non-null   int64  \n",
            " 20  Year_Remod_Add      2930 non-null   int64  \n",
            " 21  Roof_Style          2930 non-null   object \n",
            " 22  Roof_Matl           2930 non-null   object \n",
            " 23  Exterior_1st        2930 non-null   object \n",
            " 24  Exterior_2nd        2930 non-null   object \n",
            " 25  Mas_Vnr_Type        2930 non-null   object \n",
            " 26  Mas_Vnr_Area        2930 non-null   int64  \n",
            " 27  Exter_Qual          2930 non-null   object \n",
            " 28  Exter_Cond          2930 non-null   object \n",
            " 29  Foundation          2930 non-null   object \n",
            " 30  Bsmt_Qual           2930 non-null   object \n",
            " 31  Bsmt_Cond           2930 non-null   object \n",
            " 32  Bsmt_Exposure       2930 non-null   object \n",
            " 33  BsmtFin_Type_1      2930 non-null   object \n",
            " 34  BsmtFin_SF_1        2930 non-null   int64  \n",
            " 35  BsmtFin_Type_2      2930 non-null   object \n",
            " 36  BsmtFin_SF_2        2930 non-null   int64  \n",
            " 37  Bsmt_Unf_SF         2930 non-null   int64  \n",
            " 38  Total_Bsmt_SF       2930 non-null   int64  \n",
            " 39  Heating             2930 non-null   object \n",
            " 40  Heating_QC          2930 non-null   object \n",
            " 41  Central_Air         2930 non-null   object \n",
            " 42  Electrical          2930 non-null   object \n",
            " 43  First_Flr_SF        2930 non-null   int64  \n",
            " 44  Second_Flr_SF       2930 non-null   int64  \n",
            " 45  Low_Qual_Fin_SF     2930 non-null   int64  \n",
            " 46  Gr_Liv_Area         2930 non-null   int64  \n",
            " 47  Bsmt_Full_Bath      2930 non-null   int64  \n",
            " 48  Bsmt_Half_Bath      2930 non-null   int64  \n",
            " 49  Full_Bath           2930 non-null   int64  \n",
            " 50  Half_Bath           2930 non-null   int64  \n",
            " 51  Bedroom_AbvGr       2930 non-null   int64  \n",
            " 52  Kitchen_AbvGr       2930 non-null   int64  \n",
            " 53  Kitchen_Qual        2930 non-null   object \n",
            " 54  TotRms_AbvGrd       2930 non-null   int64  \n",
            " 55  Functional          2930 non-null   object \n",
            " 56  Fireplaces          2930 non-null   int64  \n",
            " 57  Fireplace_Qu        2930 non-null   object \n",
            " 58  Garage_Type         2930 non-null   object \n",
            " 59  Garage_Finish       2930 non-null   object \n",
            " 60  Garage_Cars         2930 non-null   int64  \n",
            " 61  Garage_Area         2930 non-null   int64  \n",
            " 62  Garage_Qual         2930 non-null   object \n",
            " 63  Garage_Cond         2930 non-null   object \n",
            " 64  Paved_Drive         2930 non-null   object \n",
            " 65  Wood_Deck_SF        2930 non-null   int64  \n",
            " 66  Open_Porch_SF       2930 non-null   int64  \n",
            " 67  Enclosed_Porch      2930 non-null   int64  \n",
            " 68  Three_season_porch  2930 non-null   int64  \n",
            " 69  Screen_Porch        2930 non-null   int64  \n",
            " 70  Pool_Area           2930 non-null   int64  \n",
            " 71  Pool_QC             2930 non-null   object \n",
            " 72  Fence               2930 non-null   object \n",
            " 73  Misc_Feature        2930 non-null   object \n",
            " 74  Misc_Val            2930 non-null   int64  \n",
            " 75  Mo_Sold             2930 non-null   int64  \n",
            " 76  Year_Sold           2930 non-null   int64  \n",
            " 77  Sale_Type           2930 non-null   object \n",
            " 78  Sale_Condition      2930 non-null   object \n",
            " 79  Sale_Price          2930 non-null   int64  \n",
            " 80  Longitude           2930 non-null   float64\n",
            " 81  Latitude            2930 non-null   float64\n",
            "dtypes: float64(2), int64(34), object(46)\n",
            "memory usage: 1.8+ MB\n",
            "None\n"
          ]
        }
      ]
    },
    {
      "cell_type": "code",
      "source": [
        "print(ames_python.dtypes.value_counts())"
      ],
      "metadata": {
        "colab": {
          "base_uri": "https://localhost:8080/"
        },
        "id": "24S5rT4FJR3R",
        "outputId": "00cab37c-b8ea-409b-a321-1379e20a9c11"
      },
      "execution_count": null,
      "outputs": [
        {
          "output_type": "stream",
          "name": "stdout",
          "text": [
            "object     46\n",
            "int64      34\n",
            "float64     2\n",
            "dtype: int64\n"
          ]
        }
      ]
    },
    {
      "cell_type": "markdown",
      "source": [
        "Using `[variable name]` a single column can be selected from the data frame"
      ],
      "metadata": {
        "id": "A_jxSiyKZd0h"
      }
    },
    {
      "cell_type": "code",
      "source": [
        "ames_python['Heating']"
      ],
      "metadata": {
        "colab": {
          "base_uri": "https://localhost:8080/"
        },
        "id": "1B5is_IPJmsI",
        "outputId": "1b05b848-c486-4da9-94b2-671b033abcc8"
      },
      "execution_count": null,
      "outputs": [
        {
          "output_type": "execute_result",
          "data": {
            "text/plain": [
              "0       GasA\n",
              "1       GasA\n",
              "2       GasA\n",
              "3       GasA\n",
              "4       GasA\n",
              "        ... \n",
              "2925    GasA\n",
              "2926    GasA\n",
              "2927    GasA\n",
              "2928    GasA\n",
              "2929    GasA\n",
              "Name: Heating, Length: 2930, dtype: object"
            ]
          },
          "metadata": {},
          "execution_count": 18
        }
      ]
    },
    {
      "cell_type": "code",
      "source": [
        "ames_python['Heating'].__class__"
      ],
      "metadata": {
        "id": "YlBjMo0FZoz6",
        "outputId": "829b8ad4-5750-4e10-83b4-68d7a92c66e7",
        "colab": {
          "base_uri": "https://localhost:8080/"
        }
      },
      "execution_count": null,
      "outputs": [
        {
          "output_type": "execute_result",
          "data": {
            "text/plain": [
              "pandas.core.series.Series"
            ]
          },
          "metadata": {},
          "execution_count": 19
        }
      ]
    },
    {
      "cell_type": "code",
      "source": [
        "ames_python['Heating'].unique()"
      ],
      "metadata": {
        "id": "Dvgakl6DZrMx",
        "outputId": "3bc633c7-bc1b-4ba4-9585-57ed65c2d102",
        "colab": {
          "base_uri": "https://localhost:8080/"
        }
      },
      "execution_count": null,
      "outputs": [
        {
          "output_type": "execute_result",
          "data": {
            "text/plain": [
              "array(['GasA', 'GasW', 'Grav', 'Wall', 'Floor', 'OthW'], dtype=object)"
            ]
          },
          "metadata": {},
          "execution_count": 20
        }
      ]
    },
    {
      "cell_type": "markdown",
      "source": [
        "**Your turn!**\n",
        "\n",
        "Repeat some of these instructions for the `mtpl_python` data."
      ],
      "metadata": {
        "id": "eKE8chHGKMBg"
      }
    },
    {
      "cell_type": "markdown",
      "source": [
        "## 2.4 Data explorations with `seaborn` and `matplotlib` <a name=\"two-four\"></a>"
      ],
      "metadata": {
        "id": "r4_QI0hcGxfW"
      }
    },
    {
      "cell_type": "markdown",
      "source": [
        "Seaborn is a popular visualization framework in Python based on `matplotlib`. As a result methods from `matplotlib` can be combined with methods from `Seaborn`. A gallery with example figures and associated code can be found [here](https://seaborn.pydata.org/examples/index.html)."
      ],
      "metadata": {
        "id": "GoLqnLimHi-d"
      }
    },
    {
      "cell_type": "markdown",
      "source": [
        "For a consistent look and feel of all figures, you can set the style of your figures with `sns.set_style(<style>)`. There are 5 preconfigured styles available for Seaborn:\n",
        "* darkgrid\n",
        "* whitegrid\n",
        "* dark\n",
        "* white\n",
        "* ticks\n",
        "\n",
        "Let's explore the construction of a simple scatterplot with `seaborn`. "
      ],
      "metadata": {
        "id": "YtxVxIYRH3Nd"
      }
    },
    {
      "cell_type": "code",
      "source": [
        "KULbg = \"#116E8A\""
      ],
      "metadata": {
        "id": "d3rBSQNb6qjV"
      },
      "execution_count": null,
      "outputs": []
    },
    {
      "cell_type": "code",
      "source": [
        "sns.set_style(\"whitegrid\")\n",
        "sns.scatterplot(\n",
        "    data = ames_python, \n",
        "    x = \"Lot_Area\", \n",
        "    y = \"Sale_Price\", \n",
        "    color = KULbg, alpha = 0.5)"
      ],
      "metadata": {
        "colab": {
          "base_uri": "https://localhost:8080/",
          "height": 297
        },
        "id": "Gc3Hv0XUG1R9",
        "outputId": "e77d932f-97f1-451e-d90d-308cc9f20056"
      },
      "execution_count": null,
      "outputs": [
        {
          "output_type": "execute_result",
          "data": {
            "text/plain": [
              "<AxesSubplot:xlabel='Lot_Area', ylabel='Sale_Price'>"
            ]
          },
          "metadata": {},
          "execution_count": 22
        },
        {
          "output_type": "display_data",
          "data": {
            "text/plain": [
              "<Figure size 432x288 with 1 Axes>"
            ],
            "image/png": "[encoded data removed]"
          },
          "metadata": {}
        }
      ]
    },
    {
      "cell_type": "markdown",
      "source": [
        "And a boxplot..."
      ],
      "metadata": {
        "id": "fZ0yV8mt6fgY"
      }
    },
    {
      "cell_type": "code",
      "source": [
        "sns.boxplot(data = ames_python,\n",
        "            y = \"Sale_Price\", color = KULbg)"
      ],
      "metadata": {
        "colab": {
          "base_uri": "https://localhost:8080/",
          "height": 265
        },
        "id": "gffDY1RtJJxs",
        "outputId": "ff89a6c6-00c2-402c-e07d-4afef6831269"
      },
      "execution_count": null,
      "outputs": [
        {
          "output_type": "execute_result",
          "data": {
            "text/plain": [
              "<AxesSubplot:ylabel='Sale_Price'>"
            ]
          },
          "metadata": {},
          "execution_count": 23
        },
        {
          "output_type": "display_data",
          "data": {
            "text/plain": [
              "<Figure size 432x288 with 1 Axes>"
            ],
            "image/png": "[encoded data removed]"
          },
          "metadata": {}
        }
      ]
    },
    {
      "cell_type": "markdown",
      "source": [
        "A histogram of the `Sale_Price` ..."
      ],
      "metadata": {
        "id": "bVOoCgXi8-uN"
      }
    },
    {
      "cell_type": "code",
      "source": [
        "sns.histplot(data = ames_python, x = \"Sale_Price\", color = KULbg, alpha = 0.5, bins = 30, edgecolor = 'black', linewidth = 1)"
      ],
      "metadata": {
        "colab": {
          "base_uri": "https://localhost:8080/",
          "height": 300
        },
        "id": "fA72TsrL85yI",
        "outputId": "cc327843-409e-4405-9e5c-c44a3a4adad4"
      },
      "execution_count": null,
      "outputs": [
        {
          "output_type": "execute_result",
          "data": {
            "text/plain": [
              "<AxesSubplot:xlabel='Sale_Price', ylabel='Count'>"
            ]
          },
          "metadata": {},
          "execution_count": 24
        },
        {
          "output_type": "display_data",
          "data": {
            "text/plain": [
              "<Figure size 432x288 with 1 Axes>"
            ],
            "image/png": "[encoded data removed]"
          },
          "metadata": {}
        }
      ]
    },
    {
      "cell_type": "markdown",
      "source": [
        "The integration of `matplotlib` (as `plt`) and `seaborn` (as `sns`) creates extra flexibility to customize your graphs:"
      ],
      "metadata": {
        "id": "xNgiQ-Wm9Dgy"
      }
    },
    {
      "cell_type": "code",
      "source": [
        "plt.figure(figsize = (10,5))\n",
        "sns.histplot(data = ames_python, x = \"Sale_Price\", color = KULbg, alpha = 0.5, bins = 30, edgecolor = 'black', linewidth = 1)\n",
        "plt.xlabel(\"Sale_Price\")\n",
        "plt.show()"
      ],
      "metadata": {
        "colab": {
          "base_uri": "https://localhost:8080/",
          "height": 337
        },
        "id": "DoL2pbdl_ZD6",
        "outputId": "3b4f8b18-7a8b-48f0-91e5-65a3c1d37b5d"
      },
      "execution_count": null,
      "outputs": [
        {
          "output_type": "display_data",
          "data": {
            "text/plain": [
              "<Figure size 720x360 with 1 Axes>"
            ],
            "image/png": "[encoded data removed]"
          },
          "metadata": {}
        }
      ]
    },
    {
      "cell_type": "code",
      "source": [
        "plt.figure(figsize = (10,5))\n",
        "sns.histplot(data = ames_python, x = \"Sale_Price\", stat = \"density\", kde = True, color = KULbg, alpha = 0.5, bins = 30, edgecolor = 'black', linewidth = 1)\n",
        "plt.xlabel(\"Sale_Price\")\n",
        "plt.show() "
      ],
      "metadata": {
        "colab": {
          "base_uri": "https://localhost:8080/",
          "height": 346
        },
        "id": "5Xm5_GWc8FxL",
        "outputId": "5c4ac436-fb33-4504-a2e1-db2b7f6ae93c"
      },
      "execution_count": null,
      "outputs": [
        {
          "output_type": "display_data",
          "data": {
            "text/plain": [
              "<Figure size 720x360 with 1 Axes>"
            ],
            "image/png": "[encoded data removed]"
          },
          "metadata": {}
        }
      ]
    },
    {
      "cell_type": "markdown",
      "source": [
        "# Chapter 3 - Data splitting and resampling methods <a name=\"three\"></a>"
      ],
      "metadata": {
        "id": "qZOc-6gnLDYa"
      }
    },
    {
      "cell_type": "markdown",
      "source": [
        "## 3.1 With `pandas` <a name=\"three-one\"></a>\n",
        "We first create the split between training and test data in the most basic way. We simply create the training set by randomly selecting 70% of the rows of the initial full dataset. "
      ],
      "metadata": {
        "id": "3Fzf0vdmLOba"
      }
    },
    {
      "cell_type": "code",
      "source": [
        "import numpy as np\n",
        "np.random.seed(123)\n",
        "ames_python_train_1 = ames_python.sample(frac = 0.7) \n",
        "ames_python_test_1 = ames_python.drop(labels = ames_python_train_1.index)\n",
        "ames_python_train_1.shape[0]/ames_python.shape[0]"
      ],
      "metadata": {
        "colab": {
          "base_uri": "https://localhost:8080/"
        },
        "id": "hxb_sQirLql5",
        "outputId": "bf904c72-c9d5-4d5d-c22e-eda523a5bd89"
      },
      "execution_count": null,
      "outputs": [
        {
          "output_type": "execute_result",
          "data": {
            "text/plain": [
              "0.7"
            ]
          },
          "metadata": {},
          "execution_count": 27
        }
      ]
    },
    {
      "cell_type": "code",
      "source": [
        "ames_python_train_1"
      ],
      "metadata": {
        "id": "631IDcTsLwsb",
        "colab": {
          "base_uri": "https://localhost:8080/",
          "height": 505
        },
        "outputId": "17261de2-8825-446b-807d-507b32639435"
      },
      "execution_count": null,
      "outputs": [
        {
          "output_type": "execute_result",
          "data": {
            "text/plain": [
              "      Unnamed: 0                                MS_SubClass  \\\n",
              "655          656       One_and_Half_Story_Finished_All_Ages   \n",
              "645          646        One_Story_1946_and_Newer_All_Styles   \n",
              "80            81        One_Story_1946_and_Newer_All_Styles   \n",
              "1927        1928        One_Story_1946_and_Newer_All_Styles   \n",
              "2030        2031       One_and_Half_Story_Finished_All_Ages   \n",
              "...          ...                                        ...   \n",
              "2504        2505               One_Story_PUD_1946_and_Newer   \n",
              "1316        1317  Two_Family_conversion_All_Styles_and_Ages   \n",
              "2738        2739                        Split_or_Multilevel   \n",
              "2911        2912        One_Story_1946_and_Newer_All_Styles   \n",
              "2814        2815                   Two_Story_1946_and_Newer   \n",
              "\n",
              "                         MS_Zoning  Lot_Frontage  Lot_Area Street  \\\n",
              "655        Residential_Low_Density            60     10410   Pave   \n",
              "645        Residential_Low_Density            60     10434   Pave   \n",
              "80         Residential_Low_Density            81      9672   Pave   \n",
              "1927       Residential_Low_Density             0     12155   Pave   \n",
              "2030    Residential_Medium_Density             0      7758   Pave   \n",
              "...                            ...           ...       ...    ...   \n",
              "2504  Floating_Village_Residential            34      3628   Pave   \n",
              "1316    Residential_Medium_Density            60     10800   Pave   \n",
              "2738       Residential_Low_Density            78     11679   Pave   \n",
              "2911       Residential_Low_Density            58     10172   Pave   \n",
              "2814       Residential_Low_Density            65      8461   Pave   \n",
              "\n",
              "                Alley           Lot_Shape Land_Contour Utilities  ...  \\\n",
              "655   No_Alley_Access             Regular          Lvl    AllPub  ...   \n",
              "645   No_Alley_Access             Regular          Lvl    AllPub  ...   \n",
              "80    No_Alley_Access             Regular          Lvl    AllPub  ...   \n",
              "1927  No_Alley_Access           Irregular          Lvl    AllPub  ...   \n",
              "2030  No_Alley_Access             Regular          Lvl    AllPub  ...   \n",
              "...               ...                 ...          ...       ...  ...   \n",
              "2504            Paved             Regular          Lvl    AllPub  ...   \n",
              "1316            Paved             Regular          Lvl    AllPub  ...   \n",
              "2738  No_Alley_Access  Slightly_Irregular          Lvl    AllPub  ...   \n",
              "2911  No_Alley_Access  Slightly_Irregular          Lvl    AllPub  ...   \n",
              "2814  No_Alley_Access             Regular          Lvl    AllPub  ...   \n",
              "\n",
              "                Fence Misc_Feature Misc_Val Mo_Sold Year_Sold Sale_Type  \\\n",
              "655   Minimum_Privacy         None        0       8      2009       WD    \n",
              "645          No_Fence         None        0      11      2009       WD    \n",
              "80       Good_Privacy         None        0       5      2010       WD    \n",
              "1927         No_Fence         None        0       3      2007       WD    \n",
              "2030         No_Fence         None        0       6      2007       WD    \n",
              "...               ...          ...      ...     ...       ...       ...   \n",
              "2504         No_Fence         None        0       5      2006       WD    \n",
              "1316         No_Fence         None        0       4      2008       WD    \n",
              "2738  Minimum_Privacy         None        0       5      2006       WD    \n",
              "2911         No_Fence         None        0      10      2006       WD    \n",
              "2814         No_Fence         None        0       7      2006       New   \n",
              "\n",
              "     Sale_Condition Sale_Price  Longitude   Latitude  \n",
              "655          Normal     135000 -93.614421  42.037679  \n",
              "645          Normal     115000 -93.612400  42.038398  \n",
              "80           Normal     152000 -93.685028  42.034555  \n",
              "1927         Normal     163500 -93.610875  42.042728  \n",
              "2030         Normal     169500 -93.628447  42.025229  \n",
              "...             ...        ...        ...        ...  \n",
              "2504         Normal     176400 -93.647832  42.047592  \n",
              "1316         Normal     163000 -93.612239  42.029084  \n",
              "2738         Normal     182000 -93.660227  42.026458  \n",
              "2911         Normal     126500 -93.604279  41.993062  \n",
              "2814        Partial     163990 -93.684332  42.013519  \n",
              "\n",
              "[2051 rows x 82 columns]"
            ],
            "text/html": [
              "\n",
              "  <div id=\"df-843b1738-43f0-4955-a994-69edcf97db85\">\n",
              "    <div class=\"colab-df-container\">\n",
              "      <div>\n",
              "<style scoped>\n",
              "    .dataframe tbody tr th:only-of-type {\n",
              "        vertical-align: middle;\n",
              "    }\n",
              "\n",
              "    .dataframe tbody tr th {\n",
              "        vertical-align: top;\n",
              "    }\n",
              "\n",
              "    .dataframe thead th {\n",
              "        text-align: right;\n",
              "    }\n",
              "</style>\n",
              "<table border=\"1\" class=\"dataframe\">\n",
              "  <thead>\n",
              "    <tr style=\"text-align: right;\">\n",
              "      <th></th>\n",
              "      <th>Unnamed: 0</th>\n",
              "      <th>MS_SubClass</th>\n",
              "      <th>MS_Zoning</th>\n",
              "      <th>Lot_Frontage</th>\n",
              "      <th>Lot_Area</th>\n",
              "      <th>Street</th>\n",
              "      <th>Alley</th>\n",
              "      <th>Lot_Shape</th>\n",
              "      <th>Land_Contour</th>\n",
              "      <th>Utilities</th>\n",
              "      <th>...</th>\n",
              "      <th>Fence</th>\n",
              "      <th>Misc_Feature</th>\n",
              "      <th>Misc_Val</th>\n",
              "      <th>Mo_Sold</th>\n",
              "      <th>Year_Sold</th>\n",
              "      <th>Sale_Type</th>\n",
              "      <th>Sale_Condition</th>\n",
              "      <th>Sale_Price</th>\n",
              "      <th>Longitude</th>\n",
              "      <th>Latitude</th>\n",
              "    </tr>\n",
              "  </thead>\n",
              "  <tbody>\n",
              "    <tr>\n",
              "      <th>655</th>\n",
              "      <td>656</td>\n",
              "      <td>One_and_Half_Story_Finished_All_Ages</td>\n",
              "      <td>Residential_Low_Density</td>\n",
              "      <td>60</td>\n",
              "      <td>10410</td>\n",
              "      <td>Pave</td>\n",
              "      <td>No_Alley_Access</td>\n",
              "      <td>Regular</td>\n",
              "      <td>Lvl</td>\n",
              "      <td>AllPub</td>\n",
              "      <td>...</td>\n",
              "      <td>Minimum_Privacy</td>\n",
              "      <td>None</td>\n",
              "      <td>0</td>\n",
              "      <td>8</td>\n",
              "      <td>2009</td>\n",
              "      <td>WD</td>\n",
              "      <td>Normal</td>\n",
              "      <td>135000</td>\n",
              "      <td>-93.614421</td>\n",
              "      <td>42.037679</td>\n",
              "    </tr>\n",
              "    <tr>\n",
              "      <th>645</th>\n",
              "      <td>646</td>\n",
              "      <td>One_Story_1946_and_Newer_All_Styles</td>\n",
              "      <td>Residential_Low_Density</td>\n",
              "      <td>60</td>\n",
              "      <td>10434</td>\n",
              "      <td>Pave</td>\n",
              "      <td>No_Alley_Access</td>\n",
              "      <td>Regular</td>\n",
              "      <td>Lvl</td>\n",
              "      <td>AllPub</td>\n",
              "      <td>...</td>\n",
              "      <td>No_Fence</td>\n",
              "      <td>None</td>\n",
              "      <td>0</td>\n",
              "      <td>11</td>\n",
              "      <td>2009</td>\n",
              "      <td>WD</td>\n",
              "      <td>Normal</td>\n",
              "      <td>115000</td>\n",
              "      <td>-93.612400</td>\n",
              "      <td>42.038398</td>\n",
              "    </tr>\n",
              "    <tr>\n",
              "      <th>80</th>\n",
              "      <td>81</td>\n",
              "      <td>One_Story_1946_and_Newer_All_Styles</td>\n",
              "      <td>Residential_Low_Density</td>\n",
              "      <td>81</td>\n",
              "      <td>9672</td>\n",
              "      <td>Pave</td>\n",
              "      <td>No_Alley_Access</td>\n",
              "      <td>Regular</td>\n",
              "      <td>Lvl</td>\n",
              "      <td>AllPub</td>\n",
              "      <td>...</td>\n",
              "      <td>Good_Privacy</td>\n",
              "      <td>None</td>\n",
              "      <td>0</td>\n",
              "      <td>5</td>\n",
              "      <td>2010</td>\n",
              "      <td>WD</td>\n",
              "      <td>Normal</td>\n",
              "      <td>152000</td>\n",
              "      <td>-93.685028</td>\n",
              "      <td>42.034555</td>\n",
              "    </tr>\n",
              "    <tr>\n",
              "      <th>1927</th>\n",
              "      <td>1928</td>\n",
              "      <td>One_Story_1946_and_Newer_All_Styles</td>\n",
              "      <td>Residential_Low_Density</td>\n",
              "      <td>0</td>\n",
              "      <td>12155</td>\n",
              "      <td>Pave</td>\n",
              "      <td>No_Alley_Access</td>\n",
              "      <td>Irregular</td>\n",
              "      <td>Lvl</td>\n",
              "      <td>AllPub</td>\n",
              "      <td>...</td>\n",
              "      <td>No_Fence</td>\n",
              "      <td>None</td>\n",
              "      <td>0</td>\n",
              "      <td>3</td>\n",
              "      <td>2007</td>\n",
              "      <td>WD</td>\n",
              "      <td>Normal</td>\n",
              "      <td>163500</td>\n",
              "      <td>-93.610875</td>\n",
              "      <td>42.042728</td>\n",
              "    </tr>\n",
              "    <tr>\n",
              "      <th>2030</th>\n",
              "      <td>2031</td>\n",
              "      <td>One_and_Half_Story_Finished_All_Ages</td>\n",
              "      <td>Residential_Medium_Density</td>\n",
              "      <td>0</td>\n",
              "      <td>7758</td>\n",
              "      <td>Pave</td>\n",
              "      <td>No_Alley_Access</td>\n",
              "      <td>Regular</td>\n",
              "      <td>Lvl</td>\n",
              "      <td>AllPub</td>\n",
              "      <td>...</td>\n",
              "      <td>No_Fence</td>\n",
              "      <td>None</td>\n",
              "      <td>0</td>\n",
              "      <td>6</td>\n",
              "      <td>2007</td>\n",
              "      <td>WD</td>\n",
              "      <td>Normal</td>\n",
              "      <td>169500</td>\n",
              "      <td>-93.628447</td>\n",
              "      <td>42.025229</td>\n",
              "    </tr>\n",
              "    <tr>\n",
              "      <th>...</th>\n",
              "      <td>...</td>\n",
              "      <td>...</td>\n",
              "      <td>...</td>\n",
              "      <td>...</td>\n",
              "      <td>...</td>\n",
              "      <td>...</td>\n",
              "      <td>...</td>\n",
              "      <td>...</td>\n",
              "      <td>...</td>\n",
              "      <td>...</td>\n",
              "      <td>...</td>\n",
              "      <td>...</td>\n",
              "      <td>...</td>\n",
              "      <td>...</td>\n",
              "      <td>...</td>\n",
              "      <td>...</td>\n",
              "      <td>...</td>\n",
              "      <td>...</td>\n",
              "      <td>...</td>\n",
              "      <td>...</td>\n",
              "      <td>...</td>\n",
              "    </tr>\n",
              "    <tr>\n",
              "      <th>2504</th>\n",
              "      <td>2505</td>\n",
              "      <td>One_Story_PUD_1946_and_Newer</td>\n",
              "      <td>Floating_Village_Residential</td>\n",
              "      <td>34</td>\n",
              "      <td>3628</td>\n",
              "      <td>Pave</td>\n",
              "      <td>Paved</td>\n",
              "      <td>Regular</td>\n",
              "      <td>Lvl</td>\n",
              "      <td>AllPub</td>\n",
              "      <td>...</td>\n",
              "      <td>No_Fence</td>\n",
              "      <td>None</td>\n",
              "      <td>0</td>\n",
              "      <td>5</td>\n",
              "      <td>2006</td>\n",
              "      <td>WD</td>\n",
              "      <td>Normal</td>\n",
              "      <td>176400</td>\n",
              "      <td>-93.647832</td>\n",
              "      <td>42.047592</td>\n",
              "    </tr>\n",
              "    <tr>\n",
              "      <th>1316</th>\n",
              "      <td>1317</td>\n",
              "      <td>Two_Family_conversion_All_Styles_and_Ages</td>\n",
              "      <td>Residential_Medium_Density</td>\n",
              "      <td>60</td>\n",
              "      <td>10800</td>\n",
              "      <td>Pave</td>\n",
              "      <td>Paved</td>\n",
              "      <td>Regular</td>\n",
              "      <td>Lvl</td>\n",
              "      <td>AllPub</td>\n",
              "      <td>...</td>\n",
              "      <td>No_Fence</td>\n",
              "      <td>None</td>\n",
              "      <td>0</td>\n",
              "      <td>4</td>\n",
              "      <td>2008</td>\n",
              "      <td>WD</td>\n",
              "      <td>Normal</td>\n",
              "      <td>163000</td>\n",
              "      <td>-93.612239</td>\n",
              "      <td>42.029084</td>\n",
              "    </tr>\n",
              "    <tr>\n",
              "      <th>2738</th>\n",
              "      <td>2739</td>\n",
              "      <td>Split_or_Multilevel</td>\n",
              "      <td>Residential_Low_Density</td>\n",
              "      <td>78</td>\n",
              "      <td>11679</td>\n",
              "      <td>Pave</td>\n",
              "      <td>No_Alley_Access</td>\n",
              "      <td>Slightly_Irregular</td>\n",
              "      <td>Lvl</td>\n",
              "      <td>AllPub</td>\n",
              "      <td>...</td>\n",
              "      <td>Minimum_Privacy</td>\n",
              "      <td>None</td>\n",
              "      <td>0</td>\n",
              "      <td>5</td>\n",
              "      <td>2006</td>\n",
              "      <td>WD</td>\n",
              "      <td>Normal</td>\n",
              "      <td>182000</td>\n",
              "      <td>-93.660227</td>\n",
              "      <td>42.026458</td>\n",
              "    </tr>\n",
              "    <tr>\n",
              "      <th>2911</th>\n",
              "      <td>2912</td>\n",
              "      <td>One_Story_1946_and_Newer_All_Styles</td>\n",
              "      <td>Residential_Low_Density</td>\n",
              "      <td>58</td>\n",
              "      <td>10172</td>\n",
              "      <td>Pave</td>\n",
              "      <td>No_Alley_Access</td>\n",
              "      <td>Slightly_Irregular</td>\n",
              "      <td>Lvl</td>\n",
              "      <td>AllPub</td>\n",
              "      <td>...</td>\n",
              "      <td>No_Fence</td>\n",
              "      <td>None</td>\n",
              "      <td>0</td>\n",
              "      <td>10</td>\n",
              "      <td>2006</td>\n",
              "      <td>WD</td>\n",
              "      <td>Normal</td>\n",
              "      <td>126500</td>\n",
              "      <td>-93.604279</td>\n",
              "      <td>41.993062</td>\n",
              "    </tr>\n",
              "    <tr>\n",
              "      <th>2814</th>\n",
              "      <td>2815</td>\n",
              "      <td>Two_Story_1946_and_Newer</td>\n",
              "      <td>Residential_Low_Density</td>\n",
              "      <td>65</td>\n",
              "      <td>8461</td>\n",
              "      <td>Pave</td>\n",
              "      <td>No_Alley_Access</td>\n",
              "      <td>Regular</td>\n",
              "      <td>Lvl</td>\n",
              "      <td>AllPub</td>\n",
              "      <td>...</td>\n",
              "      <td>No_Fence</td>\n",
              "      <td>None</td>\n",
              "      <td>0</td>\n",
              "      <td>7</td>\n",
              "      <td>2006</td>\n",
              "      <td>New</td>\n",
              "      <td>Partial</td>\n",
              "      <td>163990</td>\n",
              "      <td>-93.684332</td>\n",
              "      <td>42.013519</td>\n",
              "    </tr>\n",
              "  </tbody>\n",
              "</table>\n",
              "<p>2051 rows × 82 columns</p>\n",
              "</div>\n",
              "      <button class=\"colab-df-convert\" onclick=\"convertToInteractive('df-843b1738-43f0-4955-a994-69edcf97db85')\"\n",
              "              title=\"Convert this dataframe to an interactive table.\"\n",
              "              style=\"display:none;\">\n",
              "        \n",
              "  <svg xmlns=\"http://www.w3.org/2000/svg\" height=\"24px\"viewBox=\"0 0 24 24\"\n",
              "       width=\"24px\">\n",
              "    <path d=\"M0 0h24v24H0V0z\" fill=\"none\"/>\n",
              "    <path d=\"M18.56 5.44l.94 2.06.94-2.06 2.06-.94-2.06-.94-.94-2.06-.94 2.06-2.06.94zm-11 1L8.5 8.5l.94-2.06 2.06-.94-2.06-.94L8.5 2.5l-.94 2.06-2.06.94zm10 10l.94 2.06.94-2.06 2.06-.94-2.06-.94-.94-2.06-.94 2.06-2.06.94z\"/><path d=\"M17.41 7.96l-1.37-1.37c-.4-.4-.92-.59-1.43-.59-.52 0-1.04.2-1.43.59L10.3 9.45l-7.72 7.72c-.78.78-.78 2.05 0 2.83L4 21.41c.39.39.9.59 1.41.59.51 0 1.02-.2 1.41-.59l7.78-7.78 2.81-2.81c.8-.78.8-2.07 0-2.86zM5.41 20L4 18.59l7.72-7.72 1.47 1.35L5.41 20z\"/>\n",
              "  </svg>\n",
              "      </button>\n",
              "      \n",
              "  <style>\n",
              "    .colab-df-container {\n",
              "      display:flex;\n",
              "      flex-wrap:wrap;\n",
              "      gap: 12px;\n",
              "    }\n",
              "\n",
              "    .colab-df-convert {\n",
              "      background-color: #E8F0FE;\n",
              "      border: none;\n",
              "      border-radius: 50%;\n",
              "      cursor: pointer;\n",
              "      display: none;\n",
              "      fill: #1967D2;\n",
              "      height: 32px;\n",
              "      padding: 0 0 0 0;\n",
              "      width: 32px;\n",
              "    }\n",
              "\n",
              "    .colab-df-convert:hover {\n",
              "      background-color: #E2EBFA;\n",
              "      box-shadow: 0px 1px 2px rgba(60, 64, 67, 0.3), 0px 1px 3px 1px rgba(60, 64, 67, 0.15);\n",
              "      fill: #174EA6;\n",
              "    }\n",
              "\n",
              "    [theme=dark] .colab-df-convert {\n",
              "      background-color: #3B4455;\n",
              "      fill: #D2E3FC;\n",
              "    }\n",
              "\n",
              "    [theme=dark] .colab-df-convert:hover {\n",
              "      background-color: #434B5C;\n",
              "      box-shadow: 0px 1px 3px 1px rgba(0, 0, 0, 0.15);\n",
              "      filter: drop-shadow(0px 1px 2px rgba(0, 0, 0, 0.3));\n",
              "      fill: #FFFFFF;\n",
              "    }\n",
              "  </style>\n",
              "\n",
              "      <script>\n",
              "        const buttonEl =\n",
              "          document.querySelector('#df-843b1738-43f0-4955-a994-69edcf97db85 button.colab-df-convert');\n",
              "        buttonEl.style.display =\n",
              "          google.colab.kernel.accessAllowed ? 'block' : 'none';\n",
              "\n",
              "        async function convertToInteractive(key) {\n",
              "          const element = document.querySelector('#df-843b1738-43f0-4955-a994-69edcf97db85');\n",
              "          const dataTable =\n",
              "            await google.colab.kernel.invokeFunction('convertToInteractive',\n",
              "                                                     [key], {});\n",
              "          if (!dataTable) return;\n",
              "\n",
              "          const docLinkHtml = 'Like what you see? Visit the ' +\n",
              "            '<a target=\"_blank\" href=https://colab.research.google.com/notebooks/data_table.ipynb>data table notebook</a>'\n",
              "            + ' to learn more about interactive tables.';\n",
              "          element.innerHTML = '';\n",
              "          dataTable['output_type'] = 'display_data';\n",
              "          await google.colab.output.renderOutput(dataTable, element);\n",
              "          const docLink = document.createElement('div');\n",
              "          docLink.innerHTML = docLinkHtml;\n",
              "          element.appendChild(docLink);\n",
              "        }\n",
              "      </script>\n",
              "    </div>\n",
              "  </div>\n",
              "  "
            ]
          },
          "metadata": {},
          "execution_count": 28
        }
      ]
    },
    {
      "cell_type": "code",
      "source": [
        "ames_python_test_1"
      ],
      "metadata": {
        "id": "GZKK5ULNL4Cg",
        "colab": {
          "base_uri": "https://localhost:8080/",
          "height": 505
        },
        "outputId": "99b1cedd-5e11-43a5-ca82-27376516a60b"
      },
      "execution_count": null,
      "outputs": [
        {
          "output_type": "execute_result",
          "data": {
            "text/plain": [
              "      Unnamed: 0                          MS_SubClass  \\\n",
              "1              2  One_Story_1946_and_Newer_All_Styles   \n",
              "3              4  One_Story_1946_and_Newer_All_Styles   \n",
              "6              7         One_Story_PUD_1946_and_Newer   \n",
              "8              9         One_Story_PUD_1946_and_Newer   \n",
              "9             10             Two_Story_1946_and_Newer   \n",
              "...          ...                                  ...   \n",
              "2916        2917     PUD_Multilevel_Split_Level_Foyer   \n",
              "2918        2919         Two_Story_PUD_1946_and_Newer   \n",
              "2921        2922           Duplex_All_Styles_and_Ages   \n",
              "2926        2927  One_Story_1946_and_Newer_All_Styles   \n",
              "2929        2930             Two_Story_1946_and_Newer   \n",
              "\n",
              "                       MS_Zoning  Lot_Frontage  Lot_Area Street  \\\n",
              "1       Residential_High_Density            80     11622   Pave   \n",
              "3        Residential_Low_Density            93     11160   Pave   \n",
              "6        Residential_Low_Density            41      4920   Pave   \n",
              "8        Residential_Low_Density            39      5389   Pave   \n",
              "9        Residential_Low_Density            60      7500   Pave   \n",
              "...                          ...           ...       ...    ...   \n",
              "2916  Residential_Medium_Density            21      1533   Pave   \n",
              "2918  Residential_Medium_Density            21      1526   Pave   \n",
              "2921     Residential_Low_Density            55     12640   Pave   \n",
              "2926     Residential_Low_Density             0      8885   Pave   \n",
              "2929     Residential_Low_Density            74      9627   Pave   \n",
              "\n",
              "                Alley           Lot_Shape Land_Contour Utilities  ...  \\\n",
              "1     No_Alley_Access             Regular          Lvl    AllPub  ...   \n",
              "3     No_Alley_Access             Regular          Lvl    AllPub  ...   \n",
              "6     No_Alley_Access             Regular          Lvl    AllPub  ...   \n",
              "8     No_Alley_Access  Slightly_Irregular          Lvl    AllPub  ...   \n",
              "9     No_Alley_Access             Regular          Lvl    AllPub  ...   \n",
              "...               ...                 ...          ...       ...  ...   \n",
              "2916  No_Alley_Access             Regular          Lvl    AllPub  ...   \n",
              "2918  No_Alley_Access             Regular          Lvl    AllPub  ...   \n",
              "2921  No_Alley_Access  Slightly_Irregular          Lvl    AllPub  ...   \n",
              "2926  No_Alley_Access  Slightly_Irregular          Low    AllPub  ...   \n",
              "2929  No_Alley_Access             Regular          Lvl    AllPub  ...   \n",
              "\n",
              "                Fence Misc_Feature Misc_Val Mo_Sold Year_Sold Sale_Type  \\\n",
              "1     Minimum_Privacy         None        0       6      2010       WD    \n",
              "3            No_Fence         None        0       4      2010       WD    \n",
              "6            No_Fence         None        0       4      2010       WD    \n",
              "8            No_Fence         None        0       3      2010       WD    \n",
              "9            No_Fence         None        0       6      2010       WD    \n",
              "...               ...          ...      ...     ...       ...       ...   \n",
              "2916         No_Fence         None        0       8      2006       WD    \n",
              "2918     Good_Privacy         None        0       6      2006       WD    \n",
              "2921         No_Fence         None        0       7      2006       WD    \n",
              "2926  Minimum_Privacy         None        0       6      2006       WD    \n",
              "2929         No_Fence         None        0      11      2006       WD    \n",
              "\n",
              "     Sale_Condition Sale_Price  Longitude   Latitude  \n",
              "1            Normal     105000 -93.619756  42.053014  \n",
              "3            Normal     244000 -93.617320  42.051245  \n",
              "6            Normal     213500 -93.633792  42.062978  \n",
              "8            Normal     236500 -93.632852  42.061120  \n",
              "9            Normal     189000 -93.639068  42.059193  \n",
              "...             ...        ...        ...        ...  \n",
              "2916        Abnorml      92000 -93.602043  41.992533  \n",
              "2918         Normal      79500 -93.601844  41.992497  \n",
              "2921         Normal     150900 -93.604475  41.990043  \n",
              "2926         Normal     131000 -93.602680  41.988314  \n",
              "2929         Normal     188000 -93.599996  41.989265  \n",
              "\n",
              "[879 rows x 82 columns]"
            ],
            "text/html": [
              "\n",
              "  <div id=\"df-459655b1-2aef-429f-aa6f-d49cca63fdb2\">\n",
              "    <div class=\"colab-df-container\">\n",
              "      <div>\n",
              "<style scoped>\n",
              "    .dataframe tbody tr th:only-of-type {\n",
              "        vertical-align: middle;\n",
              "    }\n",
              "\n",
              "    .dataframe tbody tr th {\n",
              "        vertical-align: top;\n",
              "    }\n",
              "\n",
              "    .dataframe thead th {\n",
              "        text-align: right;\n",
              "    }\n",
              "</style>\n",
              "<table border=\"1\" class=\"dataframe\">\n",
              "  <thead>\n",
              "    <tr style=\"text-align: right;\">\n",
              "      <th></th>\n",
              "      <th>Unnamed: 0</th>\n",
              "      <th>MS_SubClass</th>\n",
              "      <th>MS_Zoning</th>\n",
              "      <th>Lot_Frontage</th>\n",
              "      <th>Lot_Area</th>\n",
              "      <th>Street</th>\n",
              "      <th>Alley</th>\n",
              "      <th>Lot_Shape</th>\n",
              "      <th>Land_Contour</th>\n",
              "      <th>Utilities</th>\n",
              "      <th>...</th>\n",
              "      <th>Fence</th>\n",
              "      <th>Misc_Feature</th>\n",
              "      <th>Misc_Val</th>\n",
              "      <th>Mo_Sold</th>\n",
              "      <th>Year_Sold</th>\n",
              "      <th>Sale_Type</th>\n",
              "      <th>Sale_Condition</th>\n",
              "      <th>Sale_Price</th>\n",
              "      <th>Longitude</th>\n",
              "      <th>Latitude</th>\n",
              "    </tr>\n",
              "  </thead>\n",
              "  <tbody>\n",
              "    <tr>\n",
              "      <th>1</th>\n",
              "      <td>2</td>\n",
              "      <td>One_Story_1946_and_Newer_All_Styles</td>\n",
              "      <td>Residential_High_Density</td>\n",
              "      <td>80</td>\n",
              "      <td>11622</td>\n",
              "      <td>Pave</td>\n",
              "      <td>No_Alley_Access</td>\n",
              "      <td>Regular</td>\n",
              "      <td>Lvl</td>\n",
              "      <td>AllPub</td>\n",
              "      <td>...</td>\n",
              "      <td>Minimum_Privacy</td>\n",
              "      <td>None</td>\n",
              "      <td>0</td>\n",
              "      <td>6</td>\n",
              "      <td>2010</td>\n",
              "      <td>WD</td>\n",
              "      <td>Normal</td>\n",
              "      <td>105000</td>\n",
              "      <td>-93.619756</td>\n",
              "      <td>42.053014</td>\n",
              "    </tr>\n",
              "    <tr>\n",
              "      <th>3</th>\n",
              "      <td>4</td>\n",
              "      <td>One_Story_1946_and_Newer_All_Styles</td>\n",
              "      <td>Residential_Low_Density</td>\n",
              "      <td>93</td>\n",
              "      <td>11160</td>\n",
              "      <td>Pave</td>\n",
              "      <td>No_Alley_Access</td>\n",
              "      <td>Regular</td>\n",
              "      <td>Lvl</td>\n",
              "      <td>AllPub</td>\n",
              "      <td>...</td>\n",
              "      <td>No_Fence</td>\n",
              "      <td>None</td>\n",
              "      <td>0</td>\n",
              "      <td>4</td>\n",
              "      <td>2010</td>\n",
              "      <td>WD</td>\n",
              "      <td>Normal</td>\n",
              "      <td>244000</td>\n",
              "      <td>-93.617320</td>\n",
              "      <td>42.051245</td>\n",
              "    </tr>\n",
              "    <tr>\n",
              "      <th>6</th>\n",
              "      <td>7</td>\n",
              "      <td>One_Story_PUD_1946_and_Newer</td>\n",
              "      <td>Residential_Low_Density</td>\n",
              "      <td>41</td>\n",
              "      <td>4920</td>\n",
              "      <td>Pave</td>\n",
              "      <td>No_Alley_Access</td>\n",
              "      <td>Regular</td>\n",
              "      <td>Lvl</td>\n",
              "      <td>AllPub</td>\n",
              "      <td>...</td>\n",
              "      <td>No_Fence</td>\n",
              "      <td>None</td>\n",
              "      <td>0</td>\n",
              "      <td>4</td>\n",
              "      <td>2010</td>\n",
              "      <td>WD</td>\n",
              "      <td>Normal</td>\n",
              "      <td>213500</td>\n",
              "      <td>-93.633792</td>\n",
              "      <td>42.062978</td>\n",
              "    </tr>\n",
              "    <tr>\n",
              "      <th>8</th>\n",
              "      <td>9</td>\n",
              "      <td>One_Story_PUD_1946_and_Newer</td>\n",
              "      <td>Residential_Low_Density</td>\n",
              "      <td>39</td>\n",
              "      <td>5389</td>\n",
              "      <td>Pave</td>\n",
              "      <td>No_Alley_Access</td>\n",
              "      <td>Slightly_Irregular</td>\n",
              "      <td>Lvl</td>\n",
              "      <td>AllPub</td>\n",
              "      <td>...</td>\n",
              "      <td>No_Fence</td>\n",
              "      <td>None</td>\n",
              "      <td>0</td>\n",
              "      <td>3</td>\n",
              "      <td>2010</td>\n",
              "      <td>WD</td>\n",
              "      <td>Normal</td>\n",
              "      <td>236500</td>\n",
              "      <td>-93.632852</td>\n",
              "      <td>42.061120</td>\n",
              "    </tr>\n",
              "    <tr>\n",
              "      <th>9</th>\n",
              "      <td>10</td>\n",
              "      <td>Two_Story_1946_and_Newer</td>\n",
              "      <td>Residential_Low_Density</td>\n",
              "      <td>60</td>\n",
              "      <td>7500</td>\n",
              "      <td>Pave</td>\n",
              "      <td>No_Alley_Access</td>\n",
              "      <td>Regular</td>\n",
              "      <td>Lvl</td>\n",
              "      <td>AllPub</td>\n",
              "      <td>...</td>\n",
              "      <td>No_Fence</td>\n",
              "      <td>None</td>\n",
              "      <td>0</td>\n",
              "      <td>6</td>\n",
              "      <td>2010</td>\n",
              "      <td>WD</td>\n",
              "      <td>Normal</td>\n",
              "      <td>189000</td>\n",
              "      <td>-93.639068</td>\n",
              "      <td>42.059193</td>\n",
              "    </tr>\n",
              "    <tr>\n",
              "      <th>...</th>\n",
              "      <td>...</td>\n",
              "      <td>...</td>\n",
              "      <td>...</td>\n",
              "      <td>...</td>\n",
              "      <td>...</td>\n",
              "      <td>...</td>\n",
              "      <td>...</td>\n",
              "      <td>...</td>\n",
              "      <td>...</td>\n",
              "      <td>...</td>\n",
              "      <td>...</td>\n",
              "      <td>...</td>\n",
              "      <td>...</td>\n",
              "      <td>...</td>\n",
              "      <td>...</td>\n",
              "      <td>...</td>\n",
              "      <td>...</td>\n",
              "      <td>...</td>\n",
              "      <td>...</td>\n",
              "      <td>...</td>\n",
              "      <td>...</td>\n",
              "    </tr>\n",
              "    <tr>\n",
              "      <th>2916</th>\n",
              "      <td>2917</td>\n",
              "      <td>PUD_Multilevel_Split_Level_Foyer</td>\n",
              "      <td>Residential_Medium_Density</td>\n",
              "      <td>21</td>\n",
              "      <td>1533</td>\n",
              "      <td>Pave</td>\n",
              "      <td>No_Alley_Access</td>\n",
              "      <td>Regular</td>\n",
              "      <td>Lvl</td>\n",
              "      <td>AllPub</td>\n",
              "      <td>...</td>\n",
              "      <td>No_Fence</td>\n",
              "      <td>None</td>\n",
              "      <td>0</td>\n",
              "      <td>8</td>\n",
              "      <td>2006</td>\n",
              "      <td>WD</td>\n",
              "      <td>Abnorml</td>\n",
              "      <td>92000</td>\n",
              "      <td>-93.602043</td>\n",
              "      <td>41.992533</td>\n",
              "    </tr>\n",
              "    <tr>\n",
              "      <th>2918</th>\n",
              "      <td>2919</td>\n",
              "      <td>Two_Story_PUD_1946_and_Newer</td>\n",
              "      <td>Residential_Medium_Density</td>\n",
              "      <td>21</td>\n",
              "      <td>1526</td>\n",
              "      <td>Pave</td>\n",
              "      <td>No_Alley_Access</td>\n",
              "      <td>Regular</td>\n",
              "      <td>Lvl</td>\n",
              "      <td>AllPub</td>\n",
              "      <td>...</td>\n",
              "      <td>Good_Privacy</td>\n",
              "      <td>None</td>\n",
              "      <td>0</td>\n",
              "      <td>6</td>\n",
              "      <td>2006</td>\n",
              "      <td>WD</td>\n",
              "      <td>Normal</td>\n",
              "      <td>79500</td>\n",
              "      <td>-93.601844</td>\n",
              "      <td>41.992497</td>\n",
              "    </tr>\n",
              "    <tr>\n",
              "      <th>2921</th>\n",
              "      <td>2922</td>\n",
              "      <td>Duplex_All_Styles_and_Ages</td>\n",
              "      <td>Residential_Low_Density</td>\n",
              "      <td>55</td>\n",
              "      <td>12640</td>\n",
              "      <td>Pave</td>\n",
              "      <td>No_Alley_Access</td>\n",
              "      <td>Slightly_Irregular</td>\n",
              "      <td>Lvl</td>\n",
              "      <td>AllPub</td>\n",
              "      <td>...</td>\n",
              "      <td>No_Fence</td>\n",
              "      <td>None</td>\n",
              "      <td>0</td>\n",
              "      <td>7</td>\n",
              "      <td>2006</td>\n",
              "      <td>WD</td>\n",
              "      <td>Normal</td>\n",
              "      <td>150900</td>\n",
              "      <td>-93.604475</td>\n",
              "      <td>41.990043</td>\n",
              "    </tr>\n",
              "    <tr>\n",
              "      <th>2926</th>\n",
              "      <td>2927</td>\n",
              "      <td>One_Story_1946_and_Newer_All_Styles</td>\n",
              "      <td>Residential_Low_Density</td>\n",
              "      <td>0</td>\n",
              "      <td>8885</td>\n",
              "      <td>Pave</td>\n",
              "      <td>No_Alley_Access</td>\n",
              "      <td>Slightly_Irregular</td>\n",
              "      <td>Low</td>\n",
              "      <td>AllPub</td>\n",
              "      <td>...</td>\n",
              "      <td>Minimum_Privacy</td>\n",
              "      <td>None</td>\n",
              "      <td>0</td>\n",
              "      <td>6</td>\n",
              "      <td>2006</td>\n",
              "      <td>WD</td>\n",
              "      <td>Normal</td>\n",
              "      <td>131000</td>\n",
              "      <td>-93.602680</td>\n",
              "      <td>41.988314</td>\n",
              "    </tr>\n",
              "    <tr>\n",
              "      <th>2929</th>\n",
              "      <td>2930</td>\n",
              "      <td>Two_Story_1946_and_Newer</td>\n",
              "      <td>Residential_Low_Density</td>\n",
              "      <td>74</td>\n",
              "      <td>9627</td>\n",
              "      <td>Pave</td>\n",
              "      <td>No_Alley_Access</td>\n",
              "      <td>Regular</td>\n",
              "      <td>Lvl</td>\n",
              "      <td>AllPub</td>\n",
              "      <td>...</td>\n",
              "      <td>No_Fence</td>\n",
              "      <td>None</td>\n",
              "      <td>0</td>\n",
              "      <td>11</td>\n",
              "      <td>2006</td>\n",
              "      <td>WD</td>\n",
              "      <td>Normal</td>\n",
              "      <td>188000</td>\n",
              "      <td>-93.599996</td>\n",
              "      <td>41.989265</td>\n",
              "    </tr>\n",
              "  </tbody>\n",
              "</table>\n",
              "<p>879 rows × 82 columns</p>\n",
              "</div>\n",
              "      <button class=\"colab-df-convert\" onclick=\"convertToInteractive('df-459655b1-2aef-429f-aa6f-d49cca63fdb2')\"\n",
              "              title=\"Convert this dataframe to an interactive table.\"\n",
              "              style=\"display:none;\">\n",
              "        \n",
              "  <svg xmlns=\"http://www.w3.org/2000/svg\" height=\"24px\"viewBox=\"0 0 24 24\"\n",
              "       width=\"24px\">\n",
              "    <path d=\"M0 0h24v24H0V0z\" fill=\"none\"/>\n",
              "    <path d=\"M18.56 5.44l.94 2.06.94-2.06 2.06-.94-2.06-.94-.94-2.06-.94 2.06-2.06.94zm-11 1L8.5 8.5l.94-2.06 2.06-.94-2.06-.94L8.5 2.5l-.94 2.06-2.06.94zm10 10l.94 2.06.94-2.06 2.06-.94-2.06-.94-.94-2.06-.94 2.06-2.06.94z\"/><path d=\"M17.41 7.96l-1.37-1.37c-.4-.4-.92-.59-1.43-.59-.52 0-1.04.2-1.43.59L10.3 9.45l-7.72 7.72c-.78.78-.78 2.05 0 2.83L4 21.41c.39.39.9.59 1.41.59.51 0 1.02-.2 1.41-.59l7.78-7.78 2.81-2.81c.8-.78.8-2.07 0-2.86zM5.41 20L4 18.59l7.72-7.72 1.47 1.35L5.41 20z\"/>\n",
              "  </svg>\n",
              "      </button>\n",
              "      \n",
              "  <style>\n",
              "    .colab-df-container {\n",
              "      display:flex;\n",
              "      flex-wrap:wrap;\n",
              "      gap: 12px;\n",
              "    }\n",
              "\n",
              "    .colab-df-convert {\n",
              "      background-color: #E8F0FE;\n",
              "      border: none;\n",
              "      border-radius: 50%;\n",
              "      cursor: pointer;\n",
              "      display: none;\n",
              "      fill: #1967D2;\n",
              "      height: 32px;\n",
              "      padding: 0 0 0 0;\n",
              "      width: 32px;\n",
              "    }\n",
              "\n",
              "    .colab-df-convert:hover {\n",
              "      background-color: #E2EBFA;\n",
              "      box-shadow: 0px 1px 2px rgba(60, 64, 67, 0.3), 0px 1px 3px 1px rgba(60, 64, 67, 0.15);\n",
              "      fill: #174EA6;\n",
              "    }\n",
              "\n",
              "    [theme=dark] .colab-df-convert {\n",
              "      background-color: #3B4455;\n",
              "      fill: #D2E3FC;\n",
              "    }\n",
              "\n",
              "    [theme=dark] .colab-df-convert:hover {\n",
              "      background-color: #434B5C;\n",
              "      box-shadow: 0px 1px 3px 1px rgba(0, 0, 0, 0.15);\n",
              "      filter: drop-shadow(0px 1px 2px rgba(0, 0, 0, 0.3));\n",
              "      fill: #FFFFFF;\n",
              "    }\n",
              "  </style>\n",
              "\n",
              "      <script>\n",
              "        const buttonEl =\n",
              "          document.querySelector('#df-459655b1-2aef-429f-aa6f-d49cca63fdb2 button.colab-df-convert');\n",
              "        buttonEl.style.display =\n",
              "          google.colab.kernel.accessAllowed ? 'block' : 'none';\n",
              "\n",
              "        async function convertToInteractive(key) {\n",
              "          const element = document.querySelector('#df-459655b1-2aef-429f-aa6f-d49cca63fdb2');\n",
              "          const dataTable =\n",
              "            await google.colab.kernel.invokeFunction('convertToInteractive',\n",
              "                                                     [key], {});\n",
              "          if (!dataTable) return;\n",
              "\n",
              "          const docLinkHtml = 'Like what you see? Visit the ' +\n",
              "            '<a target=\"_blank\" href=https://colab.research.google.com/notebooks/data_table.ipynb>data table notebook</a>'\n",
              "            + ' to learn more about interactive tables.';\n",
              "          element.innerHTML = '';\n",
              "          dataTable['output_type'] = 'display_data';\n",
              "          await google.colab.output.renderOutput(dataTable, element);\n",
              "          const docLink = document.createElement('div');\n",
              "          docLink.innerHTML = docLinkHtml;\n",
              "          element.appendChild(docLink);\n",
              "        }\n",
              "      </script>\n",
              "    </div>\n",
              "  </div>\n",
              "  "
            ]
          },
          "metadata": {},
          "execution_count": 29
        }
      ]
    },
    {
      "cell_type": "markdown",
      "source": [
        "## 3.2 With `sklearn` <a name=\"three-two\"></a>\n",
        "We now demonstrate sampling that is stratified on the distribution of the target variable. We use the `train_test_split` function from `sklearn`. \n",
        "\n",
        "First, we categorize the response variable `Sale_Price` in the `ames_python` DataFrame into 20 bins. We create the bins using the `linspace` function from the `numpy` package. We then feed those bins to the `cut` function from the pandas package and as such categorize the `Sale_Price` according to the bins."
      ],
      "metadata": {
        "id": "8G4I21OsNcq7"
      }
    },
    {
      "cell_type": "code",
      "source": [
        "bins = np.linspace(ames_python.Sale_Price.min(), ames_python.Sale_Price.max(), 20 ) \n",
        "print(ames_python.Sale_Price.min())\n",
        "print(ames_python.Sale_Price.max())\n",
        "print(bins)"
      ],
      "metadata": {
        "id": "pW1swpUsOObQ",
        "colab": {
          "base_uri": "https://localhost:8080/"
        },
        "outputId": "8d7bb9f2-7555-4738-da74-cedf4e8d00f4"
      },
      "execution_count": null,
      "outputs": [
        {
          "output_type": "stream",
          "name": "stdout",
          "text": [
            "12789\n",
            "755000\n",
            "[ 12789.          51852.73684211  90916.47368421 129980.21052632\n",
            " 169043.94736842 208107.68421053 247171.42105263 286235.15789474\n",
            " 325298.89473684 364362.63157895 403426.36842105 442490.10526316\n",
            " 481553.84210526 520617.57894737 559681.31578947 598745.05263158\n",
            " 637808.78947368 676872.52631579 715936.26315789 755000.        ]\n"
          ]
        }
      ]
    },
    {
      "cell_type": "code",
      "source": [
        "y_cat = pd.cut(ames_python.Sale_Price, bins = bins, include_lowest = True) \n",
        "print(ames_python.Sale_Price)\n",
        "print(y_cat)"
      ],
      "metadata": {
        "id": "PQcn-QWoOm-Y",
        "colab": {
          "base_uri": "https://localhost:8080/"
        },
        "outputId": "76a0ce7f-114c-45ed-f4bc-ee7ca9a731e8"
      },
      "execution_count": null,
      "outputs": [
        {
          "output_type": "stream",
          "name": "stdout",
          "text": [
            "0       215000\n",
            "1       105000\n",
            "2       172000\n",
            "3       244000\n",
            "4       189900\n",
            "         ...  \n",
            "2925    142500\n",
            "2926    131000\n",
            "2927    132000\n",
            "2928    170000\n",
            "2929    188000\n",
            "Name: Sale_Price, Length: 2930, dtype: int64\n",
            "0       (208107.684, 247171.421]\n",
            "1        (90916.474, 129980.211]\n",
            "2       (169043.947, 208107.684]\n",
            "3       (208107.684, 247171.421]\n",
            "4       (169043.947, 208107.684]\n",
            "                  ...           \n",
            "2925    (129980.211, 169043.947]\n",
            "2926    (129980.211, 169043.947]\n",
            "2927    (129980.211, 169043.947]\n",
            "2928    (169043.947, 208107.684]\n",
            "2929    (169043.947, 208107.684]\n",
            "Name: Sale_Price, Length: 2930, dtype: category\n",
            "Categories (19, interval[float64, right]): [(12788.999, 51852.737] < (51852.737, 90916.474] <\n",
            "                                            (90916.474, 129980.211] < (129980.211, 169043.947] < ... <\n",
            "                                            (598745.053, 637808.789] < (637808.789, 676872.526] <\n",
            "                                            (676872.526, 715936.263] < (715936.263, 755000.0]]\n"
          ]
        }
      ]
    },
    {
      "cell_type": "markdown",
      "source": [
        "Once this is done we use the `train_test_split` function from `sklearn` to create a training and test set using stratified sampling according to the `y_cat` variable. We extract the feature matrix from the data set. "
      ],
      "metadata": {
        "id": "yaGV6vytPGPY"
      }
    },
    {
      "cell_type": "code",
      "source": [
        "ames_python_X = ames_python.drop(columns=['Sale_Price']) \n",
        "ames_python_X.head()"
      ],
      "metadata": {
        "id": "mo23U5faPQPp",
        "colab": {
          "base_uri": "https://localhost:8080/",
          "height": 317
        },
        "outputId": "61319e20-6951-481c-d495-d08e57b3f949"
      },
      "execution_count": null,
      "outputs": [
        {
          "output_type": "execute_result",
          "data": {
            "text/plain": [
              "   Unnamed: 0                          MS_SubClass                 MS_Zoning  \\\n",
              "0           1  One_Story_1946_and_Newer_All_Styles   Residential_Low_Density   \n",
              "1           2  One_Story_1946_and_Newer_All_Styles  Residential_High_Density   \n",
              "2           3  One_Story_1946_and_Newer_All_Styles   Residential_Low_Density   \n",
              "3           4  One_Story_1946_and_Newer_All_Styles   Residential_Low_Density   \n",
              "4           5             Two_Story_1946_and_Newer   Residential_Low_Density   \n",
              "\n",
              "   Lot_Frontage  Lot_Area Street            Alley           Lot_Shape  \\\n",
              "0           141     31770   Pave  No_Alley_Access  Slightly_Irregular   \n",
              "1            80     11622   Pave  No_Alley_Access             Regular   \n",
              "2            81     14267   Pave  No_Alley_Access  Slightly_Irregular   \n",
              "3            93     11160   Pave  No_Alley_Access             Regular   \n",
              "4            74     13830   Pave  No_Alley_Access  Slightly_Irregular   \n",
              "\n",
              "  Land_Contour Utilities  ...  Pool_QC            Fence Misc_Feature Misc_Val  \\\n",
              "0          Lvl    AllPub  ...  No_Pool         No_Fence         None        0   \n",
              "1          Lvl    AllPub  ...  No_Pool  Minimum_Privacy         None        0   \n",
              "2          Lvl    AllPub  ...  No_Pool         No_Fence         Gar2    12500   \n",
              "3          Lvl    AllPub  ...  No_Pool         No_Fence         None        0   \n",
              "4          Lvl    AllPub  ...  No_Pool  Minimum_Privacy         None        0   \n",
              "\n",
              "  Mo_Sold Year_Sold Sale_Type Sale_Condition  Longitude   Latitude  \n",
              "0       5      2010       WD          Normal -93.619754  42.054035  \n",
              "1       6      2010       WD          Normal -93.619756  42.053014  \n",
              "2       6      2010       WD          Normal -93.619387  42.052659  \n",
              "3       4      2010       WD          Normal -93.617320  42.051245  \n",
              "4       3      2010       WD          Normal -93.638933  42.060899  \n",
              "\n",
              "[5 rows x 81 columns]"
            ],
            "text/html": [
              "\n",
              "  <div id=\"df-df00e77f-1c88-4040-9fbf-f9908dcee4b5\">\n",
              "    <div class=\"colab-df-container\">\n",
              "      <div>\n",
              "<style scoped>\n",
              "    .dataframe tbody tr th:only-of-type {\n",
              "        vertical-align: middle;\n",
              "    }\n",
              "\n",
              "    .dataframe tbody tr th {\n",
              "        vertical-align: top;\n",
              "    }\n",
              "\n",
              "    .dataframe thead th {\n",
              "        text-align: right;\n",
              "    }\n",
              "</style>\n",
              "<table border=\"1\" class=\"dataframe\">\n",
              "  <thead>\n",
              "    <tr style=\"text-align: right;\">\n",
              "      <th></th>\n",
              "      <th>Unnamed: 0</th>\n",
              "      <th>MS_SubClass</th>\n",
              "      <th>MS_Zoning</th>\n",
              "      <th>Lot_Frontage</th>\n",
              "      <th>Lot_Area</th>\n",
              "      <th>Street</th>\n",
              "      <th>Alley</th>\n",
              "      <th>Lot_Shape</th>\n",
              "      <th>Land_Contour</th>\n",
              "      <th>Utilities</th>\n",
              "      <th>...</th>\n",
              "      <th>Pool_QC</th>\n",
              "      <th>Fence</th>\n",
              "      <th>Misc_Feature</th>\n",
              "      <th>Misc_Val</th>\n",
              "      <th>Mo_Sold</th>\n",
              "      <th>Year_Sold</th>\n",
              "      <th>Sale_Type</th>\n",
              "      <th>Sale_Condition</th>\n",
              "      <th>Longitude</th>\n",
              "      <th>Latitude</th>\n",
              "    </tr>\n",
              "  </thead>\n",
              "  <tbody>\n",
              "    <tr>\n",
              "      <th>0</th>\n",
              "      <td>1</td>\n",
              "      <td>One_Story_1946_and_Newer_All_Styles</td>\n",
              "      <td>Residential_Low_Density</td>\n",
              "      <td>141</td>\n",
              "      <td>31770</td>\n",
              "      <td>Pave</td>\n",
              "      <td>No_Alley_Access</td>\n",
              "      <td>Slightly_Irregular</td>\n",
              "      <td>Lvl</td>\n",
              "      <td>AllPub</td>\n",
              "      <td>...</td>\n",
              "      <td>No_Pool</td>\n",
              "      <td>No_Fence</td>\n",
              "      <td>None</td>\n",
              "      <td>0</td>\n",
              "      <td>5</td>\n",
              "      <td>2010</td>\n",
              "      <td>WD</td>\n",
              "      <td>Normal</td>\n",
              "      <td>-93.619754</td>\n",
              "      <td>42.054035</td>\n",
              "    </tr>\n",
              "    <tr>\n",
              "      <th>1</th>\n",
              "      <td>2</td>\n",
              "      <td>One_Story_1946_and_Newer_All_Styles</td>\n",
              "      <td>Residential_High_Density</td>\n",
              "      <td>80</td>\n",
              "      <td>11622</td>\n",
              "      <td>Pave</td>\n",
              "      <td>No_Alley_Access</td>\n",
              "      <td>Regular</td>\n",
              "      <td>Lvl</td>\n",
              "      <td>AllPub</td>\n",
              "      <td>...</td>\n",
              "      <td>No_Pool</td>\n",
              "      <td>Minimum_Privacy</td>\n",
              "      <td>None</td>\n",
              "      <td>0</td>\n",
              "      <td>6</td>\n",
              "      <td>2010</td>\n",
              "      <td>WD</td>\n",
              "      <td>Normal</td>\n",
              "      <td>-93.619756</td>\n",
              "      <td>42.053014</td>\n",
              "    </tr>\n",
              "    <tr>\n",
              "      <th>2</th>\n",
              "      <td>3</td>\n",
              "      <td>One_Story_1946_and_Newer_All_Styles</td>\n",
              "      <td>Residential_Low_Density</td>\n",
              "      <td>81</td>\n",
              "      <td>14267</td>\n",
              "      <td>Pave</td>\n",
              "      <td>No_Alley_Access</td>\n",
              "      <td>Slightly_Irregular</td>\n",
              "      <td>Lvl</td>\n",
              "      <td>AllPub</td>\n",
              "      <td>...</td>\n",
              "      <td>No_Pool</td>\n",
              "      <td>No_Fence</td>\n",
              "      <td>Gar2</td>\n",
              "      <td>12500</td>\n",
              "      <td>6</td>\n",
              "      <td>2010</td>\n",
              "      <td>WD</td>\n",
              "      <td>Normal</td>\n",
              "      <td>-93.619387</td>\n",
              "      <td>42.052659</td>\n",
              "    </tr>\n",
              "    <tr>\n",
              "      <th>3</th>\n",
              "      <td>4</td>\n",
              "      <td>One_Story_1946_and_Newer_All_Styles</td>\n",
              "      <td>Residential_Low_Density</td>\n",
              "      <td>93</td>\n",
              "      <td>11160</td>\n",
              "      <td>Pave</td>\n",
              "      <td>No_Alley_Access</td>\n",
              "      <td>Regular</td>\n",
              "      <td>Lvl</td>\n",
              "      <td>AllPub</td>\n",
              "      <td>...</td>\n",
              "      <td>No_Pool</td>\n",
              "      <td>No_Fence</td>\n",
              "      <td>None</td>\n",
              "      <td>0</td>\n",
              "      <td>4</td>\n",
              "      <td>2010</td>\n",
              "      <td>WD</td>\n",
              "      <td>Normal</td>\n",
              "      <td>-93.617320</td>\n",
              "      <td>42.051245</td>\n",
              "    </tr>\n",
              "    <tr>\n",
              "      <th>4</th>\n",
              "      <td>5</td>\n",
              "      <td>Two_Story_1946_and_Newer</td>\n",
              "      <td>Residential_Low_Density</td>\n",
              "      <td>74</td>\n",
              "      <td>13830</td>\n",
              "      <td>Pave</td>\n",
              "      <td>No_Alley_Access</td>\n",
              "      <td>Slightly_Irregular</td>\n",
              "      <td>Lvl</td>\n",
              "      <td>AllPub</td>\n",
              "      <td>...</td>\n",
              "      <td>No_Pool</td>\n",
              "      <td>Minimum_Privacy</td>\n",
              "      <td>None</td>\n",
              "      <td>0</td>\n",
              "      <td>3</td>\n",
              "      <td>2010</td>\n",
              "      <td>WD</td>\n",
              "      <td>Normal</td>\n",
              "      <td>-93.638933</td>\n",
              "      <td>42.060899</td>\n",
              "    </tr>\n",
              "  </tbody>\n",
              "</table>\n",
              "<p>5 rows × 81 columns</p>\n",
              "</div>\n",
              "      <button class=\"colab-df-convert\" onclick=\"convertToInteractive('df-df00e77f-1c88-4040-9fbf-f9908dcee4b5')\"\n",
              "              title=\"Convert this dataframe to an interactive table.\"\n",
              "              style=\"display:none;\">\n",
              "        \n",
              "  <svg xmlns=\"http://www.w3.org/2000/svg\" height=\"24px\"viewBox=\"0 0 24 24\"\n",
              "       width=\"24px\">\n",
              "    <path d=\"M0 0h24v24H0V0z\" fill=\"none\"/>\n",
              "    <path d=\"M18.56 5.44l.94 2.06.94-2.06 2.06-.94-2.06-.94-.94-2.06-.94 2.06-2.06.94zm-11 1L8.5 8.5l.94-2.06 2.06-.94-2.06-.94L8.5 2.5l-.94 2.06-2.06.94zm10 10l.94 2.06.94-2.06 2.06-.94-2.06-.94-.94-2.06-.94 2.06-2.06.94z\"/><path d=\"M17.41 7.96l-1.37-1.37c-.4-.4-.92-.59-1.43-.59-.52 0-1.04.2-1.43.59L10.3 9.45l-7.72 7.72c-.78.78-.78 2.05 0 2.83L4 21.41c.39.39.9.59 1.41.59.51 0 1.02-.2 1.41-.59l7.78-7.78 2.81-2.81c.8-.78.8-2.07 0-2.86zM5.41 20L4 18.59l7.72-7.72 1.47 1.35L5.41 20z\"/>\n",
              "  </svg>\n",
              "      </button>\n",
              "      \n",
              "  <style>\n",
              "    .colab-df-container {\n",
              "      display:flex;\n",
              "      flex-wrap:wrap;\n",
              "      gap: 12px;\n",
              "    }\n",
              "\n",
              "    .colab-df-convert {\n",
              "      background-color: #E8F0FE;\n",
              "      border: none;\n",
              "      border-radius: 50%;\n",
              "      cursor: pointer;\n",
              "      display: none;\n",
              "      fill: #1967D2;\n",
              "      height: 32px;\n",
              "      padding: 0 0 0 0;\n",
              "      width: 32px;\n",
              "    }\n",
              "\n",
              "    .colab-df-convert:hover {\n",
              "      background-color: #E2EBFA;\n",
              "      box-shadow: 0px 1px 2px rgba(60, 64, 67, 0.3), 0px 1px 3px 1px rgba(60, 64, 67, 0.15);\n",
              "      fill: #174EA6;\n",
              "    }\n",
              "\n",
              "    [theme=dark] .colab-df-convert {\n",
              "      background-color: #3B4455;\n",
              "      fill: #D2E3FC;\n",
              "    }\n",
              "\n",
              "    [theme=dark] .colab-df-convert:hover {\n",
              "      background-color: #434B5C;\n",
              "      box-shadow: 0px 1px 3px 1px rgba(0, 0, 0, 0.15);\n",
              "      filter: drop-shadow(0px 1px 2px rgba(0, 0, 0, 0.3));\n",
              "      fill: #FFFFFF;\n",
              "    }\n",
              "  </style>\n",
              "\n",
              "      <script>\n",
              "        const buttonEl =\n",
              "          document.querySelector('#df-df00e77f-1c88-4040-9fbf-f9908dcee4b5 button.colab-df-convert');\n",
              "        buttonEl.style.display =\n",
              "          google.colab.kernel.accessAllowed ? 'block' : 'none';\n",
              "\n",
              "        async function convertToInteractive(key) {\n",
              "          const element = document.querySelector('#df-df00e77f-1c88-4040-9fbf-f9908dcee4b5');\n",
              "          const dataTable =\n",
              "            await google.colab.kernel.invokeFunction('convertToInteractive',\n",
              "                                                     [key], {});\n",
              "          if (!dataTable) return;\n",
              "\n",
              "          const docLinkHtml = 'Like what you see? Visit the ' +\n",
              "            '<a target=\"_blank\" href=https://colab.research.google.com/notebooks/data_table.ipynb>data table notebook</a>'\n",
              "            + ' to learn more about interactive tables.';\n",
              "          element.innerHTML = '';\n",
              "          dataTable['output_type'] = 'display_data';\n",
              "          await google.colab.output.renderOutput(dataTable, element);\n",
              "          const docLink = document.createElement('div');\n",
              "          docLink.innerHTML = docLinkHtml;\n",
              "          element.appendChild(docLink);\n",
              "        }\n",
              "      </script>\n",
              "    </div>\n",
              "  </div>\n",
              "  "
            ]
          },
          "metadata": {},
          "execution_count": 32
        }
      ]
    },
    {
      "cell_type": "code",
      "source": [
        "ames_python_X_train_2, ames_python_X_test_2, ames_python_y_train_2, ames_python_y_test_2 = train_test_split(ames_python_X,ames_python.Sale_Price, test_size = 0.3, stratify = y_cat) "
      ],
      "metadata": {
        "id": "jCZHE2xwP56h"
      },
      "execution_count": null,
      "outputs": []
    },
    {
      "cell_type": "code",
      "source": [
        "ames_python_X_train_2.shape[0]/ames_python.shape[0]"
      ],
      "metadata": {
        "id": "Ddrkc8r2QDhh",
        "colab": {
          "base_uri": "https://localhost:8080/"
        },
        "outputId": "00094cf2-8488-4ee2-cc7c-d45e8442d17e"
      },
      "execution_count": null,
      "outputs": [
        {
          "output_type": "execute_result",
          "data": {
            "text/plain": [
              "0.7"
            ]
          },
          "metadata": {},
          "execution_count": 34
        }
      ]
    },
    {
      "cell_type": "markdown",
      "source": [
        "As a check, we plot the distribution of `Sale_Price` as available in the train vs test data sets, created by each of the two demonstrated methods. Hereto, we extract the observations for `Sale_Price` from both train and test sets. "
      ],
      "metadata": {
        "id": "8-Fl3Q0amYIW"
      }
    },
    {
      "cell_type": "code",
      "source": [
        "# get the Sale_Price records from the two training sets\n",
        "df_train_1 = pd.DataFrame(ames_python_train_1.Sale_Price)\n",
        "df_train_2 = pd.DataFrame(ames_python_y_train_2)\n",
        "\n",
        "# get the Sale_Price records from the two test sets\n",
        "df_test_1 = pd.DataFrame(ames_python_test_1.Sale_Price)\n",
        "df_test_2= pd.DataFrame(ames_python_y_test_2)\n",
        "# and concatenate\n",
        "# axis = 1 indicates that the dataframes are concatenated columnwise\n",
        "# the default axis = 0 would concatenate rowwise\n",
        "plot_pd = pd.concat([df_train_1, df_train_2, df_test_1, df_test_2], ignore_index = True, axis = 1)\n",
        "\n",
        "# rename columns for x-label\n",
        "plot_pd.columns = ['pandas: Sale Price train', 'scikit-learn: Sale Price train', 'pandas: Sale Price test', 'scikit-learn: Sale Price test']\n",
        "plot_pd"
      ],
      "metadata": {
        "colab": {
          "base_uri": "https://localhost:8080/",
          "height": 423
        },
        "id": "GTgFXUNrkONv",
        "outputId": "854d2a0e-1934-4f8e-c9da-2f165efe78d4"
      },
      "execution_count": null,
      "outputs": [
        {
          "output_type": "execute_result",
          "data": {
            "text/plain": [
              "      pandas: Sale Price train  scikit-learn: Sale Price train  \\\n",
              "0                     215000.0                             NaN   \n",
              "1                          NaN                             NaN   \n",
              "2                     172000.0                        172000.0   \n",
              "3                          NaN                             NaN   \n",
              "4                     189900.0                             NaN   \n",
              "...                        ...                             ...   \n",
              "2925                  142500.0                        142500.0   \n",
              "2926                       NaN                        131000.0   \n",
              "2927                  132000.0                        132000.0   \n",
              "2928                  170000.0                             NaN   \n",
              "2929                       NaN                        188000.0   \n",
              "\n",
              "      pandas: Sale Price test  scikit-learn: Sale Price test  \n",
              "0                         NaN                       215000.0  \n",
              "1                    105000.0                       105000.0  \n",
              "2                         NaN                            NaN  \n",
              "3                    244000.0                       244000.0  \n",
              "4                         NaN                       189900.0  \n",
              "...                       ...                            ...  \n",
              "2925                      NaN                            NaN  \n",
              "2926                 131000.0                            NaN  \n",
              "2927                      NaN                            NaN  \n",
              "2928                      NaN                       170000.0  \n",
              "2929                 188000.0                            NaN  \n",
              "\n",
              "[2930 rows x 4 columns]"
            ],
            "text/html": [
              "\n",
              "  <div id=\"df-54cc09d1-eeae-48bf-b5c7-f0d973e25fd4\">\n",
              "    <div class=\"colab-df-container\">\n",
              "      <div>\n",
              "<style scoped>\n",
              "    .dataframe tbody tr th:only-of-type {\n",
              "        vertical-align: middle;\n",
              "    }\n",
              "\n",
              "    .dataframe tbody tr th {\n",
              "        vertical-align: top;\n",
              "    }\n",
              "\n",
              "    .dataframe thead th {\n",
              "        text-align: right;\n",
              "    }\n",
              "</style>\n",
              "<table border=\"1\" class=\"dataframe\">\n",
              "  <thead>\n",
              "    <tr style=\"text-align: right;\">\n",
              "      <th></th>\n",
              "      <th>pandas: Sale Price train</th>\n",
              "      <th>scikit-learn: Sale Price train</th>\n",
              "      <th>pandas: Sale Price test</th>\n",
              "      <th>scikit-learn: Sale Price test</th>\n",
              "    </tr>\n",
              "  </thead>\n",
              "  <tbody>\n",
              "    <tr>\n",
              "      <th>0</th>\n",
              "      <td>215000.0</td>\n",
              "      <td>NaN</td>\n",
              "      <td>NaN</td>\n",
              "      <td>215000.0</td>\n",
              "    </tr>\n",
              "    <tr>\n",
              "      <th>1</th>\n",
              "      <td>NaN</td>\n",
              "      <td>NaN</td>\n",
              "      <td>105000.0</td>\n",
              "      <td>105000.0</td>\n",
              "    </tr>\n",
              "    <tr>\n",
              "      <th>2</th>\n",
              "      <td>172000.0</td>\n",
              "      <td>172000.0</td>\n",
              "      <td>NaN</td>\n",
              "      <td>NaN</td>\n",
              "    </tr>\n",
              "    <tr>\n",
              "      <th>3</th>\n",
              "      <td>NaN</td>\n",
              "      <td>NaN</td>\n",
              "      <td>244000.0</td>\n",
              "      <td>244000.0</td>\n",
              "    </tr>\n",
              "    <tr>\n",
              "      <th>4</th>\n",
              "      <td>189900.0</td>\n",
              "      <td>NaN</td>\n",
              "      <td>NaN</td>\n",
              "      <td>189900.0</td>\n",
              "    </tr>\n",
              "    <tr>\n",
              "      <th>...</th>\n",
              "      <td>...</td>\n",
              "      <td>...</td>\n",
              "      <td>...</td>\n",
              "      <td>...</td>\n",
              "    </tr>\n",
              "    <tr>\n",
              "      <th>2925</th>\n",
              "      <td>142500.0</td>\n",
              "      <td>142500.0</td>\n",
              "      <td>NaN</td>\n",
              "      <td>NaN</td>\n",
              "    </tr>\n",
              "    <tr>\n",
              "      <th>2926</th>\n",
              "      <td>NaN</td>\n",
              "      <td>131000.0</td>\n",
              "      <td>131000.0</td>\n",
              "      <td>NaN</td>\n",
              "    </tr>\n",
              "    <tr>\n",
              "      <th>2927</th>\n",
              "      <td>132000.0</td>\n",
              "      <td>132000.0</td>\n",
              "      <td>NaN</td>\n",
              "      <td>NaN</td>\n",
              "    </tr>\n",
              "    <tr>\n",
              "      <th>2928</th>\n",
              "      <td>170000.0</td>\n",
              "      <td>NaN</td>\n",
              "      <td>NaN</td>\n",
              "      <td>170000.0</td>\n",
              "    </tr>\n",
              "    <tr>\n",
              "      <th>2929</th>\n",
              "      <td>NaN</td>\n",
              "      <td>188000.0</td>\n",
              "      <td>188000.0</td>\n",
              "      <td>NaN</td>\n",
              "    </tr>\n",
              "  </tbody>\n",
              "</table>\n",
              "<p>2930 rows × 4 columns</p>\n",
              "</div>\n",
              "      <button class=\"colab-df-convert\" onclick=\"convertToInteractive('df-54cc09d1-eeae-48bf-b5c7-f0d973e25fd4')\"\n",
              "              title=\"Convert this dataframe to an interactive table.\"\n",
              "              style=\"display:none;\">\n",
              "        \n",
              "  <svg xmlns=\"http://www.w3.org/2000/svg\" height=\"24px\"viewBox=\"0 0 24 24\"\n",
              "       width=\"24px\">\n",
              "    <path d=\"M0 0h24v24H0V0z\" fill=\"none\"/>\n",
              "    <path d=\"M18.56 5.44l.94 2.06.94-2.06 2.06-.94-2.06-.94-.94-2.06-.94 2.06-2.06.94zm-11 1L8.5 8.5l.94-2.06 2.06-.94-2.06-.94L8.5 2.5l-.94 2.06-2.06.94zm10 10l.94 2.06.94-2.06 2.06-.94-2.06-.94-.94-2.06-.94 2.06-2.06.94z\"/><path d=\"M17.41 7.96l-1.37-1.37c-.4-.4-.92-.59-1.43-.59-.52 0-1.04.2-1.43.59L10.3 9.45l-7.72 7.72c-.78.78-.78 2.05 0 2.83L4 21.41c.39.39.9.59 1.41.59.51 0 1.02-.2 1.41-.59l7.78-7.78 2.81-2.81c.8-.78.8-2.07 0-2.86zM5.41 20L4 18.59l7.72-7.72 1.47 1.35L5.41 20z\"/>\n",
              "  </svg>\n",
              "      </button>\n",
              "      \n",
              "  <style>\n",
              "    .colab-df-container {\n",
              "      display:flex;\n",
              "      flex-wrap:wrap;\n",
              "      gap: 12px;\n",
              "    }\n",
              "\n",
              "    .colab-df-convert {\n",
              "      background-color: #E8F0FE;\n",
              "      border: none;\n",
              "      border-radius: 50%;\n",
              "      cursor: pointer;\n",
              "      display: none;\n",
              "      fill: #1967D2;\n",
              "      height: 32px;\n",
              "      padding: 0 0 0 0;\n",
              "      width: 32px;\n",
              "    }\n",
              "\n",
              "    .colab-df-convert:hover {\n",
              "      background-color: #E2EBFA;\n",
              "      box-shadow: 0px 1px 2px rgba(60, 64, 67, 0.3), 0px 1px 3px 1px rgba(60, 64, 67, 0.15);\n",
              "      fill: #174EA6;\n",
              "    }\n",
              "\n",
              "    [theme=dark] .colab-df-convert {\n",
              "      background-color: #3B4455;\n",
              "      fill: #D2E3FC;\n",
              "    }\n",
              "\n",
              "    [theme=dark] .colab-df-convert:hover {\n",
              "      background-color: #434B5C;\n",
              "      box-shadow: 0px 1px 3px 1px rgba(0, 0, 0, 0.15);\n",
              "      filter: drop-shadow(0px 1px 2px rgba(0, 0, 0, 0.3));\n",
              "      fill: #FFFFFF;\n",
              "    }\n",
              "  </style>\n",
              "\n",
              "      <script>\n",
              "        const buttonEl =\n",
              "          document.querySelector('#df-54cc09d1-eeae-48bf-b5c7-f0d973e25fd4 button.colab-df-convert');\n",
              "        buttonEl.style.display =\n",
              "          google.colab.kernel.accessAllowed ? 'block' : 'none';\n",
              "\n",
              "        async function convertToInteractive(key) {\n",
              "          const element = document.querySelector('#df-54cc09d1-eeae-48bf-b5c7-f0d973e25fd4');\n",
              "          const dataTable =\n",
              "            await google.colab.kernel.invokeFunction('convertToInteractive',\n",
              "                                                     [key], {});\n",
              "          if (!dataTable) return;\n",
              "\n",
              "          const docLinkHtml = 'Like what you see? Visit the ' +\n",
              "            '<a target=\"_blank\" href=https://colab.research.google.com/notebooks/data_table.ipynb>data table notebook</a>'\n",
              "            + ' to learn more about interactive tables.';\n",
              "          element.innerHTML = '';\n",
              "          dataTable['output_type'] = 'display_data';\n",
              "          await google.colab.output.renderOutput(dataTable, element);\n",
              "          const docLink = document.createElement('div');\n",
              "          docLink.innerHTML = docLinkHtml;\n",
              "          element.appendChild(docLink);\n",
              "        }\n",
              "      </script>\n",
              "    </div>\n",
              "  </div>\n",
              "  "
            ]
          },
          "metadata": {},
          "execution_count": 35
        }
      ]
    },
    {
      "cell_type": "markdown",
      "source": [
        "Next, we plot the distribution of `Sale_Price` as available in the train (in black) vs test (in red) data sets, created by each of the two demonstrated methods. The stratification on the target variable, as aplied by `sklearn`, leads to a slightly more equal distribution of the `Sale_Price` across train and test sets in the plot on the right. "
      ],
      "metadata": {
        "id": "HMl8kKOinLPm"
      }
    },
    {
      "cell_type": "code",
      "source": [
        "# plot with seaborn and matplotlib.pyplot packages\n",
        "fig, axs = plt.subplots(ncols = 2, figsize = (10,5));\n",
        "# kdeplot from seaborn plots the univariate density of the Sale_Price using kernel density estimation\n",
        "sns.kdeplot(plot_pd['pandas: Sale Price train'], ax = axs[0], color = 'red').set(title='pandas');\n",
        "sns.kdeplot(plot_pd['pandas: Sale Price test'], ax = axs[0], color = 'black');\n",
        "sns.kdeplot(plot_pd['scikit-learn: Sale Price train'], ax = axs[1], color = 'r').set(title='scikit-learn');\n",
        "sns.kdeplot(plot_pd['scikit-learn: Sale Price test'], ax = axs[1], color = 'k');\n",
        "plt.show()"
      ],
      "metadata": {
        "colab": {
          "base_uri": "https://localhost:8080/",
          "height": 350
        },
        "id": "adPWQspMlwpP",
        "outputId": "f517a057-09fa-422b-9258-30bbd17db2e1"
      },
      "execution_count": null,
      "outputs": [
        {
          "output_type": "display_data",
          "data": {
            "text/plain": [
              "<Figure size 720x360 with 2 Axes>"
            ],
            "image/png": "[encoded data removed]"
          },
          "metadata": {}
        }
      ]
    },
    {
      "cell_type": "markdown",
      "source": [
        "## 3.3 Constructing $k$-folds with `sklearn`  <a name=\"three-three\"></a>\n",
        "We will continue with the `ames_python_X_train_2` and `ames_python_y_train_2` data sets, as obtained with the `train_test_split` from `sklearn.model_selection`. We want to split this training set into 5 folds and will use `KFold`, again from `sklearn.model_selection`. The below `print` instructions show - for each of the 5 constructed folds - which records belong to the training folds (1640 or 1641 in total) and which ones to the test fold (411 or 410 in total)."
      ],
      "metadata": {
        "id": "YgdRPeBQnxie"
      }
    },
    {
      "cell_type": "code",
      "source": [
        "from sklearn.model_selection import KFold \n",
        "np.random.seed(123)\n",
        "kf_5 = KFold(n_splits = 5, shuffle = True, random_state=1) \n",
        "for train_index, test_index in kf_5.split(ames_python_X_train_2):\n",
        "    print(train_index)\n",
        "    print(test_index)\n",
        "    print(len(train_index))\n",
        "    print(len(test_index))"
      ],
      "metadata": {
        "colab": {
          "base_uri": "https://localhost:8080/"
        },
        "id": "8dBknWsToIo3",
        "outputId": "471db3f5-f4b7-4a6c-c060-7e84db534f98"
      },
      "execution_count": null,
      "outputs": [
        {
          "output_type": "stream",
          "name": "stdout",
          "text": [
            "[   0    1    2 ... 2047 2049 2050]\n",
            "[   3    8   11   17   37   40   47   48   53   56   60   65   67   75\n",
            "   82   87   91   98  102  104  107  108  111  119  120  125  126  133\n",
            "  134  137  158  161  167  169  177  181  186  190  192  194  202  223\n",
            "  227  231  236  241  248  258  260  264  267  268  270  275  282  285\n",
            "  292  297  301  303  304  306  309  321  325  329  331  347  348  351\n",
            "  366  367  368  370  372  375  382  386  389  396  400  403  406  414\n",
            "  415  421  428  432  435  441  442  447  453  464  480  510  512  525\n",
            "  527  534  535  536  541  546  547  549  553  558  560  563  572  573\n",
            "  577  579  585  587  592  596  598  607  612  613  614  619  620  623\n",
            "  625  636  641  643  644  650  655  660  661  669  671  675  680  700\n",
            "  701  702  705  708  713  766  767  769  771  779  790  793  802  804\n",
            "  807  808  813  816  820  821  823  827  834  840  852  854  857  859\n",
            "  861  868  872  877  885  888  893  898  900  906  918  924  926  931\n",
            "  935  951  953  955  961  966  968  970  979  984  985  991  994  995\n",
            "  996  997 1005 1006 1010 1015 1036 1044 1047 1051 1058 1059 1060 1073\n",
            " 1080 1081 1086 1090 1093 1103 1104 1109 1114 1117 1118 1124 1125 1130\n",
            " 1138 1159 1162 1163 1166 1177 1180 1183 1198 1199 1204 1210 1215 1220\n",
            " 1221 1224 1225 1227 1230 1237 1243 1244 1263 1264 1279 1281 1282 1287\n",
            " 1290 1296 1298 1301 1315 1317 1322 1331 1334 1335 1338 1340 1343 1352\n",
            " 1358 1363 1367 1369 1371 1373 1378 1381 1388 1394 1396 1402 1406 1409\n",
            " 1413 1419 1432 1443 1445 1453 1454 1456 1460 1467 1476 1479 1481 1482\n",
            " 1483 1489 1496 1498 1499 1501 1508 1510 1512 1520 1536 1542 1543 1546\n",
            " 1550 1554 1555 1556 1561 1564 1568 1576 1582 1589 1595 1603 1605 1613\n",
            " 1637 1646 1651 1654 1655 1660 1667 1672 1675 1682 1688 1690 1691 1700\n",
            " 1706 1709 1710 1711 1714 1715 1724 1726 1727 1728 1735 1746 1749 1754\n",
            " 1757 1760 1763 1774 1777 1786 1796 1797 1805 1808 1816 1819 1827 1829\n",
            " 1832 1833 1834 1835 1840 1841 1850 1853 1855 1859 1867 1872 1873 1874\n",
            " 1892 1895 1909 1910 1913 1922 1924 1929 1931 1939 1944 1952 1955 1956\n",
            " 1960 1969 1974 1979 1987 1997 1998 1999 2004 2010 2012 2022 2023 2028\n",
            " 2036 2039 2040 2043 2048]\n",
            "1640\n",
            "411\n",
            "[   2    3    4 ... 2048 2049 2050]\n",
            "[   0    1   12   16   19   22   27   30   39   45   49   51   54   58\n",
            "   62   64   73   80   81   83   88   94  101  103  110  115  131  135\n",
            "  136  140  142  146  154  159  160  163  165  175  195  198  201  204\n",
            "  208  211  215  226  228  233  239  251  255  259  280  281  283  286\n",
            "  288  289  293  295  298  299  302  305  308  311  314  330  332  335\n",
            "  336  340  341  350  353  359  361  385  399  401  404  407  408  409\n",
            "  418  422  424  425  426  427  434  443  446  460  462  471  478  481\n",
            "  486  490  491  494  496  507  521  528  529  531  537  538  555  556\n",
            "  557  559  561  570  571  575  584  589  593  599  602  608  622  628\n",
            "  631  632  634  639  640  647  649  653  654  659  664  672  674  679\n",
            "  683  692  693  697  698  703  707  718  724  726  729  730  736  737\n",
            "  745  748  750  757  761  763  764  768  772  774  778  799  801  810\n",
            "  812  824  828  833  845  851  858  860  866  870  874  880  881  891\n",
            "  894  895  899  902  904  913  916  919  920  927  936  941  943  948\n",
            "  957  969  977  982  983  986  987  990  993 1000 1008 1009 1011 1017\n",
            " 1027 1028 1030 1032 1037 1045 1048 1053 1057 1065 1070 1079 1082 1084\n",
            " 1087 1089 1094 1097 1102 1108 1128 1129 1131 1135 1141 1144 1145 1146\n",
            " 1147 1149 1153 1157 1158 1165 1167 1176 1178 1184 1201 1209 1211 1219\n",
            " 1226 1233 1234 1241 1245 1247 1249 1257 1260 1266 1274 1276 1285 1286\n",
            " 1297 1302 1304 1307 1314 1325 1333 1351 1355 1357 1359 1364 1365 1368\n",
            " 1374 1382 1390 1397 1400 1408 1412 1421 1429 1435 1436 1440 1441 1444\n",
            " 1457 1459 1461 1462 1472 1480 1491 1503 1513 1515 1517 1528 1530 1537\n",
            " 1541 1545 1551 1563 1565 1570 1575 1578 1579 1583 1584 1586 1593 1594\n",
            " 1597 1600 1602 1604 1614 1622 1624 1625 1626 1631 1632 1634 1636 1638\n",
            " 1643 1653 1656 1658 1661 1663 1668 1671 1674 1676 1678 1697 1699 1701\n",
            " 1719 1722 1739 1740 1742 1743 1768 1773 1778 1782 1784 1787 1789 1794\n",
            " 1800 1809 1810 1812 1814 1826 1828 1838 1845 1857 1860 1861 1868 1875\n",
            " 1876 1877 1879 1887 1890 1891 1896 1900 1903 1908 1914 1925 1932 1934\n",
            " 1937 1938 1940 1961 1973 1975 1983 1989 1994 2000 2006 2014 2018 2019\n",
            " 2026 2032 2034 2037]\n",
            "1641\n",
            "410\n",
            "[   0    1    3 ... 2048 2049 2050]\n",
            "[   2    5    6    9   10   13   26   32   34   35   41   50   59   72\n",
            "   74   76   78   84   85   89   90   97   99  117  121  127  139  148\n",
            "  151  156  164  172  178  180  187  188  189  191  200  205  207  216\n",
            "  218  220  234  237  238  242  244  250  256  257  262  274  284  300\n",
            "  307  310  315  318  320  322  323  326  345  349  354  355  363  374\n",
            "  380  383  387  388  390  392  393  395  419  430  433  436  437  439\n",
            "  445  448  449  452  455  457  459  463  466  472  473  474  479  482\n",
            "  483  484  487  492  493  495  498  502  503  509  516  520  523  530\n",
            "  543  548  550  554  567  568  574  576  581  582  594  597  603  604\n",
            "  616  629  635  638  662  663  670  673  678  682  685  686  688  694\n",
            "  699  709  711  719  720  723  725  731  733  735  741  742  746  752\n",
            "  754  755  759  765  776  777  780  782  785  786  789  791  815  817\n",
            "  819  825  826  830  831  839  841  842  846  853  863  876  887  890\n",
            "  892  909  912  921  922  925  929  937  940  942  950  952  959  962\n",
            "  972  976  992 1003 1004 1007 1012 1013 1014 1020 1023 1026 1029 1035\n",
            " 1038 1041 1043 1066 1068 1071 1074 1078 1083 1085 1092 1100 1105 1112\n",
            " 1115 1116 1123 1132 1143 1152 1156 1171 1172 1179 1181 1189 1194 1195\n",
            " 1196 1197 1205 1206 1208 1213 1218 1228 1229 1231 1238 1240 1246 1248\n",
            " 1250 1252 1256 1259 1262 1265 1267 1268 1270 1271 1272 1273 1283 1289\n",
            " 1291 1292 1293 1310 1318 1323 1328 1330 1344 1347 1348 1353 1361 1370\n",
            " 1376 1379 1387 1395 1398 1399 1407 1410 1418 1422 1426 1427 1438 1447\n",
            " 1450 1452 1458 1464 1470 1473 1475 1477 1487 1488 1497 1505 1507 1519\n",
            " 1525 1526 1533 1534 1540 1549 1553 1562 1567 1573 1574 1577 1588 1591\n",
            " 1608 1610 1611 1615 1616 1618 1629 1633 1648 1650 1659 1662 1665 1666\n",
            " 1673 1680 1681 1683 1685 1693 1696 1702 1703 1712 1720 1723 1725 1730\n",
            " 1736 1737 1744 1759 1761 1764 1767 1769 1770 1771 1772 1779 1780 1781\n",
            " 1783 1793 1803 1820 1823 1824 1825 1839 1862 1863 1864 1866 1871 1878\n",
            " 1880 1881 1882 1885 1902 1904 1918 1919 1933 1946 1947 1951 1954 1958\n",
            " 1963 1965 1967 1970 1986 1988 1991 1992 1995 2001 2002 2003 2009 2016\n",
            " 2031 2038 2042 2047]\n",
            "1641\n",
            "410\n",
            "[   0    1    2 ... 2048 2049 2050]\n",
            "[   4    7   14   18   23   28   29   31   33   36   38   42   46   52\n",
            "   57   61   66   68   69   70   71   92   93   95  105  106  112  113\n",
            "  114  116  118  122  124  128  132  147  153  157  162  168  173  179\n",
            "  184  185  193  197  203  212  213  214  217  221  224  225  230  232\n",
            "  245  246  247  249  254  261  265  271  272  273  276  277  287  291\n",
            "  294  296  312  328  333  334  337  339  342  343  344  346  352  356\n",
            "  358  360  362  364  365  371  373  377  378  379  381  394  397  402\n",
            "  411  412  429  454  467  476  488  499  500  501  504  506  511  514\n",
            "  517  518  519  522  533  540  544  551  552  565  578  588  590  600\n",
            "  605  610  611  618  645  646  651  652  658  665  667  676  677  684\n",
            "  691  704  710  716  721  734  738  743  744  747  756  758  762  770\n",
            "  773  775  781  783  787  794  795  796  797  798  800  803  805  809\n",
            "  814  818  822  835  836  838  844  848  850  855  856  862  864  867\n",
            "  873  875  886  897  903  908  915  917  923  930  932  934  938  939\n",
            "  944  945  946  947  956  958  963  971  978  980  988  989  998 1016\n",
            " 1018 1021 1022 1024 1033 1040 1042 1054 1055 1062 1063 1064 1069 1076\n",
            " 1091 1098 1101 1106 1107 1113 1119 1121 1122 1126 1127 1133 1134 1136\n",
            " 1139 1140 1142 1148 1154 1168 1169 1170 1173 1174 1182 1185 1186 1188\n",
            " 1192 1200 1203 1207 1216 1223 1242 1251 1253 1261 1269 1284 1308 1309\n",
            " 1313 1316 1319 1329 1336 1341 1342 1375 1377 1383 1384 1385 1386 1389\n",
            " 1392 1401 1403 1415 1416 1420 1423 1424 1428 1430 1437 1439 1446 1449\n",
            " 1451 1463 1465 1466 1468 1469 1471 1474 1493 1494 1504 1506 1509 1511\n",
            " 1518 1522 1529 1531 1535 1539 1547 1548 1552 1559 1569 1587 1598 1601\n",
            " 1606 1617 1621 1623 1628 1639 1641 1642 1645 1647 1649 1657 1664 1687\n",
            " 1695 1698 1704 1707 1708 1713 1716 1721 1729 1733 1734 1745 1748 1750\n",
            " 1751 1755 1758 1785 1788 1790 1792 1804 1806 1807 1813 1818 1821 1822\n",
            " 1830 1831 1842 1847 1849 1851 1852 1856 1883 1894 1898 1899 1905 1906\n",
            " 1916 1917 1921 1923 1930 1935 1943 1945 1950 1953 1959 1962 1966 1968\n",
            " 1971 1972 1977 1978 1980 2008 2013 2017 2020 2025 2027 2029 2030 2033\n",
            " 2035 2041 2044 2046]\n",
            "1641\n",
            "410\n",
            "[   0    1    2 ... 2046 2047 2048]\n",
            "[  15   20   21   24   25   43   44   55   63   77   79   86   96  100\n",
            "  109  123  129  130  138  141  143  144  145  149  150  152  155  166\n",
            "  170  171  174  176  182  183  196  199  206  209  210  219  222  229\n",
            "  235  240  243  252  253  263  266  269  278  279  290  313  316  317\n",
            "  319  324  327  338  357  369  376  384  391  398  405  410  413  416\n",
            "  417  420  423  431  438  440  444  450  451  456  458  461  465  468\n",
            "  469  470  475  477  485  489  497  505  508  513  515  524  526  532\n",
            "  539  542  545  562  564  566  569  580  583  586  591  595  601  606\n",
            "  609  615  617  621  624  626  627  630  633  637  642  648  656  657\n",
            "  666  668  681  687  689  690  695  696  706  712  714  715  717  722\n",
            "  727  728  732  739  740  749  751  753  760  784  788  792  806  811\n",
            "  829  832  837  843  847  849  865  869  871  878  879  882  883  884\n",
            "  889  896  901  905  907  910  911  914  928  933  949  954  960  964\n",
            "  965  967  973  974  975  981  999 1001 1002 1019 1025 1031 1034 1039\n",
            " 1046 1049 1050 1052 1056 1061 1067 1072 1075 1077 1088 1095 1096 1099\n",
            " 1110 1111 1120 1137 1150 1151 1155 1160 1161 1164 1175 1187 1190 1191\n",
            " 1193 1202 1212 1214 1217 1222 1232 1235 1236 1239 1254 1255 1258 1275\n",
            " 1277 1278 1280 1288 1294 1295 1299 1300 1303 1305 1306 1311 1312 1320\n",
            " 1321 1324 1326 1327 1332 1337 1339 1345 1346 1349 1350 1354 1356 1360\n",
            " 1362 1366 1372 1380 1391 1393 1404 1405 1411 1414 1417 1425 1431 1433\n",
            " 1434 1442 1448 1455 1478 1484 1485 1486 1490 1492 1495 1500 1502 1514\n",
            " 1516 1521 1523 1524 1527 1532 1538 1544 1557 1558 1560 1566 1571 1572\n",
            " 1580 1581 1585 1590 1592 1596 1599 1607 1609 1612 1619 1620 1627 1630\n",
            " 1635 1640 1644 1652 1669 1670 1677 1679 1684 1686 1689 1692 1694 1705\n",
            " 1717 1718 1731 1732 1738 1741 1747 1752 1753 1756 1762 1765 1766 1775\n",
            " 1776 1791 1795 1798 1799 1801 1802 1811 1815 1817 1836 1837 1843 1844\n",
            " 1846 1848 1854 1858 1865 1869 1870 1884 1886 1888 1889 1893 1897 1901\n",
            " 1907 1911 1912 1915 1920 1926 1927 1928 1936 1941 1942 1948 1949 1957\n",
            " 1964 1976 1981 1982 1984 1985 1990 1993 1996 2005 2007 2011 2015 2021\n",
            " 2024 2045 2049 2050]\n",
            "1641\n",
            "410\n"
          ]
        }
      ]
    },
    {
      "cell_type": "markdown",
      "source": [
        "**Your turn!**\n",
        "\n",
        "* Check the documentation of `KFold` and explain what `shuffle = TRUE` does. \n",
        "* Adjust the `for` loop and calculate for each of the 5 folds the average `Sale_Price` for the observations in the train set of each constructed fold. Use the `mean` function from the `statistics` module, see [here](https://docs.python.org/3/library/statistics.html)."
      ],
      "metadata": {
        "id": "NMQZUUO7q3XF"
      }
    },
    {
      "cell_type": "code",
      "source": [
        "# add your code here"
      ],
      "metadata": {
        "id": "3jDJIEg6cBFk"
      },
      "execution_count": null,
      "outputs": []
    },
    {
      "cell_type": "markdown",
      "source": [
        "* Now you're going to combine data splitting and resampling to create training, validation and test folds in the Ames housing data. Use `scikit-learn` and make the validation folds of approximately the same size as the test fold."
      ],
      "metadata": {
        "id": "fCSXqQGFxZtF"
      }
    },
    {
      "cell_type": "code",
      "source": [
        "# add your code here"
      ],
      "metadata": {
        "id": "bl3hGQ1acGZb"
      },
      "execution_count": null,
      "outputs": []
    },
    {
      "cell_type": "markdown",
      "source": [
        "## 3.3 Tuning K in a KNN regression <a name=\"three-four\"></a>\n",
        "We focus on the K-nearest-neighbour regression modeller and use cross-validation to tune the K parameter in this method. Read more about this learner [here](https://scikit-learn.org/stable/modules/generated/sklearn.neighbors.KNeighborsRegressor.html) or [here](https://en.wikipedia.org/wiki/K-nearest_neighbors_algorithm). We define a grid of K values and then use $k$-fold cross validation to determine the generalized error of the learning method for each value of K in the grid. We import the necessary functions. "
      ],
      "metadata": {
        "id": "2kU_dKD0y0oD"
      }
    },
    {
      "cell_type": "code",
      "source": [
        "np.random.seed(1234567)\n",
        "from sklearn.neighbors import KNeighborsRegressor\n",
        "from sklearn.model_selection import GridSearchCV, train_test_split\n",
        "from sklearn.metrics import mean_squared_error, make_scorer"
      ],
      "metadata": {
        "id": "XnyI7UCA1d4j"
      },
      "execution_count": null,
      "outputs": []
    },
    {
      "cell_type": "markdown",
      "source": [
        "We generate a toy data set with one input feature and a numeric target variable to illustrate the grid search with cross-validation to tune K. Check the type and shape of `X`, because that will be important later on when using `X` as feature in a learning method. "
      ],
      "metadata": {
        "id": "AUBbEApd-JMB"
      }
    },
    {
      "cell_type": "markdown",
      "source": [
        "### 3.3.1 Toy data set and fit with KNN regression"
      ],
      "metadata": {
        "id": "cv8-8ElM2OZ7"
      }
    },
    {
      "cell_type": "code",
      "source": [
        "import math \n",
        "import random\n",
        "X = np.arange(0, 2* math.pi, 2*math.pi/500)\n",
        "print(type(X))\n",
        "print(X.shape)\n",
        "print(X.size)\n",
        "\n",
        "y = np.sin(X) + np.random.normal(size = X.size, scale = 0.3)\n",
        "\n",
        "# reshuffle\n",
        "from sklearn.utils import shuffle\n",
        "X, y = shuffle(X, y, random_state=0)\n",
        "\n",
        "# Reshape X as a matrix with 1 column\n",
        "X_ = X.reshape(-1, 1) # use reshape from numpy\n",
        "print(X_.shape)"
      ],
      "metadata": {
        "colab": {
          "base_uri": "https://localhost:8080/"
        },
        "id": "u_wu-osH-X3o",
        "outputId": "202c2d14-4eae-47f0-a18c-14d3667c879a"
      },
      "execution_count": null,
      "outputs": [
        {
          "output_type": "stream",
          "name": "stdout",
          "text": [
            "<class 'numpy.ndarray'>\n",
            "(500,)\n",
            "500\n",
            "(500, 1)\n"
          ]
        }
      ]
    },
    {
      "cell_type": "code",
      "source": [
        "toy_data = pd.DataFrame({'X': X, 'y': y})\n",
        "toy_data.head()\n",
        "KULbg = \"#116E8A\"\n",
        "sns.set_style(\"whitegrid\")\n",
        "sns.scatterplot(data = toy_data, x = \"X\", y = \"y\", color = KULbg, alpha = 0.5)"
      ],
      "metadata": {
        "colab": {
          "base_uri": "https://localhost:8080/",
          "height": 296
        },
        "id": "K5pVwAU40SLb",
        "outputId": "a46eff7c-9579-4520-f272-f58aeaca00cc"
      },
      "execution_count": null,
      "outputs": [
        {
          "output_type": "execute_result",
          "data": {
            "text/plain": [
              "<AxesSubplot:xlabel='X', ylabel='y'>"
            ]
          },
          "metadata": {},
          "execution_count": 43
        },
        {
          "output_type": "display_data",
          "data": {
            "text/plain": [
              "<Figure size 432x288 with 1 Axes>"
            ],
            "image/png": "[encoded data removed]"
          },
          "metadata": {}
        }
      ]
    },
    {
      "cell_type": "markdown",
      "source": [
        "We are now ready to fit the `KNeighborsRegressor` from `sklearn.neighbors` to this toy data set. All models in `sklearn` follow the same flow and syntax.\n",
        "\n",
        "1. First, the model constructor is called. This creates the model and allows setting its parameters, e.g. \n",
        "\n",
        "   `KNN_model = KNeighborsRegressor(n_neighbors = 2)`\n",
        "2. The model is trained using its `fit` method. This function usually takes the features matrix of the training data and for supervised methods also requires the target variable. Most `sklearn` modules update the model in-place, so you don't have to save the output of the `fit` method. For instance, \n",
        "\n",
        "   `KNN_model.fit(X, y)`\n",
        "\n",
        "3. Predictions from the model can be obtained using the `predict` function. \n",
        "\n",
        "  `fitted_values = KNN_model.predict(X_)`"
      ],
      "metadata": {
        "id": "Tyumbxl7eClZ"
      }
    },
    {
      "cell_type": "code",
      "source": [
        "KNN_model = KNeighborsRegressor(n_neighbors = 2)\n",
        "KNN_model.fit(X_, y)\n",
        "fitted_values = KNN_model.predict(X_)"
      ],
      "metadata": {
        "id": "WFGST5bb2kHv"
      },
      "execution_count": null,
      "outputs": []
    },
    {
      "cell_type": "code",
      "source": [
        "sns.scatterplot(data = toy_data, x = \"X\", y = \"y\", color = KULbg, alpha = 0.25)\n",
        "sns.lineplot(x = X, y = fitted_values, linewidth = 2, color = KULbg)"
      ],
      "metadata": {
        "colab": {
          "base_uri": "https://localhost:8080/",
          "height": 296
        },
        "id": "9hmV0zC03Qsu",
        "outputId": "6646986b-0084-4461-ab29-e40daaa5d41f"
      },
      "execution_count": null,
      "outputs": [
        {
          "output_type": "execute_result",
          "data": {
            "text/plain": [
              "<AxesSubplot:xlabel='X', ylabel='y'>"
            ]
          },
          "metadata": {},
          "execution_count": 45
        },
        {
          "output_type": "display_data",
          "data": {
            "text/plain": [
              "<Figure size 432x288 with 1 Axes>"
            ],
            "image/png": "[encoded data removed]"
          },
          "metadata": {}
        }
      ]
    },
    {
      "cell_type": "markdown",
      "source": [
        "**Your turn!**\n",
        "*   Adjust K, the number of neighbours, used in the regression fit. Can you explain what happens?\n",
        "\n"
      ],
      "metadata": {
        "id": "2af2O0yt6eZD"
      }
    },
    {
      "cell_type": "markdown",
      "source": [
        "### 3.3.2 Tuning K with cross-validation"
      ],
      "metadata": {
        "id": "hkbrjHRq2Yfx"
      }
    },
    {
      "cell_type": "markdown",
      "source": [
        "We use the root (hence: `squared = False`) mean squared error of prediction as loss function and aim to minimize it (hence: `greater_is_better = False`. Read more about the `make_score` function [here](https://scikit-learn.org/stable/modules/generated/sklearn.metrics.make_scorer.html#sklearn.metrics.make_scorer) and about `sklearn.metrics` [here](https://scikit-learn.org/stable/modules/model_evaluation.html#scoring). "
      ],
      "metadata": {
        "id": "JbT60QIr3HUa"
      }
    },
    {
      "cell_type": "code",
      "source": [
        "# set up the loss function and the regression model\n",
        "score = make_scorer(mean_squared_error, squared = False, greater_is_better = False)\n",
        "knbrs = KNeighborsRegressor() # by default 5 neighbors are used\n",
        "knbrs.fit(X_, y)\n",
        "# set up the grid for the parameter tuning \n",
        "params = {\n",
        "    'n_neighbors': np.arange(2, 150, 2)\n",
        "  }\n",
        "print(params)\n",
        "type(params) # a dictionary as required in the param_grid of GridSearchCV, see below\n",
        "print(params[\"n_neighbors\"][0:3]) # extract values from the grid"
      ],
      "metadata": {
        "colab": {
          "base_uri": "https://localhost:8080/"
        },
        "id": "BmUUaDdR2Tl8",
        "outputId": "06d08790-4a40-4b67-ccee-3514d45e54f6"
      },
      "execution_count": null,
      "outputs": [
        {
          "output_type": "stream",
          "name": "stdout",
          "text": [
            "{'n_neighbors': array([  2,   4,   6,   8,  10,  12,  14,  16,  18,  20,  22,  24,  26,\n",
            "        28,  30,  32,  34,  36,  38,  40,  42,  44,  46,  48,  50,  52,\n",
            "        54,  56,  58,  60,  62,  64,  66,  68,  70,  72,  74,  76,  78,\n",
            "        80,  82,  84,  86,  88,  90,  92,  94,  96,  98, 100, 102, 104,\n",
            "       106, 108, 110, 112, 114, 116, 118, 120, 122, 124, 126, 128, 130,\n",
            "       132, 134, 136, 138, 140, 142, 144, 146, 148])}\n",
            "[2 4 6]\n"
          ]
        }
      ]
    },
    {
      "cell_type": "code",
      "source": [
        "# we read in the documentation: if a loss, the output of the python function is negated by the scorer object, \n",
        "# conforming to the cross validation convention that scorers return higher values for better models\n",
        "# thus, the below returns negative RMSE\n",
        "score(knbrs, X_, y) "
      ],
      "metadata": {
        "colab": {
          "base_uri": "https://localhost:8080/"
        },
        "id": "6zVos2Mg6msJ",
        "outputId": "5e9321cd-a343-4ec3-dade-80a9b5c5c8f7"
      },
      "execution_count": null,
      "outputs": [
        {
          "output_type": "execute_result",
          "data": {
            "text/plain": [
              "-0.2592700613603417"
            ]
          },
          "metadata": {},
          "execution_count": 47
        }
      ]
    },
    {
      "cell_type": "markdown",
      "source": [
        "We will now perform the grid search, using the `knbrs` as estimator or learner, across the possible values for K stored in `params`. Read more about the parameters used in `GridSearchCV` [here](https://scikit-learn.org/stable/modules/generated/sklearn.model_selection.GridSearchCV.html). "
      ],
      "metadata": {
        "id": "-gGOOYQs6Ud6"
      }
    },
    {
      "cell_type": "code",
      "source": [
        "knbrs = KNeighborsRegressor()"
      ],
      "metadata": {
        "id": "bJQInrp552Ta"
      },
      "execution_count": null,
      "outputs": []
    },
    {
      "cell_type": "code",
      "source": [
        "gridsearch = GridSearchCV(\n",
        "    estimator = knbrs, \n",
        "    param_grid = params, \n",
        "    cv = 5, \n",
        "    scoring = score, \n",
        "    error_score = 'raise', \n",
        "    return_train_score = True)"
      ],
      "metadata": {
        "id": "7yXwayJj3yKj"
      },
      "execution_count": null,
      "outputs": []
    },
    {
      "cell_type": "code",
      "source": [
        "res = gridsearch.fit(X_, y)"
      ],
      "metadata": {
        "id": "4dC_TjbA7XSC"
      },
      "execution_count": null,
      "outputs": []
    },
    {
      "cell_type": "code",
      "source": [
        "res.best_estimator_"
      ],
      "metadata": {
        "colab": {
          "base_uri": "https://localhost:8080/",
          "height": 74
        },
        "id": "W91ZMru_7Hu1",
        "outputId": "0b68922e-6834-496e-99fe-d1e608c940e1"
      },
      "execution_count": null,
      "outputs": [
        {
          "output_type": "execute_result",
          "data": {
            "text/plain": [
              "KNeighborsRegressor(n_neighbors=18)"
            ],
            "text/html": [
              "<style>#sk-container-id-1 {color: black;background-color: white;}#sk-container-id-1 pre{padding: 0;}#sk-container-id-1 div.sk-toggleable {background-color: white;}#sk-container-id-1 label.sk-toggleable__label {cursor: pointer;display: block;width: 100%;margin-bottom: 0;padding: 0.3em;box-sizing: border-box;text-align: center;}#sk-container-id-1 label.sk-toggleable__label-arrow:before {content: \"▸\";float: left;margin-right: 0.25em;color: #696969;}#sk-container-id-1 label.sk-toggleable__label-arrow:hover:before {color: black;}#sk-container-id-1 div.sk-estimator:hover label.sk-toggleable__label-arrow:before {color: black;}#sk-container-id-1 div.sk-toggleable__content {max-height: 0;max-width: 0;overflow: hidden;text-align: left;background-color: #f0f8ff;}#sk-container-id-1 div.sk-toggleable__content pre {margin: 0.2em;color: black;border-radius: 0.25em;background-color: #f0f8ff;}#sk-container-id-1 input.sk-toggleable__control:checked~div.sk-toggleable__content {max-height: 200px;max-width: 100%;overflow: auto;}#sk-container-id-1 input.sk-toggleable__control:checked~label.sk-toggleable__label-arrow:before {content: \"▾\";}#sk-container-id-1 div.sk-estimator input.sk-toggleable__control:checked~label.sk-toggleable__label {background-color: #d4ebff;}#sk-container-id-1 div.sk-label input.sk-toggleable__control:checked~label.sk-toggleable__label {background-color: #d4ebff;}#sk-container-id-1 input.sk-hidden--visually {border: 0;clip: rect(1px 1px 1px 1px);clip: rect(1px, 1px, 1px, 1px);height: 1px;margin: -1px;overflow: hidden;padding: 0;position: absolute;width: 1px;}#sk-container-id-1 div.sk-estimator {font-family: monospace;background-color: #f0f8ff;border: 1px dotted black;border-radius: 0.25em;box-sizing: border-box;margin-bottom: 0.5em;}#sk-container-id-1 div.sk-estimator:hover {background-color: #d4ebff;}#sk-container-id-1 div.sk-parallel-item::after {content: \"\";width: 100%;border-bottom: 1px solid gray;flex-grow: 1;}#sk-container-id-1 div.sk-label:hover label.sk-toggleable__label {background-color: #d4ebff;}#sk-container-id-1 div.sk-serial::before {content: \"\";position: absolute;border-left: 1px solid gray;box-sizing: border-box;top: 0;bottom: 0;left: 50%;z-index: 0;}#sk-container-id-1 div.sk-serial {display: flex;flex-direction: column;align-items: center;background-color: white;padding-right: 0.2em;padding-left: 0.2em;position: relative;}#sk-container-id-1 div.sk-item {position: relative;z-index: 1;}#sk-container-id-1 div.sk-parallel {display: flex;align-items: stretch;justify-content: center;background-color: white;position: relative;}#sk-container-id-1 div.sk-item::before, #sk-container-id-1 div.sk-parallel-item::before {content: \"\";position: absolute;border-left: 1px solid gray;box-sizing: border-box;top: 0;bottom: 0;left: 50%;z-index: -1;}#sk-container-id-1 div.sk-parallel-item {display: flex;flex-direction: column;z-index: 1;position: relative;background-color: white;}#sk-container-id-1 div.sk-parallel-item:first-child::after {align-self: flex-end;width: 50%;}#sk-container-id-1 div.sk-parallel-item:last-child::after {align-self: flex-start;width: 50%;}#sk-container-id-1 div.sk-parallel-item:only-child::after {width: 0;}#sk-container-id-1 div.sk-dashed-wrapped {border: 1px dashed gray;margin: 0 0.4em 0.5em 0.4em;box-sizing: border-box;padding-bottom: 0.4em;background-color: white;}#sk-container-id-1 div.sk-label label {font-family: monospace;font-weight: bold;display: inline-block;line-height: 1.2em;}#sk-container-id-1 div.sk-label-container {text-align: center;}#sk-container-id-1 div.sk-container {/* jupyter's `normalize.less` sets `[hidden] { display: none; }` but bootstrap.min.css set `[hidden] { display: none !important; }` so we also need the `!important` here to be able to override the default hidden behavior on the sphinx rendered scikit-learn.org. See: https://github.com/scikit-learn/scikit-learn/issues/21755 */display: inline-block !important;position: relative;}#sk-container-id-1 div.sk-text-repr-fallback {display: none;}</style><div id=\"sk-container-id-1\" class=\"sk-top-container\"><div class=\"sk-text-repr-fallback\"><pre>KNeighborsRegressor(n_neighbors=18)</pre><b>In a Jupyter environment, please rerun this cell to show the HTML representation or trust the notebook. <br />On GitHub, the HTML representation is unable to render, please try loading this page with nbviewer.org.</b></div><div class=\"sk-container\" hidden><div class=\"sk-item\"><div class=\"sk-estimator sk-toggleable\"><input class=\"sk-toggleable__control sk-hidden--visually\" id=\"sk-estimator-id-1\" type=\"checkbox\" checked><label for=\"sk-estimator-id-1\" class=\"sk-toggleable__label sk-toggleable__label-arrow\">KNeighborsRegressor</label><div class=\"sk-toggleable__content\"><pre>KNeighborsRegressor(n_neighbors=18)</pre></div></div></div></div></div>"
            ]
          },
          "metadata": {},
          "execution_count": 51
        }
      ]
    },
    {
      "cell_type": "code",
      "source": [
        "# errors have been multiplied by -1 because of the above comment\n",
        "scores_mean = -res.cv_results_['mean_test_score']  \n",
        "print(scores_mean)\n",
        "\n",
        "# GridSearchCV mulitplies the standard deviation by 2 to obtain 95% Gaussian CIs\n",
        "# We divide by two to get the actual standard error\n",
        "scores_sd = res.cv_results_['std_test_score']/2\n",
        "print(scores_sd)"
      ],
      "metadata": {
        "colab": {
          "base_uri": "https://localhost:8080/"
        },
        "id": "reIyOUszCkyb",
        "outputId": "1df0b692-3263-48e2-f6c2-bc7d2703cf04"
      },
      "execution_count": null,
      "outputs": [
        {
          "output_type": "stream",
          "name": "stdout",
          "text": [
            "[0.36683451 0.33168314 0.32456827 0.31921215 0.31772742 0.31194083\n",
            " 0.31029839 0.30951129 0.30905168 0.31139495 0.31201262 0.31150138\n",
            " 0.31206405 0.31138284 0.31066228 0.31097255 0.31209565 0.31154413\n",
            " 0.31190075 0.31212533 0.31270861 0.31254099 0.31280556 0.31336496\n",
            " 0.31457784 0.31496964 0.31579304 0.3164961  0.31766799 0.31844799\n",
            " 0.32052078 0.32227931 0.32406189 0.32530381 0.32675802 0.328047\n",
            " 0.33018777 0.33173355 0.33347254 0.33521336 0.33641227 0.33906762\n",
            " 0.34156082 0.34318267 0.34551145 0.34784274 0.34984834 0.35157901\n",
            " 0.35339116 0.35531641 0.35711758 0.35811657 0.35961955 0.36092168\n",
            " 0.36214344 0.36385825 0.36495628 0.36652368 0.36840859 0.36975043\n",
            " 0.37145434 0.37321099 0.37475097 0.37612762 0.37711133 0.3786143\n",
            " 0.37973317 0.38019599 0.38166267 0.38280209 0.38314769 0.38426472\n",
            " 0.38605119 0.38680573]\n",
            "[0.00581718 0.00838751 0.00935997 0.00841974 0.00775808 0.00733802\n",
            " 0.00647097 0.0068779  0.00677869 0.00617162 0.00640705 0.00658512\n",
            " 0.00638978 0.0063443  0.00671681 0.00746918 0.00737798 0.00731427\n",
            " 0.00796177 0.00848744 0.00928143 0.00962511 0.00977083 0.0101341\n",
            " 0.01093551 0.01147224 0.01180706 0.01249435 0.01274386 0.01315799\n",
            " 0.01369633 0.01398208 0.01419858 0.01403902 0.01473817 0.01493882\n",
            " 0.01564681 0.01592389 0.01607083 0.01636419 0.01673964 0.01723373\n",
            " 0.01743403 0.01761396 0.01820643 0.01867247 0.01891073 0.01911744\n",
            " 0.01933585 0.01974671 0.01984721 0.01994397 0.02000971 0.02012547\n",
            " 0.02063428 0.02062074 0.02080455 0.02085696 0.02110901 0.02070596\n",
            " 0.02101145 0.0211019  0.02107158 0.02105824 0.02098351 0.0207404\n",
            " 0.02059738 0.02024701 0.02046346 0.02024932 0.02003898 0.02016026\n",
            " 0.02011032 0.01989924]\n"
          ]
        }
      ]
    },
    {
      "cell_type": "code",
      "source": [
        "# setup highlight coordinates\n",
        "index = np.array(np.where(scores_mean == min(scores_mean)))\n",
        "print(index)\n",
        "print(scores_mean[index])\n",
        "print(scores_sd[index])"
      ],
      "metadata": {
        "colab": {
          "base_uri": "https://localhost:8080/"
        },
        "id": "Y7Op3ZBrF7gK",
        "outputId": "4fe4a098-d55e-4058-c4bf-009a37370592"
      },
      "execution_count": null,
      "outputs": [
        {
          "output_type": "stream",
          "name": "stdout",
          "text": [
            "[[8]]\n",
            "[[0.30905168]]\n",
            "[[0.00677869]]\n"
          ]
        }
      ]
    },
    {
      "cell_type": "code",
      "source": [
        "threshold = scores_mean[index] + scores_sd[index]\n",
        "threshold"
      ],
      "metadata": {
        "id": "4kJ6UQDjB54d",
        "colab": {
          "base_uri": "https://localhost:8080/"
        },
        "outputId": "33d48541-7ed7-4692-b4c1-00d49bd5eda4"
      },
      "execution_count": null,
      "outputs": [
        {
          "output_type": "execute_result",
          "data": {
            "text/plain": [
              "array([[0.31583037]])"
            ]
          },
          "metadata": {},
          "execution_count": 54
        }
      ]
    },
    {
      "cell_type": "code",
      "source": [
        "# largest index of possible parameter values under sd\n",
        "index_sd = max(np.array(np.where(scores_mean < threshold))[1]) \n",
        "scores_mean[index_sd]"
      ],
      "metadata": {
        "colab": {
          "base_uri": "https://localhost:8080/"
        },
        "id": "S9JQfbQqIqOy",
        "outputId": "e69d276e-2951-41b5-ea56-75a4927648a6"
      },
      "execution_count": null,
      "outputs": [
        {
          "output_type": "execute_result",
          "data": {
            "text/plain": [
              "0.31579303647871937"
            ]
          },
          "metadata": {},
          "execution_count": 55
        }
      ]
    },
    {
      "cell_type": "code",
      "source": [
        "plt.figure(figsize = (10,5))\n",
        "plt.errorbar(\n",
        "    x = res.param_grid['n_neighbors'],\n",
        "    y = scores_mean,\n",
        "    yerr = scores_sd,\n",
        "    color = 'black', ecolor = 'grey'\n",
        "    )\n",
        "plt.axhline(y = threshold, color = 'black')\n",
        "plt.plot(res.param_grid['n_neighbors'][index], scores_mean[index], marker = 'o', color = 'red', markersize = 7, zorder = 10)\n",
        "plt.plot(res.param_grid['n_neighbors'][index_sd], scores_mean[index_sd], marker = 'o', color = 'red', markersize = 7, zorder = 10)\n",
        "plt.ylabel('RMSE')\n",
        "plt.xlabel('Number of neighbors, K')\n",
        "plt.show()"
      ],
      "metadata": {
        "colab": {
          "base_uri": "https://localhost:8080/",
          "height": 334
        },
        "id": "l8yrRI66ulH6",
        "outputId": "48d86b84-8c00-41d0-85b0-e545b8bac4b0"
      },
      "execution_count": null,
      "outputs": [
        {
          "output_type": "display_data",
          "data": {
            "text/plain": [
              "<Figure size 720x360 with 1 Axes>"
            ],
            "image/png": "[encoded data removed]"
          },
          "metadata": {}
        }
      ]
    },
    {
      "cell_type": "markdown",
      "source": [
        "The code block below uses standard Python functions to compute the same result as `GridSearchCV`"
      ],
      "metadata": {
        "id": "d7_UNwVd8qve"
      }
    },
    {
      "cell_type": "code",
      "source": [
        "param_grid = np.arange(2, 150, 2)\n",
        "\n",
        "from sklearn.neighbors import KNeighborsRegressor\n",
        "knbrs = KNeighborsRegressor()\n",
        "\n",
        "split_cv = kf_5.split(X)\n",
        "data_fold = []\n",
        "for index_train, index_valid in split_cv:\n",
        "    data_fold.append({\n",
        "        'X_train': X[index_train],\n",
        "        'Y_train': y[index_train],\n",
        "        'X_valid': X[index_valid],\n",
        "        'Y_valid': y[index_valid],\n",
        "    })\n",
        "\n",
        "RMSE = []\n",
        "SE = []\n",
        "\n",
        "for param in param_grid:\n",
        "    error = []\n",
        "    knbrs = KNeighborsRegressor(n_neighbors=param)\n",
        "    for fold in data_fold:\n",
        "        knbrs = knbrs.fit(fold['X_train'].reshape(-1, 1), fold['Y_train'])\n",
        "        error.append(np.mean((knbrs.predict(fold['X_valid'].reshape(-1, 1)) - fold['Y_valid'])**2))\n",
        "    RMSE.append(np.mean(np.sqrt(error)))\n",
        "    SE.append(np.std(np.sqrt(error)))\n",
        "\n",
        "index = np.array(np.where(RMSE == min(RMSE)))\n",
        "print(index)"
      ],
      "metadata": {
        "colab": {
          "base_uri": "https://localhost:8080/"
        },
        "id": "5urlcZIh4ijD",
        "outputId": "20249958-d6ca-4c14-da1c-e57a4c1e3a8c"
      },
      "execution_count": null,
      "outputs": [
        {
          "output_type": "stream",
          "name": "stdout",
          "text": [
            "[[8]]\n"
          ]
        }
      ]
    },
    {
      "cell_type": "code",
      "source": [
        "plt.figure(figsize = (10,5))\n",
        "plt.errorbar(\n",
        "    x = param_grid,\n",
        "    y = RMSE,\n",
        "    yerr = SE,\n",
        "    color = 'black', ecolor = 'grey'\n",
        "    )\n",
        "plt.ylabel('RMSE')\n",
        "plt.xlabel('Number of neighbors, K')\n",
        "plt.show()"
      ],
      "metadata": {
        "colab": {
          "base_uri": "https://localhost:8080/",
          "height": 334
        },
        "id": "aF631AdJJ2My",
        "outputId": "55595cf5-eee6-4513-c7a0-03bbccc60eca"
      },
      "execution_count": null,
      "outputs": [
        {
          "output_type": "display_data",
          "data": {
            "text/plain": [
              "<Figure size 720x360 with 1 Axes>"
            ],
            "image/png": "[encoded data removed]"
          },
          "metadata": {}
        }
      ]
    },
    {
      "cell_type": "markdown",
      "source": [
        "**Your Turn!**\n",
        "\n",
        "Fit the KNN regression model with a reasonable value for K, chosen by using one of the decision rules discussed above and $k$-fold cross-validation. Discuss the fit."
      ],
      "metadata": {
        "id": "kwM3InJ2cN5U"
      }
    },
    {
      "cell_type": "markdown",
      "source": [
        "# Chapter 4 - Target and feature engineering: data preprocessing steps <a name=\"four\"></a>"
      ],
      "metadata": {
        "id": "5R5kj-WJ8RaQ"
      }
    },
    {
      "cell_type": "markdown",
      "source": [
        "## 4.1 Target engineering <a name=\"four-one\"></a>"
      ],
      "metadata": {
        "id": "SlFBnb9M81sb"
      }
    },
    {
      "cell_type": "code",
      "source": [
        "ames_python.Sale_Price.describe()"
      ],
      "metadata": {
        "colab": {
          "base_uri": "https://localhost:8080/"
        },
        "id": "J7F8uUOM_EtH",
        "outputId": "39395784-ae43-4be3-d9ab-0b10a066ffeb"
      },
      "execution_count": null,
      "outputs": [
        {
          "output_type": "execute_result",
          "data": {
            "text/plain": [
              "count      2930.000000\n",
              "mean     180796.060068\n",
              "std       79886.692357\n",
              "min       12789.000000\n",
              "25%      129500.000000\n",
              "50%      160000.000000\n",
              "75%      213500.000000\n",
              "max      755000.000000\n",
              "Name: Sale_Price, dtype: float64"
            ]
          },
          "metadata": {},
          "execution_count": 59
        }
      ]
    },
    {
      "cell_type": "markdown",
      "source": [
        "**Your turn!**\n",
        "*   Take the log transform of `Sale_Price`, plot its histogram and get some statistics on its distribution. Use `np.log(.)`."
      ],
      "metadata": {
        "id": "JT4h4V23_biT"
      }
    },
    {
      "cell_type": "code",
      "source": [
        "# add your code here"
      ],
      "metadata": {
        "id": "5FsUEal-cmIt"
      },
      "execution_count": null,
      "outputs": []
    },
    {
      "cell_type": "markdown",
      "source": [
        "## 4.2 Feature engineering <a name=\"four-two\"></a>\n",
        "\n"
      ],
      "metadata": {
        "id": "js6qXnCvCZ84"
      }
    },
    {
      "cell_type": "markdown",
      "source": [
        "### 4.2.1 Changing the type of a variable <a name=\"four-two-one\"></a>\n",
        "The Ames housing data set has a lot of variables. We will now explore the type of some of these variables and change their type if necessary."
      ],
      "metadata": {
        "id": "qxBRGu3AMosL"
      }
    },
    {
      "cell_type": "code",
      "source": [
        "print(\"Variable types in the ames_python DataFrame\")\n",
        "print(ames_python.info())"
      ],
      "metadata": {
        "colab": {
          "base_uri": "https://localhost:8080/"
        },
        "id": "XoYYyRlID5OL",
        "outputId": "ea661960-ec75-40e0-f090-d4fc301b401b"
      },
      "execution_count": null,
      "outputs": [
        {
          "output_type": "stream",
          "name": "stdout",
          "text": [
            "Variable types in the ames_python DataFrame\n",
            "<class 'pandas.core.frame.DataFrame'>\n",
            "RangeIndex: 2930 entries, 0 to 2929\n",
            "Data columns (total 83 columns):\n",
            " #   Column              Non-Null Count  Dtype  \n",
            "---  ------              --------------  -----  \n",
            " 0   Unnamed: 0          2930 non-null   int64  \n",
            " 1   MS_SubClass         2930 non-null   object \n",
            " 2   MS_Zoning           2930 non-null   object \n",
            " 3   Lot_Frontage        2930 non-null   int64  \n",
            " 4   Lot_Area            2930 non-null   int64  \n",
            " 5   Street              2930 non-null   object \n",
            " 6   Alley               2930 non-null   object \n",
            " 7   Lot_Shape           2930 non-null   object \n",
            " 8   Land_Contour        2930 non-null   object \n",
            " 9   Utilities           2930 non-null   object \n",
            " 10  Lot_Config          2930 non-null   object \n",
            " 11  Land_Slope          2930 non-null   object \n",
            " 12  Neighborhood        2930 non-null   object \n",
            " 13  Condition_1         2930 non-null   object \n",
            " 14  Condition_2         2930 non-null   object \n",
            " 15  Bldg_Type           2930 non-null   object \n",
            " 16  House_Style         2930 non-null   object \n",
            " 17  Overall_Qual        2930 non-null   object \n",
            " 18  Overall_Cond        2930 non-null   object \n",
            " 19  Year_Built          2930 non-null   int64  \n",
            " 20  Year_Remod_Add      2930 non-null   int64  \n",
            " 21  Roof_Style          2930 non-null   object \n",
            " 22  Roof_Matl           2930 non-null   object \n",
            " 23  Exterior_1st        2930 non-null   object \n",
            " 24  Exterior_2nd        2930 non-null   object \n",
            " 25  Mas_Vnr_Type        2930 non-null   object \n",
            " 26  Mas_Vnr_Area        2930 non-null   int64  \n",
            " 27  Exter_Qual          2930 non-null   object \n",
            " 28  Exter_Cond          2930 non-null   object \n",
            " 29  Foundation          2930 non-null   object \n",
            " 30  Bsmt_Qual           2930 non-null   object \n",
            " 31  Bsmt_Cond           2930 non-null   object \n",
            " 32  Bsmt_Exposure       2930 non-null   object \n",
            " 33  BsmtFin_Type_1      2930 non-null   object \n",
            " 34  BsmtFin_SF_1        2930 non-null   int64  \n",
            " 35  BsmtFin_Type_2      2930 non-null   object \n",
            " 36  BsmtFin_SF_2        2930 non-null   int64  \n",
            " 37  Bsmt_Unf_SF         2930 non-null   int64  \n",
            " 38  Total_Bsmt_SF       2930 non-null   int64  \n",
            " 39  Heating             2930 non-null   object \n",
            " 40  Heating_QC          2930 non-null   object \n",
            " 41  Central_Air         2930 non-null   object \n",
            " 42  Electrical          2930 non-null   object \n",
            " 43  First_Flr_SF        2930 non-null   int64  \n",
            " 44  Second_Flr_SF       2930 non-null   int64  \n",
            " 45  Low_Qual_Fin_SF     2930 non-null   int64  \n",
            " 46  Gr_Liv_Area         2930 non-null   int64  \n",
            " 47  Bsmt_Full_Bath      2930 non-null   int64  \n",
            " 48  Bsmt_Half_Bath      2930 non-null   int64  \n",
            " 49  Full_Bath           2930 non-null   int64  \n",
            " 50  Half_Bath           2930 non-null   int64  \n",
            " 51  Bedroom_AbvGr       2930 non-null   int64  \n",
            " 52  Kitchen_AbvGr       2930 non-null   int64  \n",
            " 53  Kitchen_Qual        2930 non-null   object \n",
            " 54  TotRms_AbvGrd       2930 non-null   int64  \n",
            " 55  Functional          2930 non-null   object \n",
            " 56  Fireplaces          2930 non-null   int64  \n",
            " 57  Fireplace_Qu        2930 non-null   object \n",
            " 58  Garage_Type         2930 non-null   object \n",
            " 59  Garage_Finish       2930 non-null   object \n",
            " 60  Garage_Cars         2930 non-null   int64  \n",
            " 61  Garage_Area         2930 non-null   int64  \n",
            " 62  Garage_Qual         2930 non-null   object \n",
            " 63  Garage_Cond         2930 non-null   object \n",
            " 64  Paved_Drive         2930 non-null   object \n",
            " 65  Wood_Deck_SF        2930 non-null   int64  \n",
            " 66  Open_Porch_SF       2930 non-null   int64  \n",
            " 67  Enclosed_Porch      2930 non-null   int64  \n",
            " 68  Three_season_porch  2930 non-null   int64  \n",
            " 69  Screen_Porch        2930 non-null   int64  \n",
            " 70  Pool_Area           2930 non-null   int64  \n",
            " 71  Pool_QC             2930 non-null   object \n",
            " 72  Fence               2930 non-null   object \n",
            " 73  Misc_Feature        2930 non-null   object \n",
            " 74  Misc_Val            2930 non-null   int64  \n",
            " 75  Mo_Sold             2930 non-null   int64  \n",
            " 76  Year_Sold           2930 non-null   int64  \n",
            " 77  Sale_Type           2930 non-null   object \n",
            " 78  Sale_Condition      2930 non-null   object \n",
            " 79  Sale_Price          2930 non-null   int64  \n",
            " 80  Longitude           2930 non-null   float64\n",
            " 81  Latitude            2930 non-null   float64\n",
            " 82  log_Sale_Price      2930 non-null   float64\n",
            "dtypes: float64(3), int64(34), object(46)\n",
            "memory usage: 1.9+ MB\n",
            "None\n"
          ]
        }
      ]
    },
    {
      "cell_type": "code",
      "source": [
        "ames_python.Overall_Qual.value_counts() # ordinal, with some ordering of the levels (here from Very_Poor to Very_Excellent)"
      ],
      "metadata": {
        "colab": {
          "base_uri": "https://localhost:8080/"
        },
        "id": "8c8GGJmqD97m",
        "outputId": "c058d705-4794-482b-db73-ff02e9ccd139"
      },
      "execution_count": null,
      "outputs": [
        {
          "output_type": "execute_result",
          "data": {
            "text/plain": [
              "Average           825\n",
              "Above_Average     732\n",
              "Good              602\n",
              "Very_Good         350\n",
              "Below_Average     226\n",
              "Excellent         107\n",
              "Fair               40\n",
              "Very_Excellent     31\n",
              "Poor               13\n",
              "Very_Poor           4\n",
              "Name: Overall_Qual, dtype: int64"
            ]
          },
          "metadata": {},
          "execution_count": 65
        }
      ]
    },
    {
      "cell_type": "code",
      "source": [
        "ames_python.MS_Zoning.value_counts() # nominal, no ordering in the levels"
      ],
      "metadata": {
        "colab": {
          "base_uri": "https://localhost:8080/"
        },
        "id": "BeKYetbPDOzN",
        "outputId": "197b9aed-75e3-4fe3-f0e3-a5650a930cf3"
      },
      "execution_count": null,
      "outputs": [
        {
          "output_type": "execute_result",
          "data": {
            "text/plain": [
              "Residential_Low_Density         2273\n",
              "Residential_Medium_Density       462\n",
              "Floating_Village_Residential     139\n",
              "Residential_High_Density          27\n",
              "C_all                             25\n",
              "I_all                              2\n",
              "A_agr                              2\n",
              "Name: MS_Zoning, dtype: int64"
            ]
          },
          "metadata": {},
          "execution_count": 66
        }
      ]
    },
    {
      "cell_type": "code",
      "source": [
        "ames_python.Lot_Frontage.describe() # numeric"
      ],
      "metadata": {
        "colab": {
          "base_uri": "https://localhost:8080/"
        },
        "id": "7BIkleGHEr41",
        "outputId": "d7a2bacf-7237-4c75-b416-8f2cf37fafdd"
      },
      "execution_count": null,
      "outputs": [
        {
          "output_type": "execute_result",
          "data": {
            "text/plain": [
              "count    2930.000000\n",
              "mean       57.647782\n",
              "std        33.499441\n",
              "min         0.000000\n",
              "25%        43.000000\n",
              "50%        63.000000\n",
              "75%        78.000000\n",
              "max       313.000000\n",
              "Name: Lot_Frontage, dtype: float64"
            ]
          },
          "metadata": {},
          "execution_count": 67
        }
      ]
    },
    {
      "cell_type": "markdown",
      "source": [
        "In `pandas` we can change the type of a variable with instructions such as those below. The functions `Categorical` (see [here](https://pandas.pydata.org/docs/reference/api/pandas.Categorical.html)), `to_numeric` (see [here](https://pandas.pydata.org/docs/reference/api/pandas.to_numeric.html), `astype(\"string\")` (see [here](https://pandas.pydata.org/docs/reference/api/pandas.DataFrame.astype.html)) are interesting to keep in mind. We demonstrate their use on selected variables from the Ames housing data set. "
      ],
      "metadata": {
        "id": "Up1Ru42kFGsl"
      }
    },
    {
      "cell_type": "code",
      "source": [
        "ames_python.Land_Slope.describe()"
      ],
      "metadata": {
        "colab": {
          "base_uri": "https://localhost:8080/"
        },
        "id": "lNU6Vp7PPmB-",
        "outputId": "77ba129b-6c83-4000-bb92-63f6ccf5247a"
      },
      "execution_count": null,
      "outputs": [
        {
          "output_type": "execute_result",
          "data": {
            "text/plain": [
              "count     2930\n",
              "unique       3\n",
              "top        Gtl\n",
              "freq      2789\n",
              "Name: Land_Slope, dtype: object"
            ]
          },
          "metadata": {},
          "execution_count": 68
        }
      ]
    },
    {
      "cell_type": "code",
      "source": [
        "pd.Categorical(ames_python[\"Land_Slope\"])  "
      ],
      "metadata": {
        "colab": {
          "base_uri": "https://localhost:8080/"
        },
        "id": "smq5A9RsOvt3",
        "outputId": "e7e007ae-c593-4673-d20f-b82983a415a5"
      },
      "execution_count": null,
      "outputs": [
        {
          "output_type": "execute_result",
          "data": {
            "text/plain": [
              "['Gtl', 'Gtl', 'Gtl', 'Gtl', 'Gtl', ..., 'Gtl', 'Mod', 'Gtl', 'Mod', 'Mod']\n",
              "Length: 2930\n",
              "Categories (3, object): ['Gtl', 'Mod', 'Sev']"
            ]
          },
          "metadata": {},
          "execution_count": 69
        }
      ]
    },
    {
      "cell_type": "code",
      "source": [
        "ames_python.Year_Sold"
      ],
      "metadata": {
        "colab": {
          "base_uri": "https://localhost:8080/"
        },
        "id": "tc0KZmSDPyjH",
        "outputId": "eeb1e257-989c-4f78-c4f8-dccdd715e5c8"
      },
      "execution_count": null,
      "outputs": [
        {
          "output_type": "execute_result",
          "data": {
            "text/plain": [
              "0       2010\n",
              "1       2010\n",
              "2       2010\n",
              "3       2010\n",
              "4       2010\n",
              "        ... \n",
              "2925    2006\n",
              "2926    2006\n",
              "2927    2006\n",
              "2928    2006\n",
              "2929    2006\n",
              "Name: Year_Sold, Length: 2930, dtype: int64"
            ]
          },
          "metadata": {},
          "execution_count": 70
        }
      ]
    },
    {
      "cell_type": "code",
      "source": [
        "pd.Categorical(ames_python[\"Year_Sold\"])  "
      ],
      "metadata": {
        "colab": {
          "base_uri": "https://localhost:8080/"
        },
        "id": "zbbBHkWAQFQo",
        "outputId": "ffbad8cf-9fbd-4586-c766-fe2de5b4a183"
      },
      "execution_count": null,
      "outputs": [
        {
          "output_type": "execute_result",
          "data": {
            "text/plain": [
              "[2010, 2010, 2010, 2010, 2010, ..., 2006, 2006, 2006, 2006, 2006]\n",
              "Length: 2930\n",
              "Categories (5, int64): [2006, 2007, 2008, 2009, 2010]"
            ]
          },
          "metadata": {},
          "execution_count": 71
        }
      ]
    },
    {
      "cell_type": "code",
      "source": [
        "ames_python.Lot_Area"
      ],
      "metadata": {
        "colab": {
          "base_uri": "https://localhost:8080/"
        },
        "id": "ZFfdJKE4QM_V",
        "outputId": "c906846e-d088-4120-d897-9b4a3e55b6b4"
      },
      "execution_count": null,
      "outputs": [
        {
          "output_type": "execute_result",
          "data": {
            "text/plain": [
              "0       31770\n",
              "1       11622\n",
              "2       14267\n",
              "3       11160\n",
              "4       13830\n",
              "        ...  \n",
              "2925     7937\n",
              "2926     8885\n",
              "2927    10441\n",
              "2928    10010\n",
              "2929     9627\n",
              "Name: Lot_Area, Length: 2930, dtype: int64"
            ]
          },
          "metadata": {},
          "execution_count": 72
        }
      ]
    },
    {
      "cell_type": "code",
      "source": [
        "pd.to_numeric(ames_python[\"Lot_Area\"])  "
      ],
      "metadata": {
        "colab": {
          "base_uri": "https://localhost:8080/"
        },
        "id": "R3hZGpGRQSHm",
        "outputId": "c2c59e28-dee3-4b3d-e9ee-9c6eac16fe2f"
      },
      "execution_count": null,
      "outputs": [
        {
          "output_type": "execute_result",
          "data": {
            "text/plain": [
              "0       31770\n",
              "1       11622\n",
              "2       14267\n",
              "3       11160\n",
              "4       13830\n",
              "        ...  \n",
              "2925     7937\n",
              "2926     8885\n",
              "2927    10441\n",
              "2928    10010\n",
              "2929     9627\n",
              "Name: Lot_Area, Length: 2930, dtype: int64"
            ]
          },
          "metadata": {},
          "execution_count": 73
        }
      ]
    },
    {
      "cell_type": "code",
      "source": [
        "ames_python.MS_SubClass"
      ],
      "metadata": {
        "colab": {
          "base_uri": "https://localhost:8080/"
        },
        "id": "oMF_Gx3nQqJr",
        "outputId": "0cf64dbe-65c2-4a97-e344-59f826b72c37"
      },
      "execution_count": null,
      "outputs": [
        {
          "output_type": "execute_result",
          "data": {
            "text/plain": [
              "0       One_Story_1946_and_Newer_All_Styles\n",
              "1       One_Story_1946_and_Newer_All_Styles\n",
              "2       One_Story_1946_and_Newer_All_Styles\n",
              "3       One_Story_1946_and_Newer_All_Styles\n",
              "4                  Two_Story_1946_and_Newer\n",
              "                       ...                 \n",
              "2925                    Split_or_Multilevel\n",
              "2926    One_Story_1946_and_Newer_All_Styles\n",
              "2927                            Split_Foyer\n",
              "2928    One_Story_1946_and_Newer_All_Styles\n",
              "2929               Two_Story_1946_and_Newer\n",
              "Name: MS_SubClass, Length: 2930, dtype: object"
            ]
          },
          "metadata": {},
          "execution_count": 74
        }
      ]
    },
    {
      "cell_type": "code",
      "source": [
        "ames_python.MS_SubClass.value_counts() "
      ],
      "metadata": {
        "colab": {
          "base_uri": "https://localhost:8080/"
        },
        "id": "6o0c6UVmFx3i",
        "outputId": "a41063c0-f9b2-4dd1-8647-9dd5a1a0bf63"
      },
      "execution_count": null,
      "outputs": [
        {
          "output_type": "execute_result",
          "data": {
            "text/plain": [
              "One_Story_1946_and_Newer_All_Styles          1079\n",
              "Two_Story_1946_and_Newer                      575\n",
              "One_and_Half_Story_Finished_All_Ages          287\n",
              "One_Story_PUD_1946_and_Newer                  192\n",
              "One_Story_1945_and_Older                      139\n",
              "Two_Story_PUD_1946_and_Newer                  129\n",
              "Two_Story_1945_and_Older                      128\n",
              "Split_or_Multilevel                           118\n",
              "Duplex_All_Styles_and_Ages                    109\n",
              "Two_Family_conversion_All_Styles_and_Ages      61\n",
              "Split_Foyer                                    48\n",
              "Two_and_Half_Story_All_Ages                    23\n",
              "One_and_Half_Story_Unfinished_All_Ages         18\n",
              "PUD_Multilevel_Split_Level_Foyer               17\n",
              "One_Story_with_Finished_Attic_All_Ages          6\n",
              "One_and_Half_Story_PUD_All_Ages                 1\n",
              "Name: MS_SubClass, dtype: int64"
            ]
          },
          "metadata": {},
          "execution_count": 75
        }
      ]
    },
    {
      "cell_type": "markdown",
      "source": [
        "### 4.2.2 Feature encoding with `feature_engine` <a name=\"four-two-two\"></a>"
      ],
      "metadata": {
        "id": "Vi3YnzorIn6c"
      }
    },
    {
      "cell_type": "code",
      "source": [
        "bins = np.linspace(ames_python.Sale_Price.min(), ames_python.Sale_Price.max(), 20) \n",
        "y_cat = pd.cut(ames_python.Sale_Price, bins = bins, include_lowest = True) \n",
        "X     = ames_python.drop(columns='Sale_Price', axis = 1)\n",
        "X_train, X_test, y_train, y_test = train_test_split(X, ames_python.Sale_Price, test_size = 0.3, stratify = y_cat) "
      ],
      "metadata": {
        "id": "LyOtWSMkbzFs"
      },
      "execution_count": null,
      "outputs": []
    },
    {
      "cell_type": "code",
      "source": [
        "X_train.__class__"
      ],
      "metadata": {
        "colab": {
          "base_uri": "https://localhost:8080/"
        },
        "id": "I-mVZ57Rlv0Z",
        "outputId": "091d59a0-dfbc-47da-d7db-67f974ef08f2"
      },
      "execution_count": null,
      "outputs": [
        {
          "output_type": "execute_result",
          "data": {
            "text/plain": [
              "pandas.core.frame.DataFrame"
            ]
          },
          "metadata": {},
          "execution_count": 77
        }
      ]
    },
    {
      "cell_type": "code",
      "source": [
        "y_train.__class__"
      ],
      "metadata": {
        "colab": {
          "base_uri": "https://localhost:8080/"
        },
        "id": "_0cLBG16l4SU",
        "outputId": "0e039e93-7610-4a44-e181-b1e81bf5736a"
      },
      "execution_count": null,
      "outputs": [
        {
          "output_type": "execute_result",
          "data": {
            "text/plain": [
              "pandas.core.series.Series"
            ]
          },
          "metadata": {},
          "execution_count": 78
        }
      ]
    },
    {
      "cell_type": "code",
      "source": [
        "y_train_df = pd.DataFrame(y_train)\n",
        "y_train_df.__class__\n",
        "y_train_df.info()"
      ],
      "metadata": {
        "colab": {
          "base_uri": "https://localhost:8080/"
        },
        "id": "_x95SslYmNLw",
        "outputId": "f0f7da22-2001-46d7-c933-7f854b86af37"
      },
      "execution_count": null,
      "outputs": [
        {
          "output_type": "stream",
          "name": "stdout",
          "text": [
            "<class 'pandas.core.frame.DataFrame'>\n",
            "Int64Index: 2051 entries, 457 to 2224\n",
            "Data columns (total 1 columns):\n",
            " #   Column      Non-Null Count  Dtype\n",
            "---  ------      --------------  -----\n",
            " 0   Sale_Price  2051 non-null   int64\n",
            "dtypes: int64(1)\n",
            "memory usage: 32.0 KB\n"
          ]
        }
      ]
    },
    {
      "cell_type": "code",
      "source": [
        "#! pip install feature_engine\n",
        "import feature_engine\n",
        "from feature_engine.encoding import CountFrequencyEncoder\n",
        "\n",
        "encoder = CountFrequencyEncoder(encoding_method = 'frequency', variables = ['Neighborhood'])\n",
        "encoder.fit(X_train)\n",
        "encoder.encoder_dict_"
      ],
      "metadata": {
        "colab": {
          "base_uri": "https://localhost:8080/"
        },
        "id": "jit5ELztG5aG",
        "outputId": "352b545d-eb03-45e7-caeb-a1b3d8f25d6f"
      },
      "execution_count": null,
      "outputs": [
        {
          "output_type": "execute_result",
          "data": {
            "text/plain": [
              "{'Neighborhood': {'North_Ames': 0.16040955631399317,\n",
              "  'College_Creek': 0.08629936616284739,\n",
              "  'Old_Town': 0.07362262311067772,\n",
              "  'Edwards': 0.06874695270599708,\n",
              "  'Somerset': 0.060945880058508047,\n",
              "  'Northridge_Heights': 0.05802047781569966,\n",
              "  'Gilbert': 0.056557776694295465,\n",
              "  'Sawyer': 0.0492442710872745,\n",
              "  'Northwest_Ames': 0.04485616772306192,\n",
              "  'Sawyer_West': 0.04193076548025353,\n",
              "  'Mitchell': 0.040468064358849344,\n",
              "  'Crawford': 0.03803022915650902,\n",
              "  'Brookside': 0.034129692832764506,\n",
              "  'Iowa_DOT_and_Rail_Road': 0.030716723549488054,\n",
              "  'Northridge': 0.02437835202340322,\n",
              "  'Timberland': 0.02437835202340322,\n",
              "  'South_and_West_of_Iowa_State_University': 0.019502681618722574,\n",
              "  'Stone_Brook': 0.017552413456850317,\n",
              "  'Clear_Creek': 0.014139444173573866,\n",
              "  'Briardale': 0.01121404193076548,\n",
              "  'Meadow_Village': 0.01121404193076548,\n",
              "  'Bloomington_Heights': 0.010238907849829351,\n",
              "  'Veenker': 0.008288639687957094,\n",
              "  'Northpark_Villa': 0.007313505607020965,\n",
              "  'Greens': 0.0034129692832764505,\n",
              "  'Blueste': 0.0029254022428083864,\n",
              "  'Green_Hills': 0.0009751340809361287,\n",
              "  'Landmark': 0.00048756704046806434}}"
            ]
          },
          "metadata": {},
          "execution_count": 80
        }
      ]
    },
    {
      "cell_type": "code",
      "source": [
        "freq = dict(sorted(encoder.encoder_dict_[\"Neighborhood\"].items(), key=lambda item: item[1]))\n",
        "freq"
      ],
      "metadata": {
        "colab": {
          "base_uri": "https://localhost:8080/"
        },
        "id": "J3znGqGTFrC6",
        "outputId": "a5689397-b9fa-4e88-fd62-0053bc3ab444"
      },
      "execution_count": null,
      "outputs": [
        {
          "output_type": "execute_result",
          "data": {
            "text/plain": [
              "{'Landmark': 0.00048756704046806434,\n",
              " 'Green_Hills': 0.0009751340809361287,\n",
              " 'Blueste': 0.0029254022428083864,\n",
              " 'Greens': 0.0034129692832764505,\n",
              " 'Northpark_Villa': 0.007313505607020965,\n",
              " 'Veenker': 0.008288639687957094,\n",
              " 'Bloomington_Heights': 0.010238907849829351,\n",
              " 'Briardale': 0.01121404193076548,\n",
              " 'Meadow_Village': 0.01121404193076548,\n",
              " 'Clear_Creek': 0.014139444173573866,\n",
              " 'Stone_Brook': 0.017552413456850317,\n",
              " 'South_and_West_of_Iowa_State_University': 0.019502681618722574,\n",
              " 'Northridge': 0.02437835202340322,\n",
              " 'Timberland': 0.02437835202340322,\n",
              " 'Iowa_DOT_and_Rail_Road': 0.030716723549488054,\n",
              " 'Brookside': 0.034129692832764506,\n",
              " 'Crawford': 0.03803022915650902,\n",
              " 'Mitchell': 0.040468064358849344,\n",
              " 'Sawyer_West': 0.04193076548025353,\n",
              " 'Northwest_Ames': 0.04485616772306192,\n",
              " 'Sawyer': 0.0492442710872745,\n",
              " 'Gilbert': 0.056557776694295465,\n",
              " 'Northridge_Heights': 0.05802047781569966,\n",
              " 'Somerset': 0.060945880058508047,\n",
              " 'Edwards': 0.06874695270599708,\n",
              " 'Old_Town': 0.07362262311067772,\n",
              " 'College_Creek': 0.08629936616284739,\n",
              " 'North_Ames': 0.16040955631399317}"
            ]
          },
          "metadata": {},
          "execution_count": 84
        }
      ]
    },
    {
      "cell_type": "code",
      "source": [
        "neighborhoods = list(freq.keys())\n",
        "frequency = list(freq.values()) \n",
        "y_pos = np.arange(len(neighborhoods))\n",
        "plt.rcParams['figure.figsize'] = [10,8]\n",
        "plt.rcParams['font.size'] = 12\n",
        "fig, ax= plt.subplots();\n",
        "ax.barh(neighborhoods, frequency, color= KULbg, alpha=0.5);\n",
        "ax.set_yticks(y_pos);\n",
        "ax.set_yticklabels(neighborhoods);\n",
        "ax.invert_yaxis(); # labels read top-to-bottom\n",
        "ax.set_xlabel('frequency');\n",
        "plt.show()"
      ],
      "metadata": {
        "colab": {
          "base_uri": "https://localhost:8080/",
          "height": 503
        },
        "id": "VCevWQQZI5Bl",
        "outputId": "904bdd0a-2f24-4ab2-ee26-4535184f26ff"
      },
      "execution_count": null,
      "outputs": [
        {
          "output_type": "display_data",
          "data": {
            "text/plain": [
              "<Figure size 720x576 with 1 Axes>"
            ],
            "image/png": "[encoded data removed]"
          },
          "metadata": {}
        }
      ]
    },
    {
      "cell_type": "code",
      "source": [
        "from feature_engine.encoding import RareLabelEncoder\n",
        "encoder = RareLabelEncoder(tol = 0.04, variables = ['Neighborhood'], replace_with = 'Rare')\n",
        "encoder.fit(X_train)"
      ],
      "metadata": {
        "colab": {
          "base_uri": "https://localhost:8080/",
          "height": 74
        },
        "id": "ktiHbsVRJhjb",
        "outputId": "f8eb8767-ebdc-439e-c0a7-ced883d50adc"
      },
      "execution_count": null,
      "outputs": [
        {
          "output_type": "execute_result",
          "data": {
            "text/plain": [
              "RareLabelEncoder(tol=0.04, variables=['Neighborhood'])"
            ],
            "text/html": [
              "<style>#sk-container-id-2 {color: black;background-color: white;}#sk-container-id-2 pre{padding: 0;}#sk-container-id-2 div.sk-toggleable {background-color: white;}#sk-container-id-2 label.sk-toggleable__label {cursor: pointer;display: block;width: 100%;margin-bottom: 0;padding: 0.3em;box-sizing: border-box;text-align: center;}#sk-container-id-2 label.sk-toggleable__label-arrow:before {content: \"▸\";float: left;margin-right: 0.25em;color: #696969;}#sk-container-id-2 label.sk-toggleable__label-arrow:hover:before {color: black;}#sk-container-id-2 div.sk-estimator:hover label.sk-toggleable__label-arrow:before {color: black;}#sk-container-id-2 div.sk-toggleable__content {max-height: 0;max-width: 0;overflow: hidden;text-align: left;background-color: #f0f8ff;}#sk-container-id-2 div.sk-toggleable__content pre {margin: 0.2em;color: black;border-radius: 0.25em;background-color: #f0f8ff;}#sk-container-id-2 input.sk-toggleable__control:checked~div.sk-toggleable__content {max-height: 200px;max-width: 100%;overflow: auto;}#sk-container-id-2 input.sk-toggleable__control:checked~label.sk-toggleable__label-arrow:before {content: \"▾\";}#sk-container-id-2 div.sk-estimator input.sk-toggleable__control:checked~label.sk-toggleable__label {background-color: #d4ebff;}#sk-container-id-2 div.sk-label input.sk-toggleable__control:checked~label.sk-toggleable__label {background-color: #d4ebff;}#sk-container-id-2 input.sk-hidden--visually {border: 0;clip: rect(1px 1px 1px 1px);clip: rect(1px, 1px, 1px, 1px);height: 1px;margin: -1px;overflow: hidden;padding: 0;position: absolute;width: 1px;}#sk-container-id-2 div.sk-estimator {font-family: monospace;background-color: #f0f8ff;border: 1px dotted black;border-radius: 0.25em;box-sizing: border-box;margin-bottom: 0.5em;}#sk-container-id-2 div.sk-estimator:hover {background-color: #d4ebff;}#sk-container-id-2 div.sk-parallel-item::after {content: \"\";width: 100%;border-bottom: 1px solid gray;flex-grow: 1;}#sk-container-id-2 div.sk-label:hover label.sk-toggleable__label {background-color: #d4ebff;}#sk-container-id-2 div.sk-serial::before {content: \"\";position: absolute;border-left: 1px solid gray;box-sizing: border-box;top: 0;bottom: 0;left: 50%;z-index: 0;}#sk-container-id-2 div.sk-serial {display: flex;flex-direction: column;align-items: center;background-color: white;padding-right: 0.2em;padding-left: 0.2em;position: relative;}#sk-container-id-2 div.sk-item {position: relative;z-index: 1;}#sk-container-id-2 div.sk-parallel {display: flex;align-items: stretch;justify-content: center;background-color: white;position: relative;}#sk-container-id-2 div.sk-item::before, #sk-container-id-2 div.sk-parallel-item::before {content: \"\";position: absolute;border-left: 1px solid gray;box-sizing: border-box;top: 0;bottom: 0;left: 50%;z-index: -1;}#sk-container-id-2 div.sk-parallel-item {display: flex;flex-direction: column;z-index: 1;position: relative;background-color: white;}#sk-container-id-2 div.sk-parallel-item:first-child::after {align-self: flex-end;width: 50%;}#sk-container-id-2 div.sk-parallel-item:last-child::after {align-self: flex-start;width: 50%;}#sk-container-id-2 div.sk-parallel-item:only-child::after {width: 0;}#sk-container-id-2 div.sk-dashed-wrapped {border: 1px dashed gray;margin: 0 0.4em 0.5em 0.4em;box-sizing: border-box;padding-bottom: 0.4em;background-color: white;}#sk-container-id-2 div.sk-label label {font-family: monospace;font-weight: bold;display: inline-block;line-height: 1.2em;}#sk-container-id-2 div.sk-label-container {text-align: center;}#sk-container-id-2 div.sk-container {/* jupyter's `normalize.less` sets `[hidden] { display: none; }` but bootstrap.min.css set `[hidden] { display: none !important; }` so we also need the `!important` here to be able to override the default hidden behavior on the sphinx rendered scikit-learn.org. See: https://github.com/scikit-learn/scikit-learn/issues/21755 */display: inline-block !important;position: relative;}#sk-container-id-2 div.sk-text-repr-fallback {display: none;}</style><div id=\"sk-container-id-2\" class=\"sk-top-container\"><div class=\"sk-text-repr-fallback\"><pre>RareLabelEncoder(tol=0.04, variables=[&#x27;Neighborhood&#x27;])</pre><b>In a Jupyter environment, please rerun this cell to show the HTML representation or trust the notebook. <br />On GitHub, the HTML representation is unable to render, please try loading this page with nbviewer.org.</b></div><div class=\"sk-container\" hidden><div class=\"sk-item\"><div class=\"sk-estimator sk-toggleable\"><input class=\"sk-toggleable__control sk-hidden--visually\" id=\"sk-estimator-id-2\" type=\"checkbox\" checked><label for=\"sk-estimator-id-2\" class=\"sk-toggleable__label sk-toggleable__label-arrow\">RareLabelEncoder</label><div class=\"sk-toggleable__content\"><pre>RareLabelEncoder(tol=0.04, variables=[&#x27;Neighborhood&#x27;])</pre></div></div></div></div></div>"
            ]
          },
          "metadata": {},
          "execution_count": 86
        }
      ]
    },
    {
      "cell_type": "code",
      "source": [
        "X_train[\"Neighborhood_Enc\"] = encoder.transform(X_train)['Neighborhood']\n",
        "X_test[\"Neighborhood_Enc\"] = encoder.transform(X_test)['Neighborhood']"
      ],
      "metadata": {
        "id": "ilADjU9LLQUN"
      },
      "execution_count": null,
      "outputs": []
    },
    {
      "cell_type": "code",
      "source": [
        "X_train[\"Neighborhood_Enc\"] = pd.Categorical(X_train[\"Neighborhood_Enc\"]) "
      ],
      "metadata": {
        "id": "Xw8fIA3vaDDZ"
      },
      "execution_count": null,
      "outputs": []
    },
    {
      "cell_type": "code",
      "source": [
        "X_test[\"Neighborhood_Enc\"] = pd.Categorical(X_test[\"Neighborhood_Enc\"]) "
      ],
      "metadata": {
        "id": "dBo3jWIXcdUn"
      },
      "execution_count": null,
      "outputs": []
    },
    {
      "cell_type": "code",
      "source": [
        "X_train.info()"
      ],
      "metadata": {
        "colab": {
          "base_uri": "https://localhost:8080/"
        },
        "id": "a7JBjR2uZZUS",
        "outputId": "9ce5d45f-d55b-4884-c51c-04a8e9cf6573"
      },
      "execution_count": null,
      "outputs": [
        {
          "output_type": "stream",
          "name": "stdout",
          "text": [
            "<class 'pandas.core.frame.DataFrame'>\n",
            "Int64Index: 2051 entries, 457 to 2224\n",
            "Data columns (total 83 columns):\n",
            " #   Column              Non-Null Count  Dtype   \n",
            "---  ------              --------------  -----   \n",
            " 0   Unnamed: 0          2051 non-null   int64   \n",
            " 1   MS_SubClass         2051 non-null   object  \n",
            " 2   MS_Zoning           2051 non-null   object  \n",
            " 3   Lot_Frontage        2051 non-null   int64   \n",
            " 4   Lot_Area            2051 non-null   int64   \n",
            " 5   Street              2051 non-null   object  \n",
            " 6   Alley               2051 non-null   object  \n",
            " 7   Lot_Shape           2051 non-null   object  \n",
            " 8   Land_Contour        2051 non-null   object  \n",
            " 9   Utilities           2051 non-null   object  \n",
            " 10  Lot_Config          2051 non-null   object  \n",
            " 11  Land_Slope          2051 non-null   object  \n",
            " 12  Neighborhood        2051 non-null   object  \n",
            " 13  Condition_1         2051 non-null   object  \n",
            " 14  Condition_2         2051 non-null   object  \n",
            " 15  Bldg_Type           2051 non-null   object  \n",
            " 16  House_Style         2051 non-null   object  \n",
            " 17  Overall_Qual        2051 non-null   object  \n",
            " 18  Overall_Cond        2051 non-null   object  \n",
            " 19  Year_Built          2051 non-null   int64   \n",
            " 20  Year_Remod_Add      2051 non-null   int64   \n",
            " 21  Roof_Style          2051 non-null   object  \n",
            " 22  Roof_Matl           2051 non-null   object  \n",
            " 23  Exterior_1st        2051 non-null   object  \n",
            " 24  Exterior_2nd        2051 non-null   object  \n",
            " 25  Mas_Vnr_Type        2051 non-null   object  \n",
            " 26  Mas_Vnr_Area        2051 non-null   int64   \n",
            " 27  Exter_Qual          2051 non-null   object  \n",
            " 28  Exter_Cond          2051 non-null   object  \n",
            " 29  Foundation          2051 non-null   object  \n",
            " 30  Bsmt_Qual           2051 non-null   object  \n",
            " 31  Bsmt_Cond           2051 non-null   object  \n",
            " 32  Bsmt_Exposure       2051 non-null   object  \n",
            " 33  BsmtFin_Type_1      2051 non-null   object  \n",
            " 34  BsmtFin_SF_1        2051 non-null   int64   \n",
            " 35  BsmtFin_Type_2      2051 non-null   object  \n",
            " 36  BsmtFin_SF_2        2051 non-null   int64   \n",
            " 37  Bsmt_Unf_SF         2051 non-null   int64   \n",
            " 38  Total_Bsmt_SF       2051 non-null   int64   \n",
            " 39  Heating             2051 non-null   object  \n",
            " 40  Heating_QC          2051 non-null   object  \n",
            " 41  Central_Air         2051 non-null   object  \n",
            " 42  Electrical          2051 non-null   object  \n",
            " 43  First_Flr_SF        2051 non-null   int64   \n",
            " 44  Second_Flr_SF       2051 non-null   int64   \n",
            " 45  Low_Qual_Fin_SF     2051 non-null   int64   \n",
            " 46  Gr_Liv_Area         2051 non-null   int64   \n",
            " 47  Bsmt_Full_Bath      2051 non-null   int64   \n",
            " 48  Bsmt_Half_Bath      2051 non-null   int64   \n",
            " 49  Full_Bath           2051 non-null   int64   \n",
            " 50  Half_Bath           2051 non-null   int64   \n",
            " 51  Bedroom_AbvGr       2051 non-null   int64   \n",
            " 52  Kitchen_AbvGr       2051 non-null   int64   \n",
            " 53  Kitchen_Qual        2051 non-null   object  \n",
            " 54  TotRms_AbvGrd       2051 non-null   int64   \n",
            " 55  Functional          2051 non-null   object  \n",
            " 56  Fireplaces          2051 non-null   int64   \n",
            " 57  Fireplace_Qu        2051 non-null   object  \n",
            " 58  Garage_Type         2051 non-null   object  \n",
            " 59  Garage_Finish       2051 non-null   object  \n",
            " 60  Garage_Cars         2051 non-null   int64   \n",
            " 61  Garage_Area         2051 non-null   int64   \n",
            " 62  Garage_Qual         2051 non-null   object  \n",
            " 63  Garage_Cond         2051 non-null   object  \n",
            " 64  Paved_Drive         2051 non-null   object  \n",
            " 65  Wood_Deck_SF        2051 non-null   int64   \n",
            " 66  Open_Porch_SF       2051 non-null   int64   \n",
            " 67  Enclosed_Porch      2051 non-null   int64   \n",
            " 68  Three_season_porch  2051 non-null   int64   \n",
            " 69  Screen_Porch        2051 non-null   int64   \n",
            " 70  Pool_Area           2051 non-null   int64   \n",
            " 71  Pool_QC             2051 non-null   object  \n",
            " 72  Fence               2051 non-null   object  \n",
            " 73  Misc_Feature        2051 non-null   object  \n",
            " 74  Misc_Val            2051 non-null   int64   \n",
            " 75  Mo_Sold             2051 non-null   int64   \n",
            " 76  Year_Sold           2051 non-null   int64   \n",
            " 77  Sale_Type           2051 non-null   object  \n",
            " 78  Sale_Condition      2051 non-null   object  \n",
            " 79  Longitude           2051 non-null   float64 \n",
            " 80  Latitude            2051 non-null   float64 \n",
            " 81  log_Sale_Price      2051 non-null   float64 \n",
            " 82  Neighborhood_Enc    2051 non-null   category\n",
            "dtypes: category(1), float64(3), int64(33), object(46)\n",
            "memory usage: 1.3+ MB\n"
          ]
        }
      ]
    },
    {
      "cell_type": "code",
      "source": [
        "X_train.Neighborhood_Enc.value_counts()"
      ],
      "metadata": {
        "colab": {
          "base_uri": "https://localhost:8080/"
        },
        "id": "Jvr1ThupaOY5",
        "outputId": "663f9d80-c74d-4c16-9371-1f1db8992ecd"
      },
      "execution_count": null,
      "outputs": [
        {
          "output_type": "execute_result",
          "data": {
            "text/plain": [
              "Rare                  531\n",
              "North_Ames            329\n",
              "College_Creek         177\n",
              "Old_Town              151\n",
              "Edwards               141\n",
              "Somerset              125\n",
              "Northridge_Heights    119\n",
              "Gilbert               116\n",
              "Sawyer                101\n",
              "Northwest_Ames         92\n",
              "Sawyer_West            86\n",
              "Mitchell               83\n",
              "Name: Neighborhood_Enc, dtype: int64"
            ]
          },
          "metadata": {},
          "execution_count": 91
        }
      ]
    },
    {
      "cell_type": "code",
      "source": [
        "X_test.Neighborhood_Enc.value_counts()"
      ],
      "metadata": {
        "colab": {
          "base_uri": "https://localhost:8080/"
        },
        "id": "KhK3KLzOcoDA",
        "outputId": "712155a3-0d97-4ed9-8415-91a0a90aa540"
      },
      "execution_count": null,
      "outputs": [
        {
          "output_type": "execute_result",
          "data": {
            "text/plain": [
              "Rare                  222\n",
              "North_Ames            114\n",
              "College_Creek          90\n",
              "Old_Town               88\n",
              "Somerset               57\n",
              "Edwards                53\n",
              "Sawyer                 50\n",
              "Gilbert                49\n",
              "Northridge_Heights     47\n",
              "Northwest_Ames         39\n",
              "Sawyer_West            39\n",
              "Mitchell               31\n",
              "Name: Neighborhood_Enc, dtype: int64"
            ]
          },
          "metadata": {},
          "execution_count": 92
        }
      ]
    },
    {
      "cell_type": "markdown",
      "source": [
        "### 4.2.3 Feature encoding and preprocessing with `sklearn` and `ColumnTransformer` <a name=\"four-two-three\"></a>"
      ],
      "metadata": {
        "id": "xrWmlpdidwub"
      }
    },
    {
      "cell_type": "markdown",
      "source": [
        "`sklearn.preprocessing` also has a lot of built-in functions for data preprocessing. This enables to transform the original features into a representation that is compliant with the requirements of a wide range of learning techniques. The [documentation](https://scikit-learn.org/stable/modules/preprocessing.html#preprocessing) of the preprocessing steps that are available. We demonstrate the use of `StandardScaler` to create zero-centered and unit variance features and `OneHotEncoder` for one hot encoding. "
      ],
      "metadata": {
        "id": "tRrlsfn5ZJIV"
      }
    },
    {
      "cell_type": "code",
      "source": [
        "from sklearn import preprocessing\n",
        "import numpy as np\n",
        "from sklearn.compose import ColumnTransformer\n",
        "from sklearn.preprocessing import StandardScaler\n",
        "from sklearn.preprocessing import OneHotEncoder"
      ],
      "metadata": {
        "id": "A4WPGDQ2ZIY0"
      },
      "execution_count": null,
      "outputs": []
    },
    {
      "cell_type": "code",
      "source": [
        "X_train.Lot_Area\n"
      ],
      "metadata": {
        "colab": {
          "base_uri": "https://localhost:8080/"
        },
        "id": "P_umusj7atZh",
        "outputId": "e4269475-e4c9-402b-8570-93ca2f8082ca"
      },
      "execution_count": null,
      "outputs": [
        {
          "output_type": "execute_result",
          "data": {
            "text/plain": [
              "457     15262\n",
              "2234     7288\n",
              "1945    21281\n",
              "1980     7200\n",
              "2155    10000\n",
              "        ...  \n",
              "937     17597\n",
              "1751    11950\n",
              "691      3950\n",
              "2408     6373\n",
              "2224    21579\n",
              "Name: Lot_Area, Length: 2051, dtype: int64"
            ]
          },
          "metadata": {},
          "execution_count": 94
        }
      ]
    },
    {
      "cell_type": "code",
      "source": [
        "X_train.MS_Zoning.value_counts()"
      ],
      "metadata": {
        "colab": {
          "base_uri": "https://localhost:8080/"
        },
        "id": "bmW8ye7Addx-",
        "outputId": "24ecb2e7-f467-4b74-bf22-57ccfde2b122"
      },
      "execution_count": null,
      "outputs": [
        {
          "output_type": "execute_result",
          "data": {
            "text/plain": [
              "Residential_Low_Density         1605\n",
              "Residential_Medium_Density       310\n",
              "Floating_Village_Residential      94\n",
              "Residential_High_Density          24\n",
              "C_all                             15\n",
              "I_all                              2\n",
              "A_agr                              1\n",
              "Name: MS_Zoning, dtype: int64"
            ]
          },
          "metadata": {},
          "execution_count": 95
        }
      ]
    },
    {
      "cell_type": "code",
      "source": [
        "X_train_sub = X_train[['MS_Zoning','Lot_Area']]\n",
        "X_test_sub = X_test[['MS_Zoning', 'Lot_Area']]"
      ],
      "metadata": {
        "id": "U6igwcVId2lT"
      },
      "execution_count": null,
      "outputs": []
    },
    {
      "cell_type": "code",
      "source": [
        "X_train_sub"
      ],
      "metadata": {
        "colab": {
          "base_uri": "https://localhost:8080/",
          "height": 423
        },
        "id": "Jkx4JwIreAyB",
        "outputId": "42e6e852-b0e6-4f67-907f-f9f54f344ecc"
      },
      "execution_count": null,
      "outputs": [
        {
          "output_type": "execute_result",
          "data": {
            "text/plain": [
              "                       MS_Zoning  Lot_Area\n",
              "457      Residential_Low_Density     15262\n",
              "2234  Residential_Medium_Density      7288\n",
              "1945     Residential_Low_Density     21281\n",
              "1980  Residential_Medium_Density      7200\n",
              "2155     Residential_Low_Density     10000\n",
              "...                          ...       ...\n",
              "937      Residential_Low_Density     17597\n",
              "1751     Residential_Low_Density     11950\n",
              "691   Residential_Medium_Density      3950\n",
              "2408     Residential_Low_Density      6373\n",
              "2224     Residential_Low_Density     21579\n",
              "\n",
              "[2051 rows x 2 columns]"
            ],
            "text/html": [
              "\n",
              "  <div id=\"df-0779c089-66a0-42ec-9321-bc54f5b7bbb6\">\n",
              "    <div class=\"colab-df-container\">\n",
              "      <div>\n",
              "<style scoped>\n",
              "    .dataframe tbody tr th:only-of-type {\n",
              "        vertical-align: middle;\n",
              "    }\n",
              "\n",
              "    .dataframe tbody tr th {\n",
              "        vertical-align: top;\n",
              "    }\n",
              "\n",
              "    .dataframe thead th {\n",
              "        text-align: right;\n",
              "    }\n",
              "</style>\n",
              "<table border=\"1\" class=\"dataframe\">\n",
              "  <thead>\n",
              "    <tr style=\"text-align: right;\">\n",
              "      <th></th>\n",
              "      <th>MS_Zoning</th>\n",
              "      <th>Lot_Area</th>\n",
              "    </tr>\n",
              "  </thead>\n",
              "  <tbody>\n",
              "    <tr>\n",
              "      <th>457</th>\n",
              "      <td>Residential_Low_Density</td>\n",
              "      <td>15262</td>\n",
              "    </tr>\n",
              "    <tr>\n",
              "      <th>2234</th>\n",
              "      <td>Residential_Medium_Density</td>\n",
              "      <td>7288</td>\n",
              "    </tr>\n",
              "    <tr>\n",
              "      <th>1945</th>\n",
              "      <td>Residential_Low_Density</td>\n",
              "      <td>21281</td>\n",
              "    </tr>\n",
              "    <tr>\n",
              "      <th>1980</th>\n",
              "      <td>Residential_Medium_Density</td>\n",
              "      <td>7200</td>\n",
              "    </tr>\n",
              "    <tr>\n",
              "      <th>2155</th>\n",
              "      <td>Residential_Low_Density</td>\n",
              "      <td>10000</td>\n",
              "    </tr>\n",
              "    <tr>\n",
              "      <th>...</th>\n",
              "      <td>...</td>\n",
              "      <td>...</td>\n",
              "    </tr>\n",
              "    <tr>\n",
              "      <th>937</th>\n",
              "      <td>Residential_Low_Density</td>\n",
              "      <td>17597</td>\n",
              "    </tr>\n",
              "    <tr>\n",
              "      <th>1751</th>\n",
              "      <td>Residential_Low_Density</td>\n",
              "      <td>11950</td>\n",
              "    </tr>\n",
              "    <tr>\n",
              "      <th>691</th>\n",
              "      <td>Residential_Medium_Density</td>\n",
              "      <td>3950</td>\n",
              "    </tr>\n",
              "    <tr>\n",
              "      <th>2408</th>\n",
              "      <td>Residential_Low_Density</td>\n",
              "      <td>6373</td>\n",
              "    </tr>\n",
              "    <tr>\n",
              "      <th>2224</th>\n",
              "      <td>Residential_Low_Density</td>\n",
              "      <td>21579</td>\n",
              "    </tr>\n",
              "  </tbody>\n",
              "</table>\n",
              "<p>2051 rows × 2 columns</p>\n",
              "</div>\n",
              "      <button class=\"colab-df-convert\" onclick=\"convertToInteractive('df-0779c089-66a0-42ec-9321-bc54f5b7bbb6')\"\n",
              "              title=\"Convert this dataframe to an interactive table.\"\n",
              "              style=\"display:none;\">\n",
              "        \n",
              "  <svg xmlns=\"http://www.w3.org/2000/svg\" height=\"24px\"viewBox=\"0 0 24 24\"\n",
              "       width=\"24px\">\n",
              "    <path d=\"M0 0h24v24H0V0z\" fill=\"none\"/>\n",
              "    <path d=\"M18.56 5.44l.94 2.06.94-2.06 2.06-.94-2.06-.94-.94-2.06-.94 2.06-2.06.94zm-11 1L8.5 8.5l.94-2.06 2.06-.94-2.06-.94L8.5 2.5l-.94 2.06-2.06.94zm10 10l.94 2.06.94-2.06 2.06-.94-2.06-.94-.94-2.06-.94 2.06-2.06.94z\"/><path d=\"M17.41 7.96l-1.37-1.37c-.4-.4-.92-.59-1.43-.59-.52 0-1.04.2-1.43.59L10.3 9.45l-7.72 7.72c-.78.78-.78 2.05 0 2.83L4 21.41c.39.39.9.59 1.41.59.51 0 1.02-.2 1.41-.59l7.78-7.78 2.81-2.81c.8-.78.8-2.07 0-2.86zM5.41 20L4 18.59l7.72-7.72 1.47 1.35L5.41 20z\"/>\n",
              "  </svg>\n",
              "      </button>\n",
              "      \n",
              "  <style>\n",
              "    .colab-df-container {\n",
              "      display:flex;\n",
              "      flex-wrap:wrap;\n",
              "      gap: 12px;\n",
              "    }\n",
              "\n",
              "    .colab-df-convert {\n",
              "      background-color: #E8F0FE;\n",
              "      border: none;\n",
              "      border-radius: 50%;\n",
              "      cursor: pointer;\n",
              "      display: none;\n",
              "      fill: #1967D2;\n",
              "      height: 32px;\n",
              "      padding: 0 0 0 0;\n",
              "      width: 32px;\n",
              "    }\n",
              "\n",
              "    .colab-df-convert:hover {\n",
              "      background-color: #E2EBFA;\n",
              "      box-shadow: 0px 1px 2px rgba(60, 64, 67, 0.3), 0px 1px 3px 1px rgba(60, 64, 67, 0.15);\n",
              "      fill: #174EA6;\n",
              "    }\n",
              "\n",
              "    [theme=dark] .colab-df-convert {\n",
              "      background-color: #3B4455;\n",
              "      fill: #D2E3FC;\n",
              "    }\n",
              "\n",
              "    [theme=dark] .colab-df-convert:hover {\n",
              "      background-color: #434B5C;\n",
              "      box-shadow: 0px 1px 3px 1px rgba(0, 0, 0, 0.15);\n",
              "      filter: drop-shadow(0px 1px 2px rgba(0, 0, 0, 0.3));\n",
              "      fill: #FFFFFF;\n",
              "    }\n",
              "  </style>\n",
              "\n",
              "      <script>\n",
              "        const buttonEl =\n",
              "          document.querySelector('#df-0779c089-66a0-42ec-9321-bc54f5b7bbb6 button.colab-df-convert');\n",
              "        buttonEl.style.display =\n",
              "          google.colab.kernel.accessAllowed ? 'block' : 'none';\n",
              "\n",
              "        async function convertToInteractive(key) {\n",
              "          const element = document.querySelector('#df-0779c089-66a0-42ec-9321-bc54f5b7bbb6');\n",
              "          const dataTable =\n",
              "            await google.colab.kernel.invokeFunction('convertToInteractive',\n",
              "                                                     [key], {});\n",
              "          if (!dataTable) return;\n",
              "\n",
              "          const docLinkHtml = 'Like what you see? Visit the ' +\n",
              "            '<a target=\"_blank\" href=https://colab.research.google.com/notebooks/data_table.ipynb>data table notebook</a>'\n",
              "            + ' to learn more about interactive tables.';\n",
              "          element.innerHTML = '';\n",
              "          dataTable['output_type'] = 'display_data';\n",
              "          await google.colab.output.renderOutput(dataTable, element);\n",
              "          const docLink = document.createElement('div');\n",
              "          docLink.innerHTML = docLinkHtml;\n",
              "          element.appendChild(docLink);\n",
              "        }\n",
              "      </script>\n",
              "    </div>\n",
              "  </div>\n",
              "  "
            ]
          },
          "metadata": {},
          "execution_count": 97
        }
      ]
    },
    {
      "cell_type": "markdown",
      "source": [
        "Combine multiple transformations in a single object using [`ColumnTransformer`](https://scikit-learn.org/stable/modules/generated/sklearn.compose.ColumnTransformer.html)."
      ],
      "metadata": {
        "id": "MJeMUTK_GUlx"
      }
    },
    {
      "cell_type": "code",
      "source": [
        "ct = ColumnTransformer([\n",
        "        ('st_scale_num', StandardScaler(), ['Lot_Area']),\n",
        "        (\"nom\", OneHotEncoder(sparse_output = False), ['MS_Zoning']),\n",
        "    ], \n",
        "    verbose_feature_names_out = True,\n",
        "    remainder = 'passthrough')\n",
        "\n",
        "ct.fit(X_train_sub)  # fit the StandardScaler and OneHotEncoder "
      ],
      "metadata": {
        "colab": {
          "base_uri": "https://localhost:8080/",
          "height": 117
        },
        "id": "kUlWb1yecV_v",
        "outputId": "b7a0be62-11d1-48a9-e9e7-87541c1e1cbe"
      },
      "execution_count": null,
      "outputs": [
        {
          "output_type": "execute_result",
          "data": {
            "text/plain": [
              "ColumnTransformer(remainder='passthrough',\n",
              "                  transformers=[('st_scale_num', StandardScaler(),\n",
              "                                 ['Lot_Area']),\n",
              "                                ('nom', OneHotEncoder(sparse_output=False),\n",
              "                                 ['MS_Zoning'])])"
            ],
            "text/html": [
              "<style>#sk-container-id-4 {color: black;background-color: white;}#sk-container-id-4 pre{padding: 0;}#sk-container-id-4 div.sk-toggleable {background-color: white;}#sk-container-id-4 label.sk-toggleable__label {cursor: pointer;display: block;width: 100%;margin-bottom: 0;padding: 0.3em;box-sizing: border-box;text-align: center;}#sk-container-id-4 label.sk-toggleable__label-arrow:before {content: \"▸\";float: left;margin-right: 0.25em;color: #696969;}#sk-container-id-4 label.sk-toggleable__label-arrow:hover:before {color: black;}#sk-container-id-4 div.sk-estimator:hover label.sk-toggleable__label-arrow:before {color: black;}#sk-container-id-4 div.sk-toggleable__content {max-height: 0;max-width: 0;overflow: hidden;text-align: left;background-color: #f0f8ff;}#sk-container-id-4 div.sk-toggleable__content pre {margin: 0.2em;color: black;border-radius: 0.25em;background-color: #f0f8ff;}#sk-container-id-4 input.sk-toggleable__control:checked~div.sk-toggleable__content {max-height: 200px;max-width: 100%;overflow: auto;}#sk-container-id-4 input.sk-toggleable__control:checked~label.sk-toggleable__label-arrow:before {content: \"▾\";}#sk-container-id-4 div.sk-estimator input.sk-toggleable__control:checked~label.sk-toggleable__label {background-color: #d4ebff;}#sk-container-id-4 div.sk-label input.sk-toggleable__control:checked~label.sk-toggleable__label {background-color: #d4ebff;}#sk-container-id-4 input.sk-hidden--visually {border: 0;clip: rect(1px 1px 1px 1px);clip: rect(1px, 1px, 1px, 1px);height: 1px;margin: -1px;overflow: hidden;padding: 0;position: absolute;width: 1px;}#sk-container-id-4 div.sk-estimator {font-family: monospace;background-color: #f0f8ff;border: 1px dotted black;border-radius: 0.25em;box-sizing: border-box;margin-bottom: 0.5em;}#sk-container-id-4 div.sk-estimator:hover {background-color: #d4ebff;}#sk-container-id-4 div.sk-parallel-item::after {content: \"\";width: 100%;border-bottom: 1px solid gray;flex-grow: 1;}#sk-container-id-4 div.sk-label:hover label.sk-toggleable__label {background-color: #d4ebff;}#sk-container-id-4 div.sk-serial::before {content: \"\";position: absolute;border-left: 1px solid gray;box-sizing: border-box;top: 0;bottom: 0;left: 50%;z-index: 0;}#sk-container-id-4 div.sk-serial {display: flex;flex-direction: column;align-items: center;background-color: white;padding-right: 0.2em;padding-left: 0.2em;position: relative;}#sk-container-id-4 div.sk-item {position: relative;z-index: 1;}#sk-container-id-4 div.sk-parallel {display: flex;align-items: stretch;justify-content: center;background-color: white;position: relative;}#sk-container-id-4 div.sk-item::before, #sk-container-id-4 div.sk-parallel-item::before {content: \"\";position: absolute;border-left: 1px solid gray;box-sizing: border-box;top: 0;bottom: 0;left: 50%;z-index: -1;}#sk-container-id-4 div.sk-parallel-item {display: flex;flex-direction: column;z-index: 1;position: relative;background-color: white;}#sk-container-id-4 div.sk-parallel-item:first-child::after {align-self: flex-end;width: 50%;}#sk-container-id-4 div.sk-parallel-item:last-child::after {align-self: flex-start;width: 50%;}#sk-container-id-4 div.sk-parallel-item:only-child::after {width: 0;}#sk-container-id-4 div.sk-dashed-wrapped {border: 1px dashed gray;margin: 0 0.4em 0.5em 0.4em;box-sizing: border-box;padding-bottom: 0.4em;background-color: white;}#sk-container-id-4 div.sk-label label {font-family: monospace;font-weight: bold;display: inline-block;line-height: 1.2em;}#sk-container-id-4 div.sk-label-container {text-align: center;}#sk-container-id-4 div.sk-container {/* jupyter's `normalize.less` sets `[hidden] { display: none; }` but bootstrap.min.css set `[hidden] { display: none !important; }` so we also need the `!important` here to be able to override the default hidden behavior on the sphinx rendered scikit-learn.org. See: https://github.com/scikit-learn/scikit-learn/issues/21755 */display: inline-block !important;position: relative;}#sk-container-id-4 div.sk-text-repr-fallback {display: none;}</style><div id=\"sk-container-id-4\" class=\"sk-top-container\"><div class=\"sk-text-repr-fallback\"><pre>ColumnTransformer(remainder=&#x27;passthrough&#x27;,\n",
              "                  transformers=[(&#x27;st_scale_num&#x27;, StandardScaler(),\n",
              "                                 [&#x27;Lot_Area&#x27;]),\n",
              "                                (&#x27;nom&#x27;, OneHotEncoder(sparse_output=False),\n",
              "                                 [&#x27;MS_Zoning&#x27;])])</pre><b>In a Jupyter environment, please rerun this cell to show the HTML representation or trust the notebook. <br />On GitHub, the HTML representation is unable to render, please try loading this page with nbviewer.org.</b></div><div class=\"sk-container\" hidden><div class=\"sk-item sk-dashed-wrapped\"><div class=\"sk-label-container\"><div class=\"sk-label sk-toggleable\"><input class=\"sk-toggleable__control sk-hidden--visually\" id=\"sk-estimator-id-10\" type=\"checkbox\" ><label for=\"sk-estimator-id-10\" class=\"sk-toggleable__label sk-toggleable__label-arrow\">ColumnTransformer</label><div class=\"sk-toggleable__content\"><pre>ColumnTransformer(remainder=&#x27;passthrough&#x27;,\n",
              "                  transformers=[(&#x27;st_scale_num&#x27;, StandardScaler(),\n",
              "                                 [&#x27;Lot_Area&#x27;]),\n",
              "                                (&#x27;nom&#x27;, OneHotEncoder(sparse_output=False),\n",
              "                                 [&#x27;MS_Zoning&#x27;])])</pre></div></div></div><div class=\"sk-parallel\"><div class=\"sk-parallel-item\"><div class=\"sk-item\"><div class=\"sk-label-container\"><div class=\"sk-label sk-toggleable\"><input class=\"sk-toggleable__control sk-hidden--visually\" id=\"sk-estimator-id-11\" type=\"checkbox\" ><label for=\"sk-estimator-id-11\" class=\"sk-toggleable__label sk-toggleable__label-arrow\">st_scale_num</label><div class=\"sk-toggleable__content\"><pre>[&#x27;Lot_Area&#x27;]</pre></div></div></div><div class=\"sk-serial\"><div class=\"sk-item\"><div class=\"sk-estimator sk-toggleable\"><input class=\"sk-toggleable__control sk-hidden--visually\" id=\"sk-estimator-id-12\" type=\"checkbox\" ><label for=\"sk-estimator-id-12\" class=\"sk-toggleable__label sk-toggleable__label-arrow\">StandardScaler</label><div class=\"sk-toggleable__content\"><pre>StandardScaler()</pre></div></div></div></div></div></div><div class=\"sk-parallel-item\"><div class=\"sk-item\"><div class=\"sk-label-container\"><div class=\"sk-label sk-toggleable\"><input class=\"sk-toggleable__control sk-hidden--visually\" id=\"sk-estimator-id-13\" type=\"checkbox\" ><label for=\"sk-estimator-id-13\" class=\"sk-toggleable__label sk-toggleable__label-arrow\">nom</label><div class=\"sk-toggleable__content\"><pre>[&#x27;MS_Zoning&#x27;]</pre></div></div></div><div class=\"sk-serial\"><div class=\"sk-item\"><div class=\"sk-estimator sk-toggleable\"><input class=\"sk-toggleable__control sk-hidden--visually\" id=\"sk-estimator-id-14\" type=\"checkbox\" ><label for=\"sk-estimator-id-14\" class=\"sk-toggleable__label sk-toggleable__label-arrow\">OneHotEncoder</label><div class=\"sk-toggleable__content\"><pre>OneHotEncoder(sparse_output=False)</pre></div></div></div></div></div></div><div class=\"sk-parallel-item\"><div class=\"sk-item\"><div class=\"sk-label-container\"><div class=\"sk-label sk-toggleable\"><input class=\"sk-toggleable__control sk-hidden--visually\" id=\"sk-estimator-id-15\" type=\"checkbox\" ><label for=\"sk-estimator-id-15\" class=\"sk-toggleable__label sk-toggleable__label-arrow\">remainder</label><div class=\"sk-toggleable__content\"><pre>[]</pre></div></div></div><div class=\"sk-serial\"><div class=\"sk-item\"><div class=\"sk-estimator sk-toggleable\"><input class=\"sk-toggleable__control sk-hidden--visually\" id=\"sk-estimator-id-16\" type=\"checkbox\" ><label for=\"sk-estimator-id-16\" class=\"sk-toggleable__label sk-toggleable__label-arrow\">passthrough</label><div class=\"sk-toggleable__content\"><pre>passthrough</pre></div></div></div></div></div></div></div></div></div></div>"
            ]
          },
          "metadata": {},
          "execution_count": 102
        }
      ]
    },
    {
      "cell_type": "code",
      "source": [
        "ct.transform(X_train_sub) # use the fitted encoder to transform X_train_sub"
      ],
      "metadata": {
        "colab": {
          "base_uri": "https://localhost:8080/"
        },
        "id": "fRfhdZvggCCX",
        "outputId": "26977cdb-1237-4f36-9253-e25048a0dee1"
      },
      "execution_count": null,
      "outputs": [
        {
          "output_type": "execute_result",
          "data": {
            "text/plain": [
              "array([[ 0.63630861,  0.        ,  0.        , ...,  0.        ,\n",
              "         1.        ,  0.        ],\n",
              "       [-0.35008421,  0.        ,  0.        , ...,  0.        ,\n",
              "         0.        ,  1.        ],\n",
              "       [ 1.38086572,  0.        ,  0.        , ...,  0.        ,\n",
              "         1.        ,  0.        ],\n",
              "       ...,\n",
              "       [-0.76299859,  0.        ,  0.        , ...,  0.        ,\n",
              "         0.        ,  1.        ],\n",
              "       [-0.46327075,  0.        ,  0.        , ...,  0.        ,\n",
              "         1.        ,  0.        ],\n",
              "       [ 1.41772866,  0.        ,  0.        , ...,  0.        ,\n",
              "         1.        ,  0.        ]])"
            ]
          },
          "metadata": {},
          "execution_count": 103
        }
      ]
    },
    {
      "cell_type": "code",
      "source": [
        "ct.transform(X_test_sub) # use the fitted encoder to transform X_test_sub"
      ],
      "metadata": {
        "colab": {
          "base_uri": "https://localhost:8080/"
        },
        "id": "5LqdXl-udDyA",
        "outputId": "7bfd21dc-38a4-4b98-f553-1e8302076868"
      },
      "execution_count": null,
      "outputs": [
        {
          "output_type": "execute_result",
          "data": {
            "text/plain": [
              "array([[-0.19768442,  0.        ,  0.        , ...,  0.        ,\n",
              "         0.        ,  1.        ],\n",
              "       [ 0.4059771 ,  0.        ,  0.        , ...,  0.        ,\n",
              "         1.        ,  0.        ],\n",
              "       [-0.01868888,  0.        ,  0.        , ...,  0.        ,\n",
              "         1.        ,  0.        ],\n",
              "       ...,\n",
              "       [ 0.51767922,  0.        ,  0.        , ...,  0.        ,\n",
              "         1.        ,  0.        ],\n",
              "       [ 0.16822353,  0.        ,  0.        , ...,  0.        ,\n",
              "         1.        ,  0.        ],\n",
              "       [ 0.43974751,  0.        ,  0.        , ...,  0.        ,\n",
              "         1.        ,  0.        ]])"
            ]
          },
          "metadata": {},
          "execution_count": 100
        }
      ]
    },
    {
      "cell_type": "code",
      "source": [
        "ct.transform(X_train_sub).__class__"
      ],
      "metadata": {
        "colab": {
          "base_uri": "https://localhost:8080/"
        },
        "id": "qcq8THhYINBx",
        "outputId": "a9143ad6-4236-4b6f-c452-b56a854e4fa8"
      },
      "execution_count": null,
      "outputs": [
        {
          "output_type": "execute_result",
          "data": {
            "text/plain": [
              "numpy.ndarray"
            ]
          },
          "metadata": {},
          "execution_count": 105
        }
      ]
    },
    {
      "cell_type": "markdown",
      "source": [
        "The returned object is a `numpy.ndarray` instead of a `Pandas DataFrame`. As a result there are no column names. These column names can be retrieved from the trained `ColumnTransformer`."
      ],
      "metadata": {
        "id": "7qeBWQ0rIMc6"
      }
    },
    {
      "cell_type": "code",
      "source": [
        "ct.get_feature_names_out()"
      ],
      "metadata": {
        "colab": {
          "base_uri": "https://localhost:8080/"
        },
        "id": "SOpHCyupHs2a",
        "outputId": "64f95f6e-56c9-49c8-f7c1-5fb3fda49e94"
      },
      "execution_count": null,
      "outputs": [
        {
          "output_type": "execute_result",
          "data": {
            "text/plain": [
              "array(['st_scale_num__Lot_Area', 'nom__MS_Zoning_A_agr',\n",
              "       'nom__MS_Zoning_C_all',\n",
              "       'nom__MS_Zoning_Floating_Village_Residential',\n",
              "       'nom__MS_Zoning_I_all', 'nom__MS_Zoning_Residential_High_Density',\n",
              "       'nom__MS_Zoning_Residential_Low_Density',\n",
              "       'nom__MS_Zoning_Residential_Medium_Density'], dtype=object)"
            ]
          },
          "metadata": {},
          "execution_count": 106
        }
      ]
    },
    {
      "cell_type": "code",
      "source": [
        "X_train_sub_transforemd = pd.DataFrame(ct.transform(X_train_sub),\n",
        "                                       columns = ct.get_feature_names_out())\n",
        "X_train_sub_transforemd.head()"
      ],
      "metadata": {
        "colab": {
          "base_uri": "https://localhost:8080/",
          "height": 270
        },
        "id": "hpidp7mvIlGB",
        "outputId": "f6aa4f69-b511-4615-d3b4-6e1ef71bbd4a"
      },
      "execution_count": null,
      "outputs": [
        {
          "output_type": "execute_result",
          "data": {
            "text/plain": [
              "   st_scale_num__Lot_Area  nom__MS_Zoning_A_agr  nom__MS_Zoning_C_all  \\\n",
              "0                0.636309                   0.0                   0.0   \n",
              "1               -0.350084                   0.0                   0.0   \n",
              "2                1.380866                   0.0                   0.0   \n",
              "3               -0.360970                   0.0                   0.0   \n",
              "4               -0.014607                   0.0                   0.0   \n",
              "\n",
              "   nom__MS_Zoning_Floating_Village_Residential  nom__MS_Zoning_I_all  \\\n",
              "0                                          0.0                   0.0   \n",
              "1                                          0.0                   0.0   \n",
              "2                                          0.0                   0.0   \n",
              "3                                          0.0                   0.0   \n",
              "4                                          0.0                   0.0   \n",
              "\n",
              "   nom__MS_Zoning_Residential_High_Density  \\\n",
              "0                                      0.0   \n",
              "1                                      0.0   \n",
              "2                                      0.0   \n",
              "3                                      0.0   \n",
              "4                                      0.0   \n",
              "\n",
              "   nom__MS_Zoning_Residential_Low_Density  \\\n",
              "0                                     1.0   \n",
              "1                                     0.0   \n",
              "2                                     1.0   \n",
              "3                                     0.0   \n",
              "4                                     1.0   \n",
              "\n",
              "   nom__MS_Zoning_Residential_Medium_Density  \n",
              "0                                        0.0  \n",
              "1                                        1.0  \n",
              "2                                        0.0  \n",
              "3                                        1.0  \n",
              "4                                        0.0  "
            ],
            "text/html": [
              "\n",
              "  <div id=\"df-29305ff5-1d9e-4cf4-a688-f666c638fe59\">\n",
              "    <div class=\"colab-df-container\">\n",
              "      <div>\n",
              "<style scoped>\n",
              "    .dataframe tbody tr th:only-of-type {\n",
              "        vertical-align: middle;\n",
              "    }\n",
              "\n",
              "    .dataframe tbody tr th {\n",
              "        vertical-align: top;\n",
              "    }\n",
              "\n",
              "    .dataframe thead th {\n",
              "        text-align: right;\n",
              "    }\n",
              "</style>\n",
              "<table border=\"1\" class=\"dataframe\">\n",
              "  <thead>\n",
              "    <tr style=\"text-align: right;\">\n",
              "      <th></th>\n",
              "      <th>st_scale_num__Lot_Area</th>\n",
              "      <th>nom__MS_Zoning_A_agr</th>\n",
              "      <th>nom__MS_Zoning_C_all</th>\n",
              "      <th>nom__MS_Zoning_Floating_Village_Residential</th>\n",
              "      <th>nom__MS_Zoning_I_all</th>\n",
              "      <th>nom__MS_Zoning_Residential_High_Density</th>\n",
              "      <th>nom__MS_Zoning_Residential_Low_Density</th>\n",
              "      <th>nom__MS_Zoning_Residential_Medium_Density</th>\n",
              "    </tr>\n",
              "  </thead>\n",
              "  <tbody>\n",
              "    <tr>\n",
              "      <th>0</th>\n",
              "      <td>0.636309</td>\n",
              "      <td>0.0</td>\n",
              "      <td>0.0</td>\n",
              "      <td>0.0</td>\n",
              "      <td>0.0</td>\n",
              "      <td>0.0</td>\n",
              "      <td>1.0</td>\n",
              "      <td>0.0</td>\n",
              "    </tr>\n",
              "    <tr>\n",
              "      <th>1</th>\n",
              "      <td>-0.350084</td>\n",
              "      <td>0.0</td>\n",
              "      <td>0.0</td>\n",
              "      <td>0.0</td>\n",
              "      <td>0.0</td>\n",
              "      <td>0.0</td>\n",
              "      <td>0.0</td>\n",
              "      <td>1.0</td>\n",
              "    </tr>\n",
              "    <tr>\n",
              "      <th>2</th>\n",
              "      <td>1.380866</td>\n",
              "      <td>0.0</td>\n",
              "      <td>0.0</td>\n",
              "      <td>0.0</td>\n",
              "      <td>0.0</td>\n",
              "      <td>0.0</td>\n",
              "      <td>1.0</td>\n",
              "      <td>0.0</td>\n",
              "    </tr>\n",
              "    <tr>\n",
              "      <th>3</th>\n",
              "      <td>-0.360970</td>\n",
              "      <td>0.0</td>\n",
              "      <td>0.0</td>\n",
              "      <td>0.0</td>\n",
              "      <td>0.0</td>\n",
              "      <td>0.0</td>\n",
              "      <td>0.0</td>\n",
              "      <td>1.0</td>\n",
              "    </tr>\n",
              "    <tr>\n",
              "      <th>4</th>\n",
              "      <td>-0.014607</td>\n",
              "      <td>0.0</td>\n",
              "      <td>0.0</td>\n",
              "      <td>0.0</td>\n",
              "      <td>0.0</td>\n",
              "      <td>0.0</td>\n",
              "      <td>1.0</td>\n",
              "      <td>0.0</td>\n",
              "    </tr>\n",
              "  </tbody>\n",
              "</table>\n",
              "</div>\n",
              "      <button class=\"colab-df-convert\" onclick=\"convertToInteractive('df-29305ff5-1d9e-4cf4-a688-f666c638fe59')\"\n",
              "              title=\"Convert this dataframe to an interactive table.\"\n",
              "              style=\"display:none;\">\n",
              "        \n",
              "  <svg xmlns=\"http://www.w3.org/2000/svg\" height=\"24px\"viewBox=\"0 0 24 24\"\n",
              "       width=\"24px\">\n",
              "    <path d=\"M0 0h24v24H0V0z\" fill=\"none\"/>\n",
              "    <path d=\"M18.56 5.44l.94 2.06.94-2.06 2.06-.94-2.06-.94-.94-2.06-.94 2.06-2.06.94zm-11 1L8.5 8.5l.94-2.06 2.06-.94-2.06-.94L8.5 2.5l-.94 2.06-2.06.94zm10 10l.94 2.06.94-2.06 2.06-.94-2.06-.94-.94-2.06-.94 2.06-2.06.94z\"/><path d=\"M17.41 7.96l-1.37-1.37c-.4-.4-.92-.59-1.43-.59-.52 0-1.04.2-1.43.59L10.3 9.45l-7.72 7.72c-.78.78-.78 2.05 0 2.83L4 21.41c.39.39.9.59 1.41.59.51 0 1.02-.2 1.41-.59l7.78-7.78 2.81-2.81c.8-.78.8-2.07 0-2.86zM5.41 20L4 18.59l7.72-7.72 1.47 1.35L5.41 20z\"/>\n",
              "  </svg>\n",
              "      </button>\n",
              "      \n",
              "  <style>\n",
              "    .colab-df-container {\n",
              "      display:flex;\n",
              "      flex-wrap:wrap;\n",
              "      gap: 12px;\n",
              "    }\n",
              "\n",
              "    .colab-df-convert {\n",
              "      background-color: #E8F0FE;\n",
              "      border: none;\n",
              "      border-radius: 50%;\n",
              "      cursor: pointer;\n",
              "      display: none;\n",
              "      fill: #1967D2;\n",
              "      height: 32px;\n",
              "      padding: 0 0 0 0;\n",
              "      width: 32px;\n",
              "    }\n",
              "\n",
              "    .colab-df-convert:hover {\n",
              "      background-color: #E2EBFA;\n",
              "      box-shadow: 0px 1px 2px rgba(60, 64, 67, 0.3), 0px 1px 3px 1px rgba(60, 64, 67, 0.15);\n",
              "      fill: #174EA6;\n",
              "    }\n",
              "\n",
              "    [theme=dark] .colab-df-convert {\n",
              "      background-color: #3B4455;\n",
              "      fill: #D2E3FC;\n",
              "    }\n",
              "\n",
              "    [theme=dark] .colab-df-convert:hover {\n",
              "      background-color: #434B5C;\n",
              "      box-shadow: 0px 1px 3px 1px rgba(0, 0, 0, 0.15);\n",
              "      filter: drop-shadow(0px 1px 2px rgba(0, 0, 0, 0.3));\n",
              "      fill: #FFFFFF;\n",
              "    }\n",
              "  </style>\n",
              "\n",
              "      <script>\n",
              "        const buttonEl =\n",
              "          document.querySelector('#df-29305ff5-1d9e-4cf4-a688-f666c638fe59 button.colab-df-convert');\n",
              "        buttonEl.style.display =\n",
              "          google.colab.kernel.accessAllowed ? 'block' : 'none';\n",
              "\n",
              "        async function convertToInteractive(key) {\n",
              "          const element = document.querySelector('#df-29305ff5-1d9e-4cf4-a688-f666c638fe59');\n",
              "          const dataTable =\n",
              "            await google.colab.kernel.invokeFunction('convertToInteractive',\n",
              "                                                     [key], {});\n",
              "          if (!dataTable) return;\n",
              "\n",
              "          const docLinkHtml = 'Like what you see? Visit the ' +\n",
              "            '<a target=\"_blank\" href=https://colab.research.google.com/notebooks/data_table.ipynb>data table notebook</a>'\n",
              "            + ' to learn more about interactive tables.';\n",
              "          element.innerHTML = '';\n",
              "          dataTable['output_type'] = 'display_data';\n",
              "          await google.colab.output.renderOutput(dataTable, element);\n",
              "          const docLink = document.createElement('div');\n",
              "          docLink.innerHTML = docLinkHtml;\n",
              "          element.appendChild(docLink);\n",
              "        }\n",
              "      </script>\n",
              "    </div>\n",
              "  </div>\n",
              "  "
            ]
          },
          "metadata": {},
          "execution_count": 108
        }
      ]
    },
    {
      "cell_type": "markdown",
      "source": [
        "## 4.3 Putting it all together: tuning and preprocessing via pipelines <a name=\"four-three\"></a>"
      ],
      "metadata": {
        "id": "UJ6A2TknMuU_"
      }
    },
    {
      "cell_type": "markdown",
      "source": [
        "We return to the toy data set generated to demonstrate KNN regression in Section 3.3."
      ],
      "metadata": {
        "id": "OwwMhtELzcAO"
      }
    },
    {
      "cell_type": "code",
      "source": [
        "import math \n",
        "import random\n",
        "X = np.arange(0, 2* math.pi, 2*math.pi/500)\n",
        "\n",
        "y = np.sin(X) + np.random.normal(size = X.size, scale = 0.3)\n",
        "\n",
        "# reshuffle\n",
        "from sklearn.utils import shuffle\n",
        "X, y = shuffle(X, y, random_state=0)\n",
        "\n",
        "# reshape X as a matrix with 1 column\n",
        "X_ = X.reshape(-1, 1) # use reshape from numpy"
      ],
      "metadata": {
        "id": "7KY7vSMLzgOC"
      },
      "execution_count": null,
      "outputs": []
    },
    {
      "cell_type": "code",
      "source": [
        "frame = { 'input': X, 'output': y}\n",
        "toy = pd.DataFrame(frame)"
      ],
      "metadata": {
        "id": "RaIPAnHOz7XE"
      },
      "execution_count": null,
      "outputs": []
    },
    {
      "cell_type": "code",
      "source": [
        "toy"
      ],
      "metadata": {
        "colab": {
          "base_uri": "https://localhost:8080/",
          "height": 423
        },
        "id": "vOywUmer0ITr",
        "outputId": "1cbbf129-7db7-4e59-fb49-a7fe43976d09"
      },
      "execution_count": null,
      "outputs": [
        {
          "output_type": "execute_result",
          "data": {
            "text/plain": [
              "        input    output\n",
              "0    1.130973  0.636847\n",
              "1    3.191858  0.636598\n",
              "2    3.556283 -0.263110\n",
              "3    5.592035 -0.530978\n",
              "4    5.793097 -0.110970\n",
              "..        ...       ...\n",
              "495  4.058938 -0.824853\n",
              "496  2.412743  1.042022\n",
              "497  1.470265  1.304532\n",
              "498  0.590619  0.165586\n",
              "499  2.161416  0.745332\n",
              "\n",
              "[500 rows x 2 columns]"
            ],
            "text/html": [
              "\n",
              "  <div id=\"df-230f9ce6-71dc-47c7-ae6b-cd466a133d5f\">\n",
              "    <div class=\"colab-df-container\">\n",
              "      <div>\n",
              "<style scoped>\n",
              "    .dataframe tbody tr th:only-of-type {\n",
              "        vertical-align: middle;\n",
              "    }\n",
              "\n",
              "    .dataframe tbody tr th {\n",
              "        vertical-align: top;\n",
              "    }\n",
              "\n",
              "    .dataframe thead th {\n",
              "        text-align: right;\n",
              "    }\n",
              "</style>\n",
              "<table border=\"1\" class=\"dataframe\">\n",
              "  <thead>\n",
              "    <tr style=\"text-align: right;\">\n",
              "      <th></th>\n",
              "      <th>input</th>\n",
              "      <th>output</th>\n",
              "    </tr>\n",
              "  </thead>\n",
              "  <tbody>\n",
              "    <tr>\n",
              "      <th>0</th>\n",
              "      <td>1.130973</td>\n",
              "      <td>0.636847</td>\n",
              "    </tr>\n",
              "    <tr>\n",
              "      <th>1</th>\n",
              "      <td>3.191858</td>\n",
              "      <td>0.636598</td>\n",
              "    </tr>\n",
              "    <tr>\n",
              "      <th>2</th>\n",
              "      <td>3.556283</td>\n",
              "      <td>-0.263110</td>\n",
              "    </tr>\n",
              "    <tr>\n",
              "      <th>3</th>\n",
              "      <td>5.592035</td>\n",
              "      <td>-0.530978</td>\n",
              "    </tr>\n",
              "    <tr>\n",
              "      <th>4</th>\n",
              "      <td>5.793097</td>\n",
              "      <td>-0.110970</td>\n",
              "    </tr>\n",
              "    <tr>\n",
              "      <th>...</th>\n",
              "      <td>...</td>\n",
              "      <td>...</td>\n",
              "    </tr>\n",
              "    <tr>\n",
              "      <th>495</th>\n",
              "      <td>4.058938</td>\n",
              "      <td>-0.824853</td>\n",
              "    </tr>\n",
              "    <tr>\n",
              "      <th>496</th>\n",
              "      <td>2.412743</td>\n",
              "      <td>1.042022</td>\n",
              "    </tr>\n",
              "    <tr>\n",
              "      <th>497</th>\n",
              "      <td>1.470265</td>\n",
              "      <td>1.304532</td>\n",
              "    </tr>\n",
              "    <tr>\n",
              "      <th>498</th>\n",
              "      <td>0.590619</td>\n",
              "      <td>0.165586</td>\n",
              "    </tr>\n",
              "    <tr>\n",
              "      <th>499</th>\n",
              "      <td>2.161416</td>\n",
              "      <td>0.745332</td>\n",
              "    </tr>\n",
              "  </tbody>\n",
              "</table>\n",
              "<p>500 rows × 2 columns</p>\n",
              "</div>\n",
              "      <button class=\"colab-df-convert\" onclick=\"convertToInteractive('df-230f9ce6-71dc-47c7-ae6b-cd466a133d5f')\"\n",
              "              title=\"Convert this dataframe to an interactive table.\"\n",
              "              style=\"display:none;\">\n",
              "        \n",
              "  <svg xmlns=\"http://www.w3.org/2000/svg\" height=\"24px\"viewBox=\"0 0 24 24\"\n",
              "       width=\"24px\">\n",
              "    <path d=\"M0 0h24v24H0V0z\" fill=\"none\"/>\n",
              "    <path d=\"M18.56 5.44l.94 2.06.94-2.06 2.06-.94-2.06-.94-.94-2.06-.94 2.06-2.06.94zm-11 1L8.5 8.5l.94-2.06 2.06-.94-2.06-.94L8.5 2.5l-.94 2.06-2.06.94zm10 10l.94 2.06.94-2.06 2.06-.94-2.06-.94-.94-2.06-.94 2.06-2.06.94z\"/><path d=\"M17.41 7.96l-1.37-1.37c-.4-.4-.92-.59-1.43-.59-.52 0-1.04.2-1.43.59L10.3 9.45l-7.72 7.72c-.78.78-.78 2.05 0 2.83L4 21.41c.39.39.9.59 1.41.59.51 0 1.02-.2 1.41-.59l7.78-7.78 2.81-2.81c.8-.78.8-2.07 0-2.86zM5.41 20L4 18.59l7.72-7.72 1.47 1.35L5.41 20z\"/>\n",
              "  </svg>\n",
              "      </button>\n",
              "      \n",
              "  <style>\n",
              "    .colab-df-container {\n",
              "      display:flex;\n",
              "      flex-wrap:wrap;\n",
              "      gap: 12px;\n",
              "    }\n",
              "\n",
              "    .colab-df-convert {\n",
              "      background-color: #E8F0FE;\n",
              "      border: none;\n",
              "      border-radius: 50%;\n",
              "      cursor: pointer;\n",
              "      display: none;\n",
              "      fill: #1967D2;\n",
              "      height: 32px;\n",
              "      padding: 0 0 0 0;\n",
              "      width: 32px;\n",
              "    }\n",
              "\n",
              "    .colab-df-convert:hover {\n",
              "      background-color: #E2EBFA;\n",
              "      box-shadow: 0px 1px 2px rgba(60, 64, 67, 0.3), 0px 1px 3px 1px rgba(60, 64, 67, 0.15);\n",
              "      fill: #174EA6;\n",
              "    }\n",
              "\n",
              "    [theme=dark] .colab-df-convert {\n",
              "      background-color: #3B4455;\n",
              "      fill: #D2E3FC;\n",
              "    }\n",
              "\n",
              "    [theme=dark] .colab-df-convert:hover {\n",
              "      background-color: #434B5C;\n",
              "      box-shadow: 0px 1px 3px 1px rgba(0, 0, 0, 0.15);\n",
              "      filter: drop-shadow(0px 1px 2px rgba(0, 0, 0, 0.3));\n",
              "      fill: #FFFFFF;\n",
              "    }\n",
              "  </style>\n",
              "\n",
              "      <script>\n",
              "        const buttonEl =\n",
              "          document.querySelector('#df-230f9ce6-71dc-47c7-ae6b-cd466a133d5f button.colab-df-convert');\n",
              "        buttonEl.style.display =\n",
              "          google.colab.kernel.accessAllowed ? 'block' : 'none';\n",
              "\n",
              "        async function convertToInteractive(key) {\n",
              "          const element = document.querySelector('#df-230f9ce6-71dc-47c7-ae6b-cd466a133d5f');\n",
              "          const dataTable =\n",
              "            await google.colab.kernel.invokeFunction('convertToInteractive',\n",
              "                                                     [key], {});\n",
              "          if (!dataTable) return;\n",
              "\n",
              "          const docLinkHtml = 'Like what you see? Visit the ' +\n",
              "            '<a target=\"_blank\" href=https://colab.research.google.com/notebooks/data_table.ipynb>data table notebook</a>'\n",
              "            + ' to learn more about interactive tables.';\n",
              "          element.innerHTML = '';\n",
              "          dataTable['output_type'] = 'display_data';\n",
              "          await google.colab.output.renderOutput(dataTable, element);\n",
              "          const docLink = document.createElement('div');\n",
              "          docLink.innerHTML = docLinkHtml;\n",
              "          element.appendChild(docLink);\n",
              "        }\n",
              "      </script>\n",
              "    </div>\n",
              "  </div>\n",
              "  "
            ]
          },
          "metadata": {},
          "execution_count": 111
        }
      ]
    },
    {
      "cell_type": "code",
      "source": [
        "toy_X = toy[['input']]"
      ],
      "metadata": {
        "id": "CqMWWjAPkA2O"
      },
      "execution_count": null,
      "outputs": []
    },
    {
      "cell_type": "code",
      "source": [
        "from sklearn.pipeline import Pipeline"
      ],
      "metadata": {
        "id": "QBqjcXVEI6vK"
      },
      "execution_count": null,
      "outputs": []
    },
    {
      "cell_type": "markdown",
      "source": [
        "The [`Pipeline`](https://scikit-learn.org/stable/modules/generated/sklearn.pipeline.Pipeline.html) class lets you combine multiple model steps into a single object. The first steps in the pipeline are transformations, while the final step has to be a model fit. "
      ],
      "metadata": {
        "id": "Xk82F8exJAMr"
      }
    },
    {
      "cell_type": "code",
      "source": [
        "scaler = StandardScaler()\n",
        "knn = KNeighborsRegressor()\n",
        "pipeline = Pipeline([('scaler', scaler), ('knn', knn)])"
      ],
      "metadata": {
        "id": "O5-FKNEnmuk3"
      },
      "execution_count": null,
      "outputs": []
    },
    {
      "cell_type": "code",
      "source": [
        "score = make_scorer(mean_squared_error, squared = False, greater_is_better = False)\n",
        "# set up the grid for the parameter tuning \n",
        "params = {\n",
        "    'knn__n_neighbors': np.arange(2, 150, 2)\n",
        "}"
      ],
      "metadata": {
        "id": "h-Uj2tjkjfgW"
      },
      "execution_count": null,
      "outputs": []
    },
    {
      "cell_type": "code",
      "source": [
        "gridsearch = GridSearchCV(\n",
        "    pipeline, \n",
        "    param_grid = params, \n",
        "    cv = 5, \n",
        "    scoring = score, \n",
        "    error_score = 'raise', \n",
        "    return_train_score = True)"
      ],
      "metadata": {
        "id": "SAe250w53Vw7"
      },
      "execution_count": null,
      "outputs": []
    },
    {
      "cell_type": "code",
      "source": [
        "gridsearch.fit(toy_X, y)"
      ],
      "metadata": {
        "colab": {
          "base_uri": "https://localhost:8080/",
          "height": 151
        },
        "id": "z5mrKVyIjlIQ",
        "outputId": "bf555440-c2de-4ad9-a85b-f267cb49d1fa"
      },
      "execution_count": null,
      "outputs": [
        {
          "output_type": "execute_result",
          "data": {
            "text/plain": [
              "GridSearchCV(cv=5, error_score='raise',\n",
              "             estimator=Pipeline(steps=[('scaler', StandardScaler()),\n",
              "                                       ('knn', KNeighborsRegressor())]),\n",
              "             param_grid={'knn__n_neighbors': array([  2,   4,   6,   8,  10,  12,  14,  16,  18,  20,  22,  24,  26,\n",
              "        28,  30,  32,  34,  36,  38,  40,  42,  44,  46,  48,  50,  52,\n",
              "        54,  56,  58,  60,  62,  64,  66,  68,  70,  72,  74,  76,  78,\n",
              "        80,  82,  84,  86,  88,  90,  92,  94,  96,  98, 100, 102, 104,\n",
              "       106, 108, 110, 112, 114, 116, 118, 120, 122, 124, 126, 128, 130,\n",
              "       132, 134, 136, 138, 140, 142, 144, 146, 148])},\n",
              "             return_train_score=True,\n",
              "             scoring=make_scorer(mean_squared_error, greater_is_better=False, squared=False))"
            ],
            "text/html": [
              "<style>#sk-container-id-5 {color: black;background-color: white;}#sk-container-id-5 pre{padding: 0;}#sk-container-id-5 div.sk-toggleable {background-color: white;}#sk-container-id-5 label.sk-toggleable__label {cursor: pointer;display: block;width: 100%;margin-bottom: 0;padding: 0.3em;box-sizing: border-box;text-align: center;}#sk-container-id-5 label.sk-toggleable__label-arrow:before {content: \"▸\";float: left;margin-right: 0.25em;color: #696969;}#sk-container-id-5 label.sk-toggleable__label-arrow:hover:before {color: black;}#sk-container-id-5 div.sk-estimator:hover label.sk-toggleable__label-arrow:before {color: black;}#sk-container-id-5 div.sk-toggleable__content {max-height: 0;max-width: 0;overflow: hidden;text-align: left;background-color: #f0f8ff;}#sk-container-id-5 div.sk-toggleable__content pre {margin: 0.2em;color: black;border-radius: 0.25em;background-color: #f0f8ff;}#sk-container-id-5 input.sk-toggleable__control:checked~div.sk-toggleable__content {max-height: 200px;max-width: 100%;overflow: auto;}#sk-container-id-5 input.sk-toggleable__control:checked~label.sk-toggleable__label-arrow:before {content: \"▾\";}#sk-container-id-5 div.sk-estimator input.sk-toggleable__control:checked~label.sk-toggleable__label {background-color: #d4ebff;}#sk-container-id-5 div.sk-label input.sk-toggleable__control:checked~label.sk-toggleable__label {background-color: #d4ebff;}#sk-container-id-5 input.sk-hidden--visually {border: 0;clip: rect(1px 1px 1px 1px);clip: rect(1px, 1px, 1px, 1px);height: 1px;margin: -1px;overflow: hidden;padding: 0;position: absolute;width: 1px;}#sk-container-id-5 div.sk-estimator {font-family: monospace;background-color: #f0f8ff;border: 1px dotted black;border-radius: 0.25em;box-sizing: border-box;margin-bottom: 0.5em;}#sk-container-id-5 div.sk-estimator:hover {background-color: #d4ebff;}#sk-container-id-5 div.sk-parallel-item::after {content: \"\";width: 100%;border-bottom: 1px solid gray;flex-grow: 1;}#sk-container-id-5 div.sk-label:hover label.sk-toggleable__label {background-color: #d4ebff;}#sk-container-id-5 div.sk-serial::before {content: \"\";position: absolute;border-left: 1px solid gray;box-sizing: border-box;top: 0;bottom: 0;left: 50%;z-index: 0;}#sk-container-id-5 div.sk-serial {display: flex;flex-direction: column;align-items: center;background-color: white;padding-right: 0.2em;padding-left: 0.2em;position: relative;}#sk-container-id-5 div.sk-item {position: relative;z-index: 1;}#sk-container-id-5 div.sk-parallel {display: flex;align-items: stretch;justify-content: center;background-color: white;position: relative;}#sk-container-id-5 div.sk-item::before, #sk-container-id-5 div.sk-parallel-item::before {content: \"\";position: absolute;border-left: 1px solid gray;box-sizing: border-box;top: 0;bottom: 0;left: 50%;z-index: -1;}#sk-container-id-5 div.sk-parallel-item {display: flex;flex-direction: column;z-index: 1;position: relative;background-color: white;}#sk-container-id-5 div.sk-parallel-item:first-child::after {align-self: flex-end;width: 50%;}#sk-container-id-5 div.sk-parallel-item:last-child::after {align-self: flex-start;width: 50%;}#sk-container-id-5 div.sk-parallel-item:only-child::after {width: 0;}#sk-container-id-5 div.sk-dashed-wrapped {border: 1px dashed gray;margin: 0 0.4em 0.5em 0.4em;box-sizing: border-box;padding-bottom: 0.4em;background-color: white;}#sk-container-id-5 div.sk-label label {font-family: monospace;font-weight: bold;display: inline-block;line-height: 1.2em;}#sk-container-id-5 div.sk-label-container {text-align: center;}#sk-container-id-5 div.sk-container {/* jupyter's `normalize.less` sets `[hidden] { display: none; }` but bootstrap.min.css set `[hidden] { display: none !important; }` so we also need the `!important` here to be able to override the default hidden behavior on the sphinx rendered scikit-learn.org. See: https://github.com/scikit-learn/scikit-learn/issues/21755 */display: inline-block !important;position: relative;}#sk-container-id-5 div.sk-text-repr-fallback {display: none;}</style><div id=\"sk-container-id-5\" class=\"sk-top-container\"><div class=\"sk-text-repr-fallback\"><pre>GridSearchCV(cv=5, error_score=&#x27;raise&#x27;,\n",
              "             estimator=Pipeline(steps=[(&#x27;scaler&#x27;, StandardScaler()),\n",
              "                                       (&#x27;knn&#x27;, KNeighborsRegressor())]),\n",
              "             param_grid={&#x27;knn__n_neighbors&#x27;: array([  2,   4,   6,   8,  10,  12,  14,  16,  18,  20,  22,  24,  26,\n",
              "        28,  30,  32,  34,  36,  38,  40,  42,  44,  46,  48,  50,  52,\n",
              "        54,  56,  58,  60,  62,  64,  66,  68,  70,  72,  74,  76,  78,\n",
              "        80,  82,  84,  86,  88,  90,  92,  94,  96,  98, 100, 102, 104,\n",
              "       106, 108, 110, 112, 114, 116, 118, 120, 122, 124, 126, 128, 130,\n",
              "       132, 134, 136, 138, 140, 142, 144, 146, 148])},\n",
              "             return_train_score=True,\n",
              "             scoring=make_scorer(mean_squared_error, greater_is_better=False, squared=False))</pre><b>In a Jupyter environment, please rerun this cell to show the HTML representation or trust the notebook. <br />On GitHub, the HTML representation is unable to render, please try loading this page with nbviewer.org.</b></div><div class=\"sk-container\" hidden><div class=\"sk-item sk-dashed-wrapped\"><div class=\"sk-label-container\"><div class=\"sk-label sk-toggleable\"><input class=\"sk-toggleable__control sk-hidden--visually\" id=\"sk-estimator-id-17\" type=\"checkbox\" ><label for=\"sk-estimator-id-17\" class=\"sk-toggleable__label sk-toggleable__label-arrow\">GridSearchCV</label><div class=\"sk-toggleable__content\"><pre>GridSearchCV(cv=5, error_score=&#x27;raise&#x27;,\n",
              "             estimator=Pipeline(steps=[(&#x27;scaler&#x27;, StandardScaler()),\n",
              "                                       (&#x27;knn&#x27;, KNeighborsRegressor())]),\n",
              "             param_grid={&#x27;knn__n_neighbors&#x27;: array([  2,   4,   6,   8,  10,  12,  14,  16,  18,  20,  22,  24,  26,\n",
              "        28,  30,  32,  34,  36,  38,  40,  42,  44,  46,  48,  50,  52,\n",
              "        54,  56,  58,  60,  62,  64,  66,  68,  70,  72,  74,  76,  78,\n",
              "        80,  82,  84,  86,  88,  90,  92,  94,  96,  98, 100, 102, 104,\n",
              "       106, 108, 110, 112, 114, 116, 118, 120, 122, 124, 126, 128, 130,\n",
              "       132, 134, 136, 138, 140, 142, 144, 146, 148])},\n",
              "             return_train_score=True,\n",
              "             scoring=make_scorer(mean_squared_error, greater_is_better=False, squared=False))</pre></div></div></div><div class=\"sk-parallel\"><div class=\"sk-parallel-item\"><div class=\"sk-item\"><div class=\"sk-label-container\"><div class=\"sk-label sk-toggleable\"><input class=\"sk-toggleable__control sk-hidden--visually\" id=\"sk-estimator-id-18\" type=\"checkbox\" ><label for=\"sk-estimator-id-18\" class=\"sk-toggleable__label sk-toggleable__label-arrow\">estimator: Pipeline</label><div class=\"sk-toggleable__content\"><pre>Pipeline(steps=[(&#x27;scaler&#x27;, StandardScaler()), (&#x27;knn&#x27;, KNeighborsRegressor())])</pre></div></div></div><div class=\"sk-serial\"><div class=\"sk-item\"><div class=\"sk-serial\"><div class=\"sk-item\"><div class=\"sk-estimator sk-toggleable\"><input class=\"sk-toggleable__control sk-hidden--visually\" id=\"sk-estimator-id-19\" type=\"checkbox\" ><label for=\"sk-estimator-id-19\" class=\"sk-toggleable__label sk-toggleable__label-arrow\">StandardScaler</label><div class=\"sk-toggleable__content\"><pre>StandardScaler()</pre></div></div></div><div class=\"sk-item\"><div class=\"sk-estimator sk-toggleable\"><input class=\"sk-toggleable__control sk-hidden--visually\" id=\"sk-estimator-id-20\" type=\"checkbox\" ><label for=\"sk-estimator-id-20\" class=\"sk-toggleable__label sk-toggleable__label-arrow\">KNeighborsRegressor</label><div class=\"sk-toggleable__content\"><pre>KNeighborsRegressor()</pre></div></div></div></div></div></div></div></div></div></div></div></div>"
            ]
          },
          "metadata": {},
          "execution_count": 119
        }
      ]
    },
    {
      "cell_type": "code",
      "source": [
        "gridsearch.best_estimator_"
      ],
      "metadata": {
        "colab": {
          "base_uri": "https://localhost:8080/",
          "height": 171
        },
        "id": "mvvUNsoInAHA",
        "outputId": "653f1cc7-d193-469f-9a4d-3d0fe4ed6532"
      },
      "execution_count": null,
      "outputs": [
        {
          "output_type": "execute_result",
          "data": {
            "text/plain": [
              "Pipeline(steps=[('scaler', StandardScaler()),\n",
              "                ('knn', KNeighborsRegressor(n_neighbors=26))])"
            ],
            "text/html": [
              "<style>#sk-container-id-6 {color: black;background-color: white;}#sk-container-id-6 pre{padding: 0;}#sk-container-id-6 div.sk-toggleable {background-color: white;}#sk-container-id-6 label.sk-toggleable__label {cursor: pointer;display: block;width: 100%;margin-bottom: 0;padding: 0.3em;box-sizing: border-box;text-align: center;}#sk-container-id-6 label.sk-toggleable__label-arrow:before {content: \"▸\";float: left;margin-right: 0.25em;color: #696969;}#sk-container-id-6 label.sk-toggleable__label-arrow:hover:before {color: black;}#sk-container-id-6 div.sk-estimator:hover label.sk-toggleable__label-arrow:before {color: black;}#sk-container-id-6 div.sk-toggleable__content {max-height: 0;max-width: 0;overflow: hidden;text-align: left;background-color: #f0f8ff;}#sk-container-id-6 div.sk-toggleable__content pre {margin: 0.2em;color: black;border-radius: 0.25em;background-color: #f0f8ff;}#sk-container-id-6 input.sk-toggleable__control:checked~div.sk-toggleable__content {max-height: 200px;max-width: 100%;overflow: auto;}#sk-container-id-6 input.sk-toggleable__control:checked~label.sk-toggleable__label-arrow:before {content: \"▾\";}#sk-container-id-6 div.sk-estimator input.sk-toggleable__control:checked~label.sk-toggleable__label {background-color: #d4ebff;}#sk-container-id-6 div.sk-label input.sk-toggleable__control:checked~label.sk-toggleable__label {background-color: #d4ebff;}#sk-container-id-6 input.sk-hidden--visually {border: 0;clip: rect(1px 1px 1px 1px);clip: rect(1px, 1px, 1px, 1px);height: 1px;margin: -1px;overflow: hidden;padding: 0;position: absolute;width: 1px;}#sk-container-id-6 div.sk-estimator {font-family: monospace;background-color: #f0f8ff;border: 1px dotted black;border-radius: 0.25em;box-sizing: border-box;margin-bottom: 0.5em;}#sk-container-id-6 div.sk-estimator:hover {background-color: #d4ebff;}#sk-container-id-6 div.sk-parallel-item::after {content: \"\";width: 100%;border-bottom: 1px solid gray;flex-grow: 1;}#sk-container-id-6 div.sk-label:hover label.sk-toggleable__label {background-color: #d4ebff;}#sk-container-id-6 div.sk-serial::before {content: \"\";position: absolute;border-left: 1px solid gray;box-sizing: border-box;top: 0;bottom: 0;left: 50%;z-index: 0;}#sk-container-id-6 div.sk-serial {display: flex;flex-direction: column;align-items: center;background-color: white;padding-right: 0.2em;padding-left: 0.2em;position: relative;}#sk-container-id-6 div.sk-item {position: relative;z-index: 1;}#sk-container-id-6 div.sk-parallel {display: flex;align-items: stretch;justify-content: center;background-color: white;position: relative;}#sk-container-id-6 div.sk-item::before, #sk-container-id-6 div.sk-parallel-item::before {content: \"\";position: absolute;border-left: 1px solid gray;box-sizing: border-box;top: 0;bottom: 0;left: 50%;z-index: -1;}#sk-container-id-6 div.sk-parallel-item {display: flex;flex-direction: column;z-index: 1;position: relative;background-color: white;}#sk-container-id-6 div.sk-parallel-item:first-child::after {align-self: flex-end;width: 50%;}#sk-container-id-6 div.sk-parallel-item:last-child::after {align-self: flex-start;width: 50%;}#sk-container-id-6 div.sk-parallel-item:only-child::after {width: 0;}#sk-container-id-6 div.sk-dashed-wrapped {border: 1px dashed gray;margin: 0 0.4em 0.5em 0.4em;box-sizing: border-box;padding-bottom: 0.4em;background-color: white;}#sk-container-id-6 div.sk-label label {font-family: monospace;font-weight: bold;display: inline-block;line-height: 1.2em;}#sk-container-id-6 div.sk-label-container {text-align: center;}#sk-container-id-6 div.sk-container {/* jupyter's `normalize.less` sets `[hidden] { display: none; }` but bootstrap.min.css set `[hidden] { display: none !important; }` so we also need the `!important` here to be able to override the default hidden behavior on the sphinx rendered scikit-learn.org. See: https://github.com/scikit-learn/scikit-learn/issues/21755 */display: inline-block !important;position: relative;}#sk-container-id-6 div.sk-text-repr-fallback {display: none;}</style><div id=\"sk-container-id-6\" class=\"sk-top-container\"><div class=\"sk-text-repr-fallback\"><pre>Pipeline(steps=[(&#x27;scaler&#x27;, StandardScaler()),\n",
              "                (&#x27;knn&#x27;, KNeighborsRegressor(n_neighbors=26))])</pre><b>In a Jupyter environment, please rerun this cell to show the HTML representation or trust the notebook. <br />On GitHub, the HTML representation is unable to render, please try loading this page with nbviewer.org.</b></div><div class=\"sk-container\" hidden><div class=\"sk-item sk-dashed-wrapped\"><div class=\"sk-label-container\"><div class=\"sk-label sk-toggleable\"><input class=\"sk-toggleable__control sk-hidden--visually\" id=\"sk-estimator-id-21\" type=\"checkbox\" ><label for=\"sk-estimator-id-21\" class=\"sk-toggleable__label sk-toggleable__label-arrow\">Pipeline</label><div class=\"sk-toggleable__content\"><pre>Pipeline(steps=[(&#x27;scaler&#x27;, StandardScaler()),\n",
              "                (&#x27;knn&#x27;, KNeighborsRegressor(n_neighbors=26))])</pre></div></div></div><div class=\"sk-serial\"><div class=\"sk-item\"><div class=\"sk-estimator sk-toggleable\"><input class=\"sk-toggleable__control sk-hidden--visually\" id=\"sk-estimator-id-22\" type=\"checkbox\" ><label for=\"sk-estimator-id-22\" class=\"sk-toggleable__label sk-toggleable__label-arrow\">StandardScaler</label><div class=\"sk-toggleable__content\"><pre>StandardScaler()</pre></div></div></div><div class=\"sk-item\"><div class=\"sk-estimator sk-toggleable\"><input class=\"sk-toggleable__control sk-hidden--visually\" id=\"sk-estimator-id-23\" type=\"checkbox\" ><label for=\"sk-estimator-id-23\" class=\"sk-toggleable__label sk-toggleable__label-arrow\">KNeighborsRegressor</label><div class=\"sk-toggleable__content\"><pre>KNeighborsRegressor(n_neighbors=26)</pre></div></div></div></div></div></div></div>"
            ]
          },
          "metadata": {},
          "execution_count": 120
        }
      ]
    }
  ]
}